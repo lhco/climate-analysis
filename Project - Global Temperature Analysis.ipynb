{
 "cells": [
  {
   "cell_type": "markdown",
   "metadata": {},
   "source": [
    "# Analysing Global Land Temperatures Data from 1750 to 2015\n",
    "\n",
    "This dataset has been sourced from Kaggle: Climate Change: Earth Surface Temperature Data\n",
    "    \n",
    "The original dataset can be found here: https://www.kaggle.com/berkeleyearth/climate-change-earth-surface-temperature-data\n",
    "\n",
    "\n",
    "# Reading the Dataset\n",
    "\n",
    "Here is a sample of what the raw dataset looks like:"
   ]
  },
  {
   "cell_type": "code",
   "execution_count": 6,
   "metadata": {},
   "outputs": [
    {
     "data": {
      "text/html": [
       "        <script type=\"text/javascript\">\n",
       "        window.PlotlyConfig = {MathJaxConfig: 'local'};\n",
       "        if (window.MathJax) {MathJax.Hub.Config({SVG: {font: \"STIX-Web\"}});}\n",
       "        if (typeof require !== 'undefined') {\n",
       "        require.undef(\"plotly\");\n",
       "        requirejs.config({\n",
       "            paths: {\n",
       "                'plotly': ['https://cdn.plot.ly/plotly-latest.min']\n",
       "            }\n",
       "        });\n",
       "        require(['plotly'], function(Plotly) {\n",
       "            window._Plotly = Plotly;\n",
       "        });\n",
       "        }\n",
       "        </script>\n",
       "        "
      ]
     },
     "metadata": {},
     "output_type": "display_data"
    }
   ],
   "source": [
    "import numpy as np # linear algebra\n",
    "import pandas as pd # data processing, CSV file I/O (e.g. pd.read_csv)\n",
    "import matplotlib.pyplot as plt\n",
    "%matplotlib inline\n",
    "import plotly.offline as py\n",
    "py.init_notebook_mode(connected=True)\n",
    "import plotly.graph_objs as go\n",
    "import plotly.tools as tls\n",
    "import seaborn as sns\n",
    "import warnings\n",
    "warnings.filterwarnings('ignore')"
   ]
  },
  {
   "cell_type": "code",
   "execution_count": 7,
   "metadata": {},
   "outputs": [
    {
     "data": {
      "text/html": [
       "<div>\n",
       "<style scoped>\n",
       "    .dataframe tbody tr th:only-of-type {\n",
       "        vertical-align: middle;\n",
       "    }\n",
       "\n",
       "    .dataframe tbody tr th {\n",
       "        vertical-align: top;\n",
       "    }\n",
       "\n",
       "    .dataframe thead th {\n",
       "        text-align: right;\n",
       "    }\n",
       "</style>\n",
       "<table border=\"1\" class=\"dataframe\">\n",
       "  <thead>\n",
       "    <tr style=\"text-align: right;\">\n",
       "      <th></th>\n",
       "      <th>dt</th>\n",
       "      <th>LandAverageTemperature</th>\n",
       "      <th>LandAverageTemperatureUncertainty</th>\n",
       "      <th>LandMaxTemperature</th>\n",
       "      <th>LandMaxTemperatureUncertainty</th>\n",
       "      <th>LandMinTemperature</th>\n",
       "      <th>LandMinTemperatureUncertainty</th>\n",
       "      <th>LandAndOceanAverageTemperature</th>\n",
       "      <th>LandAndOceanAverageTemperatureUncertainty</th>\n",
       "    </tr>\n",
       "  </thead>\n",
       "  <tbody>\n",
       "    <tr>\n",
       "      <td>0</td>\n",
       "      <td>1750-01-01</td>\n",
       "      <td>3.034</td>\n",
       "      <td>3.574</td>\n",
       "      <td>NaN</td>\n",
       "      <td>NaN</td>\n",
       "      <td>NaN</td>\n",
       "      <td>NaN</td>\n",
       "      <td>NaN</td>\n",
       "      <td>NaN</td>\n",
       "    </tr>\n",
       "    <tr>\n",
       "      <td>1</td>\n",
       "      <td>1750-02-01</td>\n",
       "      <td>3.083</td>\n",
       "      <td>3.702</td>\n",
       "      <td>NaN</td>\n",
       "      <td>NaN</td>\n",
       "      <td>NaN</td>\n",
       "      <td>NaN</td>\n",
       "      <td>NaN</td>\n",
       "      <td>NaN</td>\n",
       "    </tr>\n",
       "    <tr>\n",
       "      <td>2</td>\n",
       "      <td>1750-03-01</td>\n",
       "      <td>5.626</td>\n",
       "      <td>3.076</td>\n",
       "      <td>NaN</td>\n",
       "      <td>NaN</td>\n",
       "      <td>NaN</td>\n",
       "      <td>NaN</td>\n",
       "      <td>NaN</td>\n",
       "      <td>NaN</td>\n",
       "    </tr>\n",
       "    <tr>\n",
       "      <td>3</td>\n",
       "      <td>1750-04-01</td>\n",
       "      <td>8.490</td>\n",
       "      <td>2.451</td>\n",
       "      <td>NaN</td>\n",
       "      <td>NaN</td>\n",
       "      <td>NaN</td>\n",
       "      <td>NaN</td>\n",
       "      <td>NaN</td>\n",
       "      <td>NaN</td>\n",
       "    </tr>\n",
       "    <tr>\n",
       "      <td>4</td>\n",
       "      <td>1750-05-01</td>\n",
       "      <td>11.573</td>\n",
       "      <td>2.072</td>\n",
       "      <td>NaN</td>\n",
       "      <td>NaN</td>\n",
       "      <td>NaN</td>\n",
       "      <td>NaN</td>\n",
       "      <td>NaN</td>\n",
       "      <td>NaN</td>\n",
       "    </tr>\n",
       "  </tbody>\n",
       "</table>\n",
       "</div>"
      ],
      "text/plain": [
       "           dt  LandAverageTemperature  LandAverageTemperatureUncertainty  \\\n",
       "0  1750-01-01                   3.034                              3.574   \n",
       "1  1750-02-01                   3.083                              3.702   \n",
       "2  1750-03-01                   5.626                              3.076   \n",
       "3  1750-04-01                   8.490                              2.451   \n",
       "4  1750-05-01                  11.573                              2.072   \n",
       "\n",
       "   LandMaxTemperature  LandMaxTemperatureUncertainty  LandMinTemperature  \\\n",
       "0                 NaN                            NaN                 NaN   \n",
       "1                 NaN                            NaN                 NaN   \n",
       "2                 NaN                            NaN                 NaN   \n",
       "3                 NaN                            NaN                 NaN   \n",
       "4                 NaN                            NaN                 NaN   \n",
       "\n",
       "   LandMinTemperatureUncertainty  LandAndOceanAverageTemperature  \\\n",
       "0                            NaN                             NaN   \n",
       "1                            NaN                             NaN   \n",
       "2                            NaN                             NaN   \n",
       "3                            NaN                             NaN   \n",
       "4                            NaN                             NaN   \n",
       "\n",
       "   LandAndOceanAverageTemperatureUncertainty  \n",
       "0                                        NaN  \n",
       "1                                        NaN  \n",
       "2                                        NaN  \n",
       "3                                        NaN  \n",
       "4                                        NaN  "
      ]
     },
     "execution_count": 7,
     "metadata": {},
     "output_type": "execute_result"
    }
   ],
   "source": [
    "df = pd.read_csv('/Users/lindyhua/Library/Mobile Documents/com~apple~CloudDocs/Documents/Learning with Hands/Data Analytics/Datasets/climate-change-earth-surface-temperature-data/GlobalTemperatures.csv')\n",
    "df.head()"
   ]
  },
  {
   "cell_type": "markdown",
   "metadata": {},
   "source": [
    "# Creating 'Year' value to analyse by year\n",
    "\n",
    "Then I create a few new columns to make the analysis easier."
   ]
  },
  {
   "cell_type": "code",
   "execution_count": 8,
   "metadata": {},
   "outputs": [
    {
     "data": {
      "text/html": [
       "<div>\n",
       "<style scoped>\n",
       "    .dataframe tbody tr th:only-of-type {\n",
       "        vertical-align: middle;\n",
       "    }\n",
       "\n",
       "    .dataframe tbody tr th {\n",
       "        vertical-align: top;\n",
       "    }\n",
       "\n",
       "    .dataframe thead th {\n",
       "        text-align: right;\n",
       "    }\n",
       "</style>\n",
       "<table border=\"1\" class=\"dataframe\">\n",
       "  <thead>\n",
       "    <tr style=\"text-align: right;\">\n",
       "      <th></th>\n",
       "      <th>dt</th>\n",
       "      <th>LandAverageTemperature</th>\n",
       "      <th>LandAverageTemperatureUncertainty</th>\n",
       "      <th>LandMaxTemperature</th>\n",
       "      <th>LandMaxTemperatureUncertainty</th>\n",
       "      <th>LandMinTemperature</th>\n",
       "      <th>LandMinTemperatureUncertainty</th>\n",
       "      <th>LandAndOceanAverageTemperature</th>\n",
       "      <th>LandAndOceanAverageTemperatureUncertainty</th>\n",
       "      <th>month</th>\n",
       "      <th>year</th>\n",
       "    </tr>\n",
       "  </thead>\n",
       "  <tbody>\n",
       "    <tr>\n",
       "      <td>0</td>\n",
       "      <td>1750-01-01</td>\n",
       "      <td>3.034</td>\n",
       "      <td>3.574</td>\n",
       "      <td>NaN</td>\n",
       "      <td>NaN</td>\n",
       "      <td>NaN</td>\n",
       "      <td>NaN</td>\n",
       "      <td>NaN</td>\n",
       "      <td>NaN</td>\n",
       "      <td>1</td>\n",
       "      <td>1750</td>\n",
       "    </tr>\n",
       "    <tr>\n",
       "      <td>1</td>\n",
       "      <td>1750-02-01</td>\n",
       "      <td>3.083</td>\n",
       "      <td>3.702</td>\n",
       "      <td>NaN</td>\n",
       "      <td>NaN</td>\n",
       "      <td>NaN</td>\n",
       "      <td>NaN</td>\n",
       "      <td>NaN</td>\n",
       "      <td>NaN</td>\n",
       "      <td>2</td>\n",
       "      <td>1750</td>\n",
       "    </tr>\n",
       "    <tr>\n",
       "      <td>2</td>\n",
       "      <td>1750-03-01</td>\n",
       "      <td>5.626</td>\n",
       "      <td>3.076</td>\n",
       "      <td>NaN</td>\n",
       "      <td>NaN</td>\n",
       "      <td>NaN</td>\n",
       "      <td>NaN</td>\n",
       "      <td>NaN</td>\n",
       "      <td>NaN</td>\n",
       "      <td>3</td>\n",
       "      <td>1750</td>\n",
       "    </tr>\n",
       "    <tr>\n",
       "      <td>3</td>\n",
       "      <td>1750-04-01</td>\n",
       "      <td>8.490</td>\n",
       "      <td>2.451</td>\n",
       "      <td>NaN</td>\n",
       "      <td>NaN</td>\n",
       "      <td>NaN</td>\n",
       "      <td>NaN</td>\n",
       "      <td>NaN</td>\n",
       "      <td>NaN</td>\n",
       "      <td>4</td>\n",
       "      <td>1750</td>\n",
       "    </tr>\n",
       "    <tr>\n",
       "      <td>4</td>\n",
       "      <td>1750-05-01</td>\n",
       "      <td>11.573</td>\n",
       "      <td>2.072</td>\n",
       "      <td>NaN</td>\n",
       "      <td>NaN</td>\n",
       "      <td>NaN</td>\n",
       "      <td>NaN</td>\n",
       "      <td>NaN</td>\n",
       "      <td>NaN</td>\n",
       "      <td>5</td>\n",
       "      <td>1750</td>\n",
       "    </tr>\n",
       "  </tbody>\n",
       "</table>\n",
       "</div>"
      ],
      "text/plain": [
       "           dt  LandAverageTemperature  LandAverageTemperatureUncertainty  \\\n",
       "0  1750-01-01                   3.034                              3.574   \n",
       "1  1750-02-01                   3.083                              3.702   \n",
       "2  1750-03-01                   5.626                              3.076   \n",
       "3  1750-04-01                   8.490                              2.451   \n",
       "4  1750-05-01                  11.573                              2.072   \n",
       "\n",
       "   LandMaxTemperature  LandMaxTemperatureUncertainty  LandMinTemperature  \\\n",
       "0                 NaN                            NaN                 NaN   \n",
       "1                 NaN                            NaN                 NaN   \n",
       "2                 NaN                            NaN                 NaN   \n",
       "3                 NaN                            NaN                 NaN   \n",
       "4                 NaN                            NaN                 NaN   \n",
       "\n",
       "   LandMinTemperatureUncertainty  LandAndOceanAverageTemperature  \\\n",
       "0                            NaN                             NaN   \n",
       "1                            NaN                             NaN   \n",
       "2                            NaN                             NaN   \n",
       "3                            NaN                             NaN   \n",
       "4                            NaN                             NaN   \n",
       "\n",
       "   LandAndOceanAverageTemperatureUncertainty  month  year  \n",
       "0                                        NaN      1  1750  \n",
       "1                                        NaN      2  1750  \n",
       "2                                        NaN      3  1750  \n",
       "3                                        NaN      4  1750  \n",
       "4                                        NaN      5  1750  "
      ]
     },
     "execution_count": 8,
     "metadata": {},
     "output_type": "execute_result"
    }
   ],
   "source": [
    "import datetime\n",
    "df['month'] = pd.DatetimeIndex(df['dt']).month\n",
    "df['year'] = pd.DatetimeIndex(df['dt']).year\n",
    "df.head()"
   ]
  },
  {
   "cell_type": "markdown",
   "metadata": {},
   "source": [
    "# Aggregating the data by year"
   ]
  },
  {
   "cell_type": "code",
   "execution_count": 11,
   "metadata": {},
   "outputs": [
    {
     "data": {
      "text/html": [
       "<div>\n",
       "<style scoped>\n",
       "    .dataframe tbody tr th:only-of-type {\n",
       "        vertical-align: middle;\n",
       "    }\n",
       "\n",
       "    .dataframe tbody tr th {\n",
       "        vertical-align: top;\n",
       "    }\n",
       "\n",
       "    .dataframe thead th {\n",
       "        text-align: right;\n",
       "    }\n",
       "</style>\n",
       "<table border=\"1\" class=\"dataframe\">\n",
       "  <thead>\n",
       "    <tr style=\"text-align: right;\">\n",
       "      <th></th>\n",
       "      <th>dt</th>\n",
       "      <th>LandAverageTemperature</th>\n",
       "    </tr>\n",
       "  </thead>\n",
       "  <tbody>\n",
       "    <tr>\n",
       "      <td>0</td>\n",
       "      <td>1750-01-01</td>\n",
       "      <td>3.034</td>\n",
       "    </tr>\n",
       "    <tr>\n",
       "      <td>1</td>\n",
       "      <td>1750-02-01</td>\n",
       "      <td>3.083</td>\n",
       "    </tr>\n",
       "    <tr>\n",
       "      <td>2</td>\n",
       "      <td>1750-03-01</td>\n",
       "      <td>5.626</td>\n",
       "    </tr>\n",
       "    <tr>\n",
       "      <td>3</td>\n",
       "      <td>1750-04-01</td>\n",
       "      <td>8.490</td>\n",
       "    </tr>\n",
       "    <tr>\n",
       "      <td>4</td>\n",
       "      <td>1750-05-01</td>\n",
       "      <td>11.573</td>\n",
       "    </tr>\n",
       "    <tr>\n",
       "      <td>...</td>\n",
       "      <td>...</td>\n",
       "      <td>...</td>\n",
       "    </tr>\n",
       "    <tr>\n",
       "      <td>3187</td>\n",
       "      <td>2015-08-01</td>\n",
       "      <td>14.755</td>\n",
       "    </tr>\n",
       "    <tr>\n",
       "      <td>3188</td>\n",
       "      <td>2015-09-01</td>\n",
       "      <td>12.999</td>\n",
       "    </tr>\n",
       "    <tr>\n",
       "      <td>3189</td>\n",
       "      <td>2015-10-01</td>\n",
       "      <td>10.801</td>\n",
       "    </tr>\n",
       "    <tr>\n",
       "      <td>3190</td>\n",
       "      <td>2015-11-01</td>\n",
       "      <td>7.433</td>\n",
       "    </tr>\n",
       "    <tr>\n",
       "      <td>3191</td>\n",
       "      <td>2015-12-01</td>\n",
       "      <td>5.518</td>\n",
       "    </tr>\n",
       "  </tbody>\n",
       "</table>\n",
       "<p>3180 rows × 2 columns</p>\n",
       "</div>"
      ],
      "text/plain": [
       "              dt  LandAverageTemperature\n",
       "0     1750-01-01                   3.034\n",
       "1     1750-02-01                   3.083\n",
       "2     1750-03-01                   5.626\n",
       "3     1750-04-01                   8.490\n",
       "4     1750-05-01                  11.573\n",
       "...          ...                     ...\n",
       "3187  2015-08-01                  14.755\n",
       "3188  2015-09-01                  12.999\n",
       "3189  2015-10-01                  10.801\n",
       "3190  2015-11-01                   7.433\n",
       "3191  2015-12-01                   5.518\n",
       "\n",
       "[3180 rows x 2 columns]"
      ]
     },
     "execution_count": 11,
     "metadata": {},
     "output_type": "execute_result"
    }
   ],
   "source": [
    "global3=pd.read_csv('/Users/lindyhua/Library/Mobile Documents/com~apple~CloudDocs/Documents/Learning with Hands/Data Analytics/Datasets/climate-change-earth-surface-temperature-data/GlobalTemperatures.csv')\n",
    "global3=global3[['dt','LandAverageTemperature']]\n",
    "global3.dropna(inplace=True)\n",
    "global3"
   ]
  },
  {
   "cell_type": "code",
   "execution_count": 12,
   "metadata": {},
   "outputs": [
    {
     "data": {
      "text/html": [
       "<div>\n",
       "<style scoped>\n",
       "    .dataframe tbody tr th:only-of-type {\n",
       "        vertical-align: middle;\n",
       "    }\n",
       "\n",
       "    .dataframe tbody tr th {\n",
       "        vertical-align: top;\n",
       "    }\n",
       "\n",
       "    .dataframe thead th {\n",
       "        text-align: right;\n",
       "    }\n",
       "</style>\n",
       "<table border=\"1\" class=\"dataframe\">\n",
       "  <thead>\n",
       "    <tr style=\"text-align: right;\">\n",
       "      <th></th>\n",
       "      <th>dt</th>\n",
       "      <th>LandAverageTemperature</th>\n",
       "    </tr>\n",
       "  </thead>\n",
       "  <tbody>\n",
       "    <tr>\n",
       "      <td>0</td>\n",
       "      <td>1750</td>\n",
       "      <td>3.034</td>\n",
       "    </tr>\n",
       "    <tr>\n",
       "      <td>1</td>\n",
       "      <td>1750</td>\n",
       "      <td>3.083</td>\n",
       "    </tr>\n",
       "    <tr>\n",
       "      <td>2</td>\n",
       "      <td>1750</td>\n",
       "      <td>5.626</td>\n",
       "    </tr>\n",
       "    <tr>\n",
       "      <td>3</td>\n",
       "      <td>1750</td>\n",
       "      <td>8.490</td>\n",
       "    </tr>\n",
       "    <tr>\n",
       "      <td>4</td>\n",
       "      <td>1750</td>\n",
       "      <td>11.573</td>\n",
       "    </tr>\n",
       "    <tr>\n",
       "      <td>...</td>\n",
       "      <td>...</td>\n",
       "      <td>...</td>\n",
       "    </tr>\n",
       "    <tr>\n",
       "      <td>3187</td>\n",
       "      <td>2015</td>\n",
       "      <td>14.755</td>\n",
       "    </tr>\n",
       "    <tr>\n",
       "      <td>3188</td>\n",
       "      <td>2015</td>\n",
       "      <td>12.999</td>\n",
       "    </tr>\n",
       "    <tr>\n",
       "      <td>3189</td>\n",
       "      <td>2015</td>\n",
       "      <td>10.801</td>\n",
       "    </tr>\n",
       "    <tr>\n",
       "      <td>3190</td>\n",
       "      <td>2015</td>\n",
       "      <td>7.433</td>\n",
       "    </tr>\n",
       "    <tr>\n",
       "      <td>3191</td>\n",
       "      <td>2015</td>\n",
       "      <td>5.518</td>\n",
       "    </tr>\n",
       "  </tbody>\n",
       "</table>\n",
       "<p>3180 rows × 2 columns</p>\n",
       "</div>"
      ],
      "text/plain": [
       "        dt  LandAverageTemperature\n",
       "0     1750                   3.034\n",
       "1     1750                   3.083\n",
       "2     1750                   5.626\n",
       "3     1750                   8.490\n",
       "4     1750                  11.573\n",
       "...    ...                     ...\n",
       "3187  2015                  14.755\n",
       "3188  2015                  12.999\n",
       "3189  2015                  10.801\n",
       "3190  2015                   7.433\n",
       "3191  2015                   5.518\n",
       "\n",
       "[3180 rows x 2 columns]"
      ]
     },
     "execution_count": 12,
     "metadata": {},
     "output_type": "execute_result"
    }
   ],
   "source": [
    "import datetime\n",
    "global3['dt'] = pd.DatetimeIndex(global3['dt']).year\n",
    "global3"
   ]
  },
  {
   "cell_type": "code",
   "execution_count": 13,
   "metadata": {},
   "outputs": [
    {
     "data": {
      "text/html": [
       "<div>\n",
       "<style scoped>\n",
       "    .dataframe tbody tr th:only-of-type {\n",
       "        vertical-align: middle;\n",
       "    }\n",
       "\n",
       "    .dataframe tbody tr th {\n",
       "        vertical-align: top;\n",
       "    }\n",
       "\n",
       "    .dataframe thead th {\n",
       "        text-align: right;\n",
       "    }\n",
       "</style>\n",
       "<table border=\"1\" class=\"dataframe\">\n",
       "  <thead>\n",
       "    <tr style=\"text-align: right;\">\n",
       "      <th></th>\n",
       "      <th>dt</th>\n",
       "      <th>LandAverageTemperature</th>\n",
       "    </tr>\n",
       "  </thead>\n",
       "  <tbody>\n",
       "    <tr>\n",
       "      <td>0</td>\n",
       "      <td>1750</td>\n",
       "      <td>8.719364</td>\n",
       "    </tr>\n",
       "    <tr>\n",
       "      <td>1</td>\n",
       "      <td>1751</td>\n",
       "      <td>7.976143</td>\n",
       "    </tr>\n",
       "    <tr>\n",
       "      <td>2</td>\n",
       "      <td>1752</td>\n",
       "      <td>5.779833</td>\n",
       "    </tr>\n",
       "    <tr>\n",
       "      <td>3</td>\n",
       "      <td>1753</td>\n",
       "      <td>8.388083</td>\n",
       "    </tr>\n",
       "    <tr>\n",
       "      <td>4</td>\n",
       "      <td>1754</td>\n",
       "      <td>8.469333</td>\n",
       "    </tr>\n",
       "    <tr>\n",
       "      <td>...</td>\n",
       "      <td>...</td>\n",
       "      <td>...</td>\n",
       "    </tr>\n",
       "    <tr>\n",
       "      <td>261</td>\n",
       "      <td>2011</td>\n",
       "      <td>9.516000</td>\n",
       "    </tr>\n",
       "    <tr>\n",
       "      <td>262</td>\n",
       "      <td>2012</td>\n",
       "      <td>9.507333</td>\n",
       "    </tr>\n",
       "    <tr>\n",
       "      <td>263</td>\n",
       "      <td>2013</td>\n",
       "      <td>9.606500</td>\n",
       "    </tr>\n",
       "    <tr>\n",
       "      <td>264</td>\n",
       "      <td>2014</td>\n",
       "      <td>9.570667</td>\n",
       "    </tr>\n",
       "    <tr>\n",
       "      <td>265</td>\n",
       "      <td>2015</td>\n",
       "      <td>9.831000</td>\n",
       "    </tr>\n",
       "  </tbody>\n",
       "</table>\n",
       "<p>266 rows × 2 columns</p>\n",
       "</div>"
      ],
      "text/plain": [
       "       dt  LandAverageTemperature\n",
       "0    1750                8.719364\n",
       "1    1751                7.976143\n",
       "2    1752                5.779833\n",
       "3    1753                8.388083\n",
       "4    1754                8.469333\n",
       "..    ...                     ...\n",
       "261  2011                9.516000\n",
       "262  2012                9.507333\n",
       "263  2013                9.606500\n",
       "264  2014                9.570667\n",
       "265  2015                9.831000\n",
       "\n",
       "[266 rows x 2 columns]"
      ]
     },
     "execution_count": 13,
     "metadata": {},
     "output_type": "execute_result"
    }
   ],
   "source": [
    "global3 = global3.pivot_table(index='dt', values='LandAverageTemperature', aggfunc='mean').reset_index()\n",
    "global3"
   ]
  },
  {
   "cell_type": "markdown",
   "metadata": {},
   "source": [
    "# Chart: Average Land Temperature 1750 - 2015"
   ]
  },
  {
   "cell_type": "code",
   "execution_count": 14,
   "metadata": {},
   "outputs": [
    {
     "data": {
      "application/vnd.plotly.v1+json": {
       "config": {
        "linkText": "Export to plot.ly",
        "plotlyServerURL": "https://plot.ly",
        "showLink": false
       },
       "data": [
        {
         "mode": "lines",
         "type": "scatter",
         "x": [
          1750,
          1751,
          1752,
          1753,
          1754,
          1755,
          1756,
          1757,
          1758,
          1759,
          1760,
          1761,
          1762,
          1763,
          1764,
          1765,
          1766,
          1767,
          1768,
          1769,
          1770,
          1771,
          1772,
          1773,
          1774,
          1775,
          1776,
          1777,
          1778,
          1779,
          1780,
          1781,
          1782,
          1783,
          1784,
          1785,
          1786,
          1787,
          1788,
          1789,
          1790,
          1791,
          1792,
          1793,
          1794,
          1795,
          1796,
          1797,
          1798,
          1799,
          1800,
          1801,
          1802,
          1803,
          1804,
          1805,
          1806,
          1807,
          1808,
          1809,
          1810,
          1811,
          1812,
          1813,
          1814,
          1815,
          1816,
          1817,
          1818,
          1819,
          1820,
          1821,
          1822,
          1823,
          1824,
          1825,
          1826,
          1827,
          1828,
          1829,
          1830,
          1831,
          1832,
          1833,
          1834,
          1835,
          1836,
          1837,
          1838,
          1839,
          1840,
          1841,
          1842,
          1843,
          1844,
          1845,
          1846,
          1847,
          1848,
          1849,
          1850,
          1851,
          1852,
          1853,
          1854,
          1855,
          1856,
          1857,
          1858,
          1859,
          1860,
          1861,
          1862,
          1863,
          1864,
          1865,
          1866,
          1867,
          1868,
          1869,
          1870,
          1871,
          1872,
          1873,
          1874,
          1875,
          1876,
          1877,
          1878,
          1879,
          1880,
          1881,
          1882,
          1883,
          1884,
          1885,
          1886,
          1887,
          1888,
          1889,
          1890,
          1891,
          1892,
          1893,
          1894,
          1895,
          1896,
          1897,
          1898,
          1899,
          1900,
          1901,
          1902,
          1903,
          1904,
          1905,
          1906,
          1907,
          1908,
          1909,
          1910,
          1911,
          1912,
          1913,
          1914,
          1915,
          1916,
          1917,
          1918,
          1919,
          1920,
          1921,
          1922,
          1923,
          1924,
          1925,
          1926,
          1927,
          1928,
          1929,
          1930,
          1931,
          1932,
          1933,
          1934,
          1935,
          1936,
          1937,
          1938,
          1939,
          1940,
          1941,
          1942,
          1943,
          1944,
          1945,
          1946,
          1947,
          1948,
          1949,
          1950,
          1951,
          1952,
          1953,
          1954,
          1955,
          1956,
          1957,
          1958,
          1959,
          1960,
          1961,
          1962,
          1963,
          1964,
          1965,
          1966,
          1967,
          1968,
          1969,
          1970,
          1971,
          1972,
          1973,
          1974,
          1975,
          1976,
          1977,
          1978,
          1979,
          1980,
          1981,
          1982,
          1983,
          1984,
          1985,
          1986,
          1987,
          1988,
          1989,
          1990,
          1991,
          1992,
          1993,
          1994,
          1995,
          1996,
          1997,
          1998,
          1999,
          2000,
          2001,
          2002,
          2003,
          2004,
          2005,
          2006,
          2007,
          2008,
          2009,
          2010,
          2011,
          2012,
          2013,
          2014,
          2015
         ],
         "y": [
          8.719363636363637,
          7.9761428571428565,
          5.7798333333333325,
          8.388083333333332,
          8.469333333333335,
          8.355583333333334,
          8.849583333333333,
          9.022,
          6.743583333333333,
          7.985083333333333,
          7.185166666666667,
          8.772499999999999,
          8.6065,
          7.496749999999999,
          8.400333333333332,
          8.251916666666666,
          8.405666666666667,
          8.221499999999999,
          6.781333333333333,
          7.694583333333334,
          7.691916666666667,
          7.8531666666666675,
          8.1935,
          8.2215,
          8.772166666666665,
          9.183083333333334,
          8.304,
          8.256250000000001,
          8.54225,
          8.98325,
          9.432916666666667,
          8.102583333333332,
          7.901249999999998,
          7.680833333333333,
          7.862000000000001,
          7.3629999999999995,
          8.258166666666666,
          8.031833333333333,
          8.447166666666666,
          8.334166666666667,
          7.982333333333333,
          8.23425,
          8.089,
          8.229166666666666,
          8.526000000000002,
          8.350333333333333,
          8.270999999999999,
          8.510583333333335,
          8.67025,
          8.505749999999999,
          8.484250000000001,
          8.589666666666668,
          8.578166666666666,
          8.503,
          8.844833333333334,
          8.56275,
          8.434083333333332,
          8.281416666666665,
          7.626833333333333,
          7.076416666666667,
          6.922666666666665,
          6.859500000000001,
          7.046250000000001,
          7.7399166666666686,
          7.59175,
          7.239333333333334,
          6.9375,
          6.975666666666668,
          7.828916666666667,
          7.3691666666666675,
          7.616249999999998,
          8.090083333333332,
          8.188333333333334,
          7.7186666666666675,
          8.547166666666667,
          8.389333333333333,
          8.356583333333335,
          8.808749999999998,
          8.165333333333335,
          7.941833333333332,
          8.51675,
          7.639166666666667,
          7.450166666666667,
          8.013,
          8.14675,
          7.392499999999999,
          7.695833333333334,
          7.375666666666665,
          7.514916666666665,
          7.632249999999999,
          7.796250000000001,
          7.688166666666667,
          8.02275,
          8.173666666666666,
          7.646333333333334,
          7.851166666666668,
          8.55275,
          8.086,
          7.979500000000001,
          7.984416666666667,
          7.900666666666666,
          8.178583333333332,
          8.100166666666665,
          8.041833333333333,
          8.2105,
          8.110749999999998,
          7.995916666666666,
          7.758166666666668,
          8.10025,
          8.252,
          7.960833333333333,
          7.846500000000002,
          7.558583333333334,
          8.111833333333333,
          7.983583333333335,
          8.177833333333334,
          8.292166666666665,
          8.436333333333334,
          8.247916666666667,
          8.432083333333333,
          8.201333333333332,
          8.115083333333333,
          8.193833333333332,
          8.351083333333333,
          8.4335,
          7.859583333333334,
          8.080083333333333,
          8.539583333333333,
          8.829749999999999,
          8.165833333333333,
          8.118749999999999,
          8.270916666666666,
          8.128916666666667,
          7.976916666666665,
          7.773666666666667,
          7.919666666666668,
          7.954499999999999,
          7.914916666666667,
          8.0905,
          8.318999999999999,
          7.971666666666667,
          8.019333333333334,
          8.065833333333332,
          8.05675,
          8.161,
          8.147,
          8.214916666666666,
          8.293333333333335,
          8.177999999999999,
          8.396333333333333,
          8.501583333333333,
          8.541916666666665,
          8.304416666666667,
          8.220166666666668,
          8.090916666666667,
          8.225166666666665,
          8.379083333333332,
          7.947166666666667,
          8.186083333333334,
          8.17825,
          8.223,
          8.177000000000001,
          8.165416666666667,
          8.297749999999999,
          8.5905,
          8.593166666666665,
          8.22525,
          8.023333333333332,
          8.130833333333332,
          8.38225,
          8.35875,
          8.571,
          8.408,
          8.422166666666666,
          8.506833333333335,
          8.534416666666667,
          8.728833333333332,
          8.522083333333333,
          8.632166666666668,
          8.242416666666665,
          8.633583333333332,
          8.71925,
          8.705250000000001,
          8.33825,
          8.628333333333336,
          8.51575,
          8.554,
          8.698333333333332,
          8.863666666666665,
          8.760333333333334,
          8.764666666666667,
          8.768666666666668,
          8.728416666666666,
          8.755083333333333,
          8.845,
          8.584833333333332,
          8.676916666666669,
          8.797083333333333,
          8.74675,
          8.586749999999999,
          8.365250000000001,
          8.625666666666666,
          8.638250000000001,
          8.873750000000001,
          8.560666666666666,
          8.62625,
          8.279583333333333,
          8.7325,
          8.77375,
          8.732666666666665,
          8.58375,
          8.797666666666666,
          8.745916666666666,
          8.856,
          8.409666666666666,
          8.527416666666667,
          8.599333333333332,
          8.700083333333334,
          8.516333333333334,
          8.595083333333333,
          8.700916666666666,
          8.59925,
          8.499583333333334,
          8.948249999999998,
          8.4675,
          8.744833333333334,
          8.347249999999999,
          8.850249999999999,
          8.692749999999998,
          8.733416666666665,
          8.980333333333332,
          9.165833333333333,
          8.639166666666666,
          9.028166666666666,
          8.691833333333335,
          8.658,
          8.833583333333332,
          8.994416666666668,
          9.201583333333334,
          8.921999999999999,
          9.234166666666667,
          9.179416666666667,
          8.836583333333332,
          8.866583333333333,
          9.038749999999999,
          9.347083333333332,
          9.038916666666667,
          9.202583333333333,
          9.522666666666666,
          9.285083333333333,
          9.201166666666667,
          9.414583333333335,
          9.570416666666667,
          9.525583333333334,
          9.324583333333333,
          9.700916666666666,
          9.532499999999999,
          9.732166666666664,
          9.431750000000001,
          9.505250000000002,
          9.703083333333332,
          9.516,
          9.507333333333333,
          9.606499999999999,
          9.570666666666666,
          9.830999999999998
         ]
        }
       ],
       "layout": {
        "template": {
         "data": {
          "bar": [
           {
            "error_x": {
             "color": "#2a3f5f"
            },
            "error_y": {
             "color": "#2a3f5f"
            },
            "marker": {
             "line": {
              "color": "#E5ECF6",
              "width": 0.5
             }
            },
            "type": "bar"
           }
          ],
          "barpolar": [
           {
            "marker": {
             "line": {
              "color": "#E5ECF6",
              "width": 0.5
             }
            },
            "type": "barpolar"
           }
          ],
          "carpet": [
           {
            "aaxis": {
             "endlinecolor": "#2a3f5f",
             "gridcolor": "white",
             "linecolor": "white",
             "minorgridcolor": "white",
             "startlinecolor": "#2a3f5f"
            },
            "baxis": {
             "endlinecolor": "#2a3f5f",
             "gridcolor": "white",
             "linecolor": "white",
             "minorgridcolor": "white",
             "startlinecolor": "#2a3f5f"
            },
            "type": "carpet"
           }
          ],
          "choropleth": [
           {
            "colorbar": {
             "outlinewidth": 0,
             "ticks": ""
            },
            "type": "choropleth"
           }
          ],
          "contour": [
           {
            "colorbar": {
             "outlinewidth": 0,
             "ticks": ""
            },
            "colorscale": [
             [
              0,
              "#0d0887"
             ],
             [
              0.1111111111111111,
              "#46039f"
             ],
             [
              0.2222222222222222,
              "#7201a8"
             ],
             [
              0.3333333333333333,
              "#9c179e"
             ],
             [
              0.4444444444444444,
              "#bd3786"
             ],
             [
              0.5555555555555556,
              "#d8576b"
             ],
             [
              0.6666666666666666,
              "#ed7953"
             ],
             [
              0.7777777777777778,
              "#fb9f3a"
             ],
             [
              0.8888888888888888,
              "#fdca26"
             ],
             [
              1,
              "#f0f921"
             ]
            ],
            "type": "contour"
           }
          ],
          "contourcarpet": [
           {
            "colorbar": {
             "outlinewidth": 0,
             "ticks": ""
            },
            "type": "contourcarpet"
           }
          ],
          "heatmap": [
           {
            "colorbar": {
             "outlinewidth": 0,
             "ticks": ""
            },
            "colorscale": [
             [
              0,
              "#0d0887"
             ],
             [
              0.1111111111111111,
              "#46039f"
             ],
             [
              0.2222222222222222,
              "#7201a8"
             ],
             [
              0.3333333333333333,
              "#9c179e"
             ],
             [
              0.4444444444444444,
              "#bd3786"
             ],
             [
              0.5555555555555556,
              "#d8576b"
             ],
             [
              0.6666666666666666,
              "#ed7953"
             ],
             [
              0.7777777777777778,
              "#fb9f3a"
             ],
             [
              0.8888888888888888,
              "#fdca26"
             ],
             [
              1,
              "#f0f921"
             ]
            ],
            "type": "heatmap"
           }
          ],
          "heatmapgl": [
           {
            "colorbar": {
             "outlinewidth": 0,
             "ticks": ""
            },
            "colorscale": [
             [
              0,
              "#0d0887"
             ],
             [
              0.1111111111111111,
              "#46039f"
             ],
             [
              0.2222222222222222,
              "#7201a8"
             ],
             [
              0.3333333333333333,
              "#9c179e"
             ],
             [
              0.4444444444444444,
              "#bd3786"
             ],
             [
              0.5555555555555556,
              "#d8576b"
             ],
             [
              0.6666666666666666,
              "#ed7953"
             ],
             [
              0.7777777777777778,
              "#fb9f3a"
             ],
             [
              0.8888888888888888,
              "#fdca26"
             ],
             [
              1,
              "#f0f921"
             ]
            ],
            "type": "heatmapgl"
           }
          ],
          "histogram": [
           {
            "marker": {
             "colorbar": {
              "outlinewidth": 0,
              "ticks": ""
             }
            },
            "type": "histogram"
           }
          ],
          "histogram2d": [
           {
            "colorbar": {
             "outlinewidth": 0,
             "ticks": ""
            },
            "colorscale": [
             [
              0,
              "#0d0887"
             ],
             [
              0.1111111111111111,
              "#46039f"
             ],
             [
              0.2222222222222222,
              "#7201a8"
             ],
             [
              0.3333333333333333,
              "#9c179e"
             ],
             [
              0.4444444444444444,
              "#bd3786"
             ],
             [
              0.5555555555555556,
              "#d8576b"
             ],
             [
              0.6666666666666666,
              "#ed7953"
             ],
             [
              0.7777777777777778,
              "#fb9f3a"
             ],
             [
              0.8888888888888888,
              "#fdca26"
             ],
             [
              1,
              "#f0f921"
             ]
            ],
            "type": "histogram2d"
           }
          ],
          "histogram2dcontour": [
           {
            "colorbar": {
             "outlinewidth": 0,
             "ticks": ""
            },
            "colorscale": [
             [
              0,
              "#0d0887"
             ],
             [
              0.1111111111111111,
              "#46039f"
             ],
             [
              0.2222222222222222,
              "#7201a8"
             ],
             [
              0.3333333333333333,
              "#9c179e"
             ],
             [
              0.4444444444444444,
              "#bd3786"
             ],
             [
              0.5555555555555556,
              "#d8576b"
             ],
             [
              0.6666666666666666,
              "#ed7953"
             ],
             [
              0.7777777777777778,
              "#fb9f3a"
             ],
             [
              0.8888888888888888,
              "#fdca26"
             ],
             [
              1,
              "#f0f921"
             ]
            ],
            "type": "histogram2dcontour"
           }
          ],
          "mesh3d": [
           {
            "colorbar": {
             "outlinewidth": 0,
             "ticks": ""
            },
            "type": "mesh3d"
           }
          ],
          "parcoords": [
           {
            "line": {
             "colorbar": {
              "outlinewidth": 0,
              "ticks": ""
             }
            },
            "type": "parcoords"
           }
          ],
          "pie": [
           {
            "automargin": true,
            "type": "pie"
           }
          ],
          "scatter": [
           {
            "marker": {
             "colorbar": {
              "outlinewidth": 0,
              "ticks": ""
             }
            },
            "type": "scatter"
           }
          ],
          "scatter3d": [
           {
            "line": {
             "colorbar": {
              "outlinewidth": 0,
              "ticks": ""
             }
            },
            "marker": {
             "colorbar": {
              "outlinewidth": 0,
              "ticks": ""
             }
            },
            "type": "scatter3d"
           }
          ],
          "scattercarpet": [
           {
            "marker": {
             "colorbar": {
              "outlinewidth": 0,
              "ticks": ""
             }
            },
            "type": "scattercarpet"
           }
          ],
          "scattergeo": [
           {
            "marker": {
             "colorbar": {
              "outlinewidth": 0,
              "ticks": ""
             }
            },
            "type": "scattergeo"
           }
          ],
          "scattergl": [
           {
            "marker": {
             "colorbar": {
              "outlinewidth": 0,
              "ticks": ""
             }
            },
            "type": "scattergl"
           }
          ],
          "scattermapbox": [
           {
            "marker": {
             "colorbar": {
              "outlinewidth": 0,
              "ticks": ""
             }
            },
            "type": "scattermapbox"
           }
          ],
          "scatterpolar": [
           {
            "marker": {
             "colorbar": {
              "outlinewidth": 0,
              "ticks": ""
             }
            },
            "type": "scatterpolar"
           }
          ],
          "scatterpolargl": [
           {
            "marker": {
             "colorbar": {
              "outlinewidth": 0,
              "ticks": ""
             }
            },
            "type": "scatterpolargl"
           }
          ],
          "scatterternary": [
           {
            "marker": {
             "colorbar": {
              "outlinewidth": 0,
              "ticks": ""
             }
            },
            "type": "scatterternary"
           }
          ],
          "surface": [
           {
            "colorbar": {
             "outlinewidth": 0,
             "ticks": ""
            },
            "colorscale": [
             [
              0,
              "#0d0887"
             ],
             [
              0.1111111111111111,
              "#46039f"
             ],
             [
              0.2222222222222222,
              "#7201a8"
             ],
             [
              0.3333333333333333,
              "#9c179e"
             ],
             [
              0.4444444444444444,
              "#bd3786"
             ],
             [
              0.5555555555555556,
              "#d8576b"
             ],
             [
              0.6666666666666666,
              "#ed7953"
             ],
             [
              0.7777777777777778,
              "#fb9f3a"
             ],
             [
              0.8888888888888888,
              "#fdca26"
             ],
             [
              1,
              "#f0f921"
             ]
            ],
            "type": "surface"
           }
          ],
          "table": [
           {
            "cells": {
             "fill": {
              "color": "#EBF0F8"
             },
             "line": {
              "color": "white"
             }
            },
            "header": {
             "fill": {
              "color": "#C8D4E3"
             },
             "line": {
              "color": "white"
             }
            },
            "type": "table"
           }
          ]
         },
         "layout": {
          "annotationdefaults": {
           "arrowcolor": "#2a3f5f",
           "arrowhead": 0,
           "arrowwidth": 1
          },
          "coloraxis": {
           "colorbar": {
            "outlinewidth": 0,
            "ticks": ""
           }
          },
          "colorscale": {
           "diverging": [
            [
             0,
             "#8e0152"
            ],
            [
             0.1,
             "#c51b7d"
            ],
            [
             0.2,
             "#de77ae"
            ],
            [
             0.3,
             "#f1b6da"
            ],
            [
             0.4,
             "#fde0ef"
            ],
            [
             0.5,
             "#f7f7f7"
            ],
            [
             0.6,
             "#e6f5d0"
            ],
            [
             0.7,
             "#b8e186"
            ],
            [
             0.8,
             "#7fbc41"
            ],
            [
             0.9,
             "#4d9221"
            ],
            [
             1,
             "#276419"
            ]
           ],
           "sequential": [
            [
             0,
             "#0d0887"
            ],
            [
             0.1111111111111111,
             "#46039f"
            ],
            [
             0.2222222222222222,
             "#7201a8"
            ],
            [
             0.3333333333333333,
             "#9c179e"
            ],
            [
             0.4444444444444444,
             "#bd3786"
            ],
            [
             0.5555555555555556,
             "#d8576b"
            ],
            [
             0.6666666666666666,
             "#ed7953"
            ],
            [
             0.7777777777777778,
             "#fb9f3a"
            ],
            [
             0.8888888888888888,
             "#fdca26"
            ],
            [
             1,
             "#f0f921"
            ]
           ],
           "sequentialminus": [
            [
             0,
             "#0d0887"
            ],
            [
             0.1111111111111111,
             "#46039f"
            ],
            [
             0.2222222222222222,
             "#7201a8"
            ],
            [
             0.3333333333333333,
             "#9c179e"
            ],
            [
             0.4444444444444444,
             "#bd3786"
            ],
            [
             0.5555555555555556,
             "#d8576b"
            ],
            [
             0.6666666666666666,
             "#ed7953"
            ],
            [
             0.7777777777777778,
             "#fb9f3a"
            ],
            [
             0.8888888888888888,
             "#fdca26"
            ],
            [
             1,
             "#f0f921"
            ]
           ]
          },
          "colorway": [
           "#636efa",
           "#EF553B",
           "#00cc96",
           "#ab63fa",
           "#FFA15A",
           "#19d3f3",
           "#FF6692",
           "#B6E880",
           "#FF97FF",
           "#FECB52"
          ],
          "font": {
           "color": "#2a3f5f"
          },
          "geo": {
           "bgcolor": "white",
           "lakecolor": "white",
           "landcolor": "#E5ECF6",
           "showlakes": true,
           "showland": true,
           "subunitcolor": "white"
          },
          "hoverlabel": {
           "align": "left"
          },
          "hovermode": "closest",
          "mapbox": {
           "style": "light"
          },
          "paper_bgcolor": "white",
          "plot_bgcolor": "#E5ECF6",
          "polar": {
           "angularaxis": {
            "gridcolor": "white",
            "linecolor": "white",
            "ticks": ""
           },
           "bgcolor": "#E5ECF6",
           "radialaxis": {
            "gridcolor": "white",
            "linecolor": "white",
            "ticks": ""
           }
          },
          "scene": {
           "xaxis": {
            "backgroundcolor": "#E5ECF6",
            "gridcolor": "white",
            "gridwidth": 2,
            "linecolor": "white",
            "showbackground": true,
            "ticks": "",
            "zerolinecolor": "white"
           },
           "yaxis": {
            "backgroundcolor": "#E5ECF6",
            "gridcolor": "white",
            "gridwidth": 2,
            "linecolor": "white",
            "showbackground": true,
            "ticks": "",
            "zerolinecolor": "white"
           },
           "zaxis": {
            "backgroundcolor": "#E5ECF6",
            "gridcolor": "white",
            "gridwidth": 2,
            "linecolor": "white",
            "showbackground": true,
            "ticks": "",
            "zerolinecolor": "white"
           }
          },
          "shapedefaults": {
           "line": {
            "color": "#2a3f5f"
           }
          },
          "ternary": {
           "aaxis": {
            "gridcolor": "white",
            "linecolor": "white",
            "ticks": ""
           },
           "baxis": {
            "gridcolor": "white",
            "linecolor": "white",
            "ticks": ""
           },
           "bgcolor": "#E5ECF6",
           "caxis": {
            "gridcolor": "white",
            "linecolor": "white",
            "ticks": ""
           }
          },
          "title": {
           "x": 0.05
          },
          "xaxis": {
           "automargin": true,
           "gridcolor": "white",
           "linecolor": "white",
           "ticks": "",
           "title": {
            "standoff": 15
           },
           "zerolinecolor": "white",
           "zerolinewidth": 2
          },
          "yaxis": {
           "automargin": true,
           "gridcolor": "white",
           "linecolor": "white",
           "ticks": "",
           "title": {
            "standoff": 15
           },
           "zerolinecolor": "white",
           "zerolinewidth": 2
          }
         }
        }
       }
      },
      "text/html": [
       "<div>\n",
       "        \n",
       "        \n",
       "            <div id=\"ca855959-cc5a-4217-847e-e5ef62b121eb\" class=\"plotly-graph-div\" style=\"height:525px; width:100%;\"></div>\n",
       "            <script type=\"text/javascript\">\n",
       "                require([\"plotly\"], function(Plotly) {\n",
       "                    window.PLOTLYENV=window.PLOTLYENV || {};\n",
       "                    \n",
       "                if (document.getElementById(\"ca855959-cc5a-4217-847e-e5ef62b121eb\")) {\n",
       "                    Plotly.newPlot(\n",
       "                        'ca855959-cc5a-4217-847e-e5ef62b121eb',\n",
       "                        [{\"mode\": \"lines\", \"type\": \"scatter\", \"x\": [1750, 1751, 1752, 1753, 1754, 1755, 1756, 1757, 1758, 1759, 1760, 1761, 1762, 1763, 1764, 1765, 1766, 1767, 1768, 1769, 1770, 1771, 1772, 1773, 1774, 1775, 1776, 1777, 1778, 1779, 1780, 1781, 1782, 1783, 1784, 1785, 1786, 1787, 1788, 1789, 1790, 1791, 1792, 1793, 1794, 1795, 1796, 1797, 1798, 1799, 1800, 1801, 1802, 1803, 1804, 1805, 1806, 1807, 1808, 1809, 1810, 1811, 1812, 1813, 1814, 1815, 1816, 1817, 1818, 1819, 1820, 1821, 1822, 1823, 1824, 1825, 1826, 1827, 1828, 1829, 1830, 1831, 1832, 1833, 1834, 1835, 1836, 1837, 1838, 1839, 1840, 1841, 1842, 1843, 1844, 1845, 1846, 1847, 1848, 1849, 1850, 1851, 1852, 1853, 1854, 1855, 1856, 1857, 1858, 1859, 1860, 1861, 1862, 1863, 1864, 1865, 1866, 1867, 1868, 1869, 1870, 1871, 1872, 1873, 1874, 1875, 1876, 1877, 1878, 1879, 1880, 1881, 1882, 1883, 1884, 1885, 1886, 1887, 1888, 1889, 1890, 1891, 1892, 1893, 1894, 1895, 1896, 1897, 1898, 1899, 1900, 1901, 1902, 1903, 1904, 1905, 1906, 1907, 1908, 1909, 1910, 1911, 1912, 1913, 1914, 1915, 1916, 1917, 1918, 1919, 1920, 1921, 1922, 1923, 1924, 1925, 1926, 1927, 1928, 1929, 1930, 1931, 1932, 1933, 1934, 1935, 1936, 1937, 1938, 1939, 1940, 1941, 1942, 1943, 1944, 1945, 1946, 1947, 1948, 1949, 1950, 1951, 1952, 1953, 1954, 1955, 1956, 1957, 1958, 1959, 1960, 1961, 1962, 1963, 1964, 1965, 1966, 1967, 1968, 1969, 1970, 1971, 1972, 1973, 1974, 1975, 1976, 1977, 1978, 1979, 1980, 1981, 1982, 1983, 1984, 1985, 1986, 1987, 1988, 1989, 1990, 1991, 1992, 1993, 1994, 1995, 1996, 1997, 1998, 1999, 2000, 2001, 2002, 2003, 2004, 2005, 2006, 2007, 2008, 2009, 2010, 2011, 2012, 2013, 2014, 2015], \"y\": [8.719363636363637, 7.9761428571428565, 5.7798333333333325, 8.388083333333332, 8.469333333333335, 8.355583333333334, 8.849583333333333, 9.022, 6.743583333333333, 7.985083333333333, 7.185166666666667, 8.772499999999999, 8.6065, 7.496749999999999, 8.400333333333332, 8.251916666666666, 8.405666666666667, 8.221499999999999, 6.781333333333333, 7.694583333333334, 7.691916666666667, 7.8531666666666675, 8.1935, 8.2215, 8.772166666666665, 9.183083333333334, 8.304, 8.256250000000001, 8.54225, 8.98325, 9.432916666666667, 8.102583333333332, 7.901249999999998, 7.680833333333333, 7.862000000000001, 7.3629999999999995, 8.258166666666666, 8.031833333333333, 8.447166666666666, 8.334166666666667, 7.982333333333333, 8.23425, 8.089, 8.229166666666666, 8.526000000000002, 8.350333333333333, 8.270999999999999, 8.510583333333335, 8.67025, 8.505749999999999, 8.484250000000001, 8.589666666666668, 8.578166666666666, 8.503, 8.844833333333334, 8.56275, 8.434083333333332, 8.281416666666665, 7.626833333333333, 7.076416666666667, 6.922666666666665, 6.859500000000001, 7.046250000000001, 7.7399166666666686, 7.59175, 7.239333333333334, 6.9375, 6.975666666666668, 7.828916666666667, 7.3691666666666675, 7.616249999999998, 8.090083333333332, 8.188333333333334, 7.7186666666666675, 8.547166666666667, 8.389333333333333, 8.356583333333335, 8.808749999999998, 8.165333333333335, 7.941833333333332, 8.51675, 7.639166666666667, 7.450166666666667, 8.013, 8.14675, 7.392499999999999, 7.695833333333334, 7.375666666666665, 7.514916666666665, 7.632249999999999, 7.796250000000001, 7.688166666666667, 8.02275, 8.173666666666666, 7.646333333333334, 7.851166666666668, 8.55275, 8.086, 7.979500000000001, 7.984416666666667, 7.900666666666666, 8.178583333333332, 8.100166666666665, 8.041833333333333, 8.2105, 8.110749999999998, 7.995916666666666, 7.758166666666668, 8.10025, 8.252, 7.960833333333333, 7.846500000000002, 7.558583333333334, 8.111833333333333, 7.983583333333335, 8.177833333333334, 8.292166666666665, 8.436333333333334, 8.247916666666667, 8.432083333333333, 8.201333333333332, 8.115083333333333, 8.193833333333332, 8.351083333333333, 8.4335, 7.859583333333334, 8.080083333333333, 8.539583333333333, 8.829749999999999, 8.165833333333333, 8.118749999999999, 8.270916666666666, 8.128916666666667, 7.976916666666665, 7.773666666666667, 7.919666666666668, 7.954499999999999, 7.914916666666667, 8.0905, 8.318999999999999, 7.971666666666667, 8.019333333333334, 8.065833333333332, 8.05675, 8.161, 8.147, 8.214916666666666, 8.293333333333335, 8.177999999999999, 8.396333333333333, 8.501583333333333, 8.541916666666665, 8.304416666666667, 8.220166666666668, 8.090916666666667, 8.225166666666665, 8.379083333333332, 7.947166666666667, 8.186083333333334, 8.17825, 8.223, 8.177000000000001, 8.165416666666667, 8.297749999999999, 8.5905, 8.593166666666665, 8.22525, 8.023333333333332, 8.130833333333332, 8.38225, 8.35875, 8.571, 8.408, 8.422166666666666, 8.506833333333335, 8.534416666666667, 8.728833333333332, 8.522083333333333, 8.632166666666668, 8.242416666666665, 8.633583333333332, 8.71925, 8.705250000000001, 8.33825, 8.628333333333336, 8.51575, 8.554, 8.698333333333332, 8.863666666666665, 8.760333333333334, 8.764666666666667, 8.768666666666668, 8.728416666666666, 8.755083333333333, 8.845, 8.584833333333332, 8.676916666666669, 8.797083333333333, 8.74675, 8.586749999999999, 8.365250000000001, 8.625666666666666, 8.638250000000001, 8.873750000000001, 8.560666666666666, 8.62625, 8.279583333333333, 8.7325, 8.77375, 8.732666666666665, 8.58375, 8.797666666666666, 8.745916666666666, 8.856, 8.409666666666666, 8.527416666666667, 8.599333333333332, 8.700083333333334, 8.516333333333334, 8.595083333333333, 8.700916666666666, 8.59925, 8.499583333333334, 8.948249999999998, 8.4675, 8.744833333333334, 8.347249999999999, 8.850249999999999, 8.692749999999998, 8.733416666666665, 8.980333333333332, 9.165833333333333, 8.639166666666666, 9.028166666666666, 8.691833333333335, 8.658, 8.833583333333332, 8.994416666666668, 9.201583333333334, 8.921999999999999, 9.234166666666667, 9.179416666666667, 8.836583333333332, 8.866583333333333, 9.038749999999999, 9.347083333333332, 9.038916666666667, 9.202583333333333, 9.522666666666666, 9.285083333333333, 9.201166666666667, 9.414583333333335, 9.570416666666667, 9.525583333333334, 9.324583333333333, 9.700916666666666, 9.532499999999999, 9.732166666666664, 9.431750000000001, 9.505250000000002, 9.703083333333332, 9.516, 9.507333333333333, 9.606499999999999, 9.570666666666666, 9.830999999999998]}],\n",
       "                        {\"template\": {\"data\": {\"bar\": [{\"error_x\": {\"color\": \"#2a3f5f\"}, \"error_y\": {\"color\": \"#2a3f5f\"}, \"marker\": {\"line\": {\"color\": \"#E5ECF6\", \"width\": 0.5}}, \"type\": \"bar\"}], \"barpolar\": [{\"marker\": {\"line\": {\"color\": \"#E5ECF6\", \"width\": 0.5}}, \"type\": \"barpolar\"}], \"carpet\": [{\"aaxis\": {\"endlinecolor\": \"#2a3f5f\", \"gridcolor\": \"white\", \"linecolor\": \"white\", \"minorgridcolor\": \"white\", \"startlinecolor\": \"#2a3f5f\"}, \"baxis\": {\"endlinecolor\": \"#2a3f5f\", \"gridcolor\": \"white\", \"linecolor\": \"white\", \"minorgridcolor\": \"white\", \"startlinecolor\": \"#2a3f5f\"}, \"type\": \"carpet\"}], \"choropleth\": [{\"colorbar\": {\"outlinewidth\": 0, \"ticks\": \"\"}, \"type\": \"choropleth\"}], \"contour\": [{\"colorbar\": {\"outlinewidth\": 0, \"ticks\": \"\"}, \"colorscale\": [[0.0, \"#0d0887\"], [0.1111111111111111, \"#46039f\"], [0.2222222222222222, \"#7201a8\"], [0.3333333333333333, \"#9c179e\"], [0.4444444444444444, \"#bd3786\"], [0.5555555555555556, \"#d8576b\"], [0.6666666666666666, \"#ed7953\"], [0.7777777777777778, \"#fb9f3a\"], [0.8888888888888888, \"#fdca26\"], [1.0, \"#f0f921\"]], \"type\": \"contour\"}], \"contourcarpet\": [{\"colorbar\": {\"outlinewidth\": 0, \"ticks\": \"\"}, \"type\": \"contourcarpet\"}], \"heatmap\": [{\"colorbar\": {\"outlinewidth\": 0, \"ticks\": \"\"}, \"colorscale\": [[0.0, \"#0d0887\"], [0.1111111111111111, \"#46039f\"], [0.2222222222222222, \"#7201a8\"], [0.3333333333333333, \"#9c179e\"], [0.4444444444444444, \"#bd3786\"], [0.5555555555555556, \"#d8576b\"], [0.6666666666666666, \"#ed7953\"], [0.7777777777777778, \"#fb9f3a\"], [0.8888888888888888, \"#fdca26\"], [1.0, \"#f0f921\"]], \"type\": \"heatmap\"}], \"heatmapgl\": [{\"colorbar\": {\"outlinewidth\": 0, \"ticks\": \"\"}, \"colorscale\": [[0.0, \"#0d0887\"], [0.1111111111111111, \"#46039f\"], [0.2222222222222222, \"#7201a8\"], [0.3333333333333333, \"#9c179e\"], [0.4444444444444444, \"#bd3786\"], [0.5555555555555556, \"#d8576b\"], [0.6666666666666666, \"#ed7953\"], [0.7777777777777778, \"#fb9f3a\"], [0.8888888888888888, \"#fdca26\"], [1.0, \"#f0f921\"]], \"type\": \"heatmapgl\"}], \"histogram\": [{\"marker\": {\"colorbar\": {\"outlinewidth\": 0, \"ticks\": \"\"}}, \"type\": \"histogram\"}], \"histogram2d\": [{\"colorbar\": {\"outlinewidth\": 0, \"ticks\": \"\"}, \"colorscale\": [[0.0, \"#0d0887\"], [0.1111111111111111, \"#46039f\"], [0.2222222222222222, \"#7201a8\"], [0.3333333333333333, \"#9c179e\"], [0.4444444444444444, \"#bd3786\"], [0.5555555555555556, \"#d8576b\"], [0.6666666666666666, \"#ed7953\"], [0.7777777777777778, \"#fb9f3a\"], [0.8888888888888888, \"#fdca26\"], [1.0, \"#f0f921\"]], \"type\": \"histogram2d\"}], \"histogram2dcontour\": [{\"colorbar\": {\"outlinewidth\": 0, \"ticks\": \"\"}, \"colorscale\": [[0.0, \"#0d0887\"], [0.1111111111111111, \"#46039f\"], [0.2222222222222222, \"#7201a8\"], [0.3333333333333333, \"#9c179e\"], [0.4444444444444444, \"#bd3786\"], [0.5555555555555556, \"#d8576b\"], [0.6666666666666666, \"#ed7953\"], [0.7777777777777778, \"#fb9f3a\"], [0.8888888888888888, \"#fdca26\"], [1.0, \"#f0f921\"]], \"type\": \"histogram2dcontour\"}], \"mesh3d\": [{\"colorbar\": {\"outlinewidth\": 0, \"ticks\": \"\"}, \"type\": \"mesh3d\"}], \"parcoords\": [{\"line\": {\"colorbar\": {\"outlinewidth\": 0, \"ticks\": \"\"}}, \"type\": \"parcoords\"}], \"pie\": [{\"automargin\": true, \"type\": \"pie\"}], \"scatter\": [{\"marker\": {\"colorbar\": {\"outlinewidth\": 0, \"ticks\": \"\"}}, \"type\": \"scatter\"}], \"scatter3d\": [{\"line\": {\"colorbar\": {\"outlinewidth\": 0, \"ticks\": \"\"}}, \"marker\": {\"colorbar\": {\"outlinewidth\": 0, \"ticks\": \"\"}}, \"type\": \"scatter3d\"}], \"scattercarpet\": [{\"marker\": {\"colorbar\": {\"outlinewidth\": 0, \"ticks\": \"\"}}, \"type\": \"scattercarpet\"}], \"scattergeo\": [{\"marker\": {\"colorbar\": {\"outlinewidth\": 0, \"ticks\": \"\"}}, \"type\": \"scattergeo\"}], \"scattergl\": [{\"marker\": {\"colorbar\": {\"outlinewidth\": 0, \"ticks\": \"\"}}, \"type\": \"scattergl\"}], \"scattermapbox\": [{\"marker\": {\"colorbar\": {\"outlinewidth\": 0, \"ticks\": \"\"}}, \"type\": \"scattermapbox\"}], \"scatterpolar\": [{\"marker\": {\"colorbar\": {\"outlinewidth\": 0, \"ticks\": \"\"}}, \"type\": \"scatterpolar\"}], \"scatterpolargl\": [{\"marker\": {\"colorbar\": {\"outlinewidth\": 0, \"ticks\": \"\"}}, \"type\": \"scatterpolargl\"}], \"scatterternary\": [{\"marker\": {\"colorbar\": {\"outlinewidth\": 0, \"ticks\": \"\"}}, \"type\": \"scatterternary\"}], \"surface\": [{\"colorbar\": {\"outlinewidth\": 0, \"ticks\": \"\"}, \"colorscale\": [[0.0, \"#0d0887\"], [0.1111111111111111, \"#46039f\"], [0.2222222222222222, \"#7201a8\"], [0.3333333333333333, \"#9c179e\"], [0.4444444444444444, \"#bd3786\"], [0.5555555555555556, \"#d8576b\"], [0.6666666666666666, \"#ed7953\"], [0.7777777777777778, \"#fb9f3a\"], [0.8888888888888888, \"#fdca26\"], [1.0, \"#f0f921\"]], \"type\": \"surface\"}], \"table\": [{\"cells\": {\"fill\": {\"color\": \"#EBF0F8\"}, \"line\": {\"color\": \"white\"}}, \"header\": {\"fill\": {\"color\": \"#C8D4E3\"}, \"line\": {\"color\": \"white\"}}, \"type\": \"table\"}]}, \"layout\": {\"annotationdefaults\": {\"arrowcolor\": \"#2a3f5f\", \"arrowhead\": 0, \"arrowwidth\": 1}, \"coloraxis\": {\"colorbar\": {\"outlinewidth\": 0, \"ticks\": \"\"}}, \"colorscale\": {\"diverging\": [[0, \"#8e0152\"], [0.1, \"#c51b7d\"], [0.2, \"#de77ae\"], [0.3, \"#f1b6da\"], [0.4, \"#fde0ef\"], [0.5, \"#f7f7f7\"], [0.6, \"#e6f5d0\"], [0.7, \"#b8e186\"], [0.8, \"#7fbc41\"], [0.9, \"#4d9221\"], [1, \"#276419\"]], \"sequential\": [[0.0, \"#0d0887\"], [0.1111111111111111, \"#46039f\"], [0.2222222222222222, \"#7201a8\"], [0.3333333333333333, \"#9c179e\"], [0.4444444444444444, \"#bd3786\"], [0.5555555555555556, \"#d8576b\"], [0.6666666666666666, \"#ed7953\"], [0.7777777777777778, \"#fb9f3a\"], [0.8888888888888888, \"#fdca26\"], [1.0, \"#f0f921\"]], \"sequentialminus\": [[0.0, \"#0d0887\"], [0.1111111111111111, \"#46039f\"], [0.2222222222222222, \"#7201a8\"], [0.3333333333333333, \"#9c179e\"], [0.4444444444444444, \"#bd3786\"], [0.5555555555555556, \"#d8576b\"], [0.6666666666666666, \"#ed7953\"], [0.7777777777777778, \"#fb9f3a\"], [0.8888888888888888, \"#fdca26\"], [1.0, \"#f0f921\"]]}, \"colorway\": [\"#636efa\", \"#EF553B\", \"#00cc96\", \"#ab63fa\", \"#FFA15A\", \"#19d3f3\", \"#FF6692\", \"#B6E880\", \"#FF97FF\", \"#FECB52\"], \"font\": {\"color\": \"#2a3f5f\"}, \"geo\": {\"bgcolor\": \"white\", \"lakecolor\": \"white\", \"landcolor\": \"#E5ECF6\", \"showlakes\": true, \"showland\": true, \"subunitcolor\": \"white\"}, \"hoverlabel\": {\"align\": \"left\"}, \"hovermode\": \"closest\", \"mapbox\": {\"style\": \"light\"}, \"paper_bgcolor\": \"white\", \"plot_bgcolor\": \"#E5ECF6\", \"polar\": {\"angularaxis\": {\"gridcolor\": \"white\", \"linecolor\": \"white\", \"ticks\": \"\"}, \"bgcolor\": \"#E5ECF6\", \"radialaxis\": {\"gridcolor\": \"white\", \"linecolor\": \"white\", \"ticks\": \"\"}}, \"scene\": {\"xaxis\": {\"backgroundcolor\": \"#E5ECF6\", \"gridcolor\": \"white\", \"gridwidth\": 2, \"linecolor\": \"white\", \"showbackground\": true, \"ticks\": \"\", \"zerolinecolor\": \"white\"}, \"yaxis\": {\"backgroundcolor\": \"#E5ECF6\", \"gridcolor\": \"white\", \"gridwidth\": 2, \"linecolor\": \"white\", \"showbackground\": true, \"ticks\": \"\", \"zerolinecolor\": \"white\"}, \"zaxis\": {\"backgroundcolor\": \"#E5ECF6\", \"gridcolor\": \"white\", \"gridwidth\": 2, \"linecolor\": \"white\", \"showbackground\": true, \"ticks\": \"\", \"zerolinecolor\": \"white\"}}, \"shapedefaults\": {\"line\": {\"color\": \"#2a3f5f\"}}, \"ternary\": {\"aaxis\": {\"gridcolor\": \"white\", \"linecolor\": \"white\", \"ticks\": \"\"}, \"baxis\": {\"gridcolor\": \"white\", \"linecolor\": \"white\", \"ticks\": \"\"}, \"bgcolor\": \"#E5ECF6\", \"caxis\": {\"gridcolor\": \"white\", \"linecolor\": \"white\", \"ticks\": \"\"}}, \"title\": {\"x\": 0.05}, \"xaxis\": {\"automargin\": true, \"gridcolor\": \"white\", \"linecolor\": \"white\", \"ticks\": \"\", \"title\": {\"standoff\": 15}, \"zerolinecolor\": \"white\", \"zerolinewidth\": 2}, \"yaxis\": {\"automargin\": true, \"gridcolor\": \"white\", \"linecolor\": \"white\", \"ticks\": \"\", \"title\": {\"standoff\": 15}, \"zerolinecolor\": \"white\", \"zerolinewidth\": 2}}}},\n",
       "                        {\"responsive\": true}\n",
       "                    ).then(function(){\n",
       "                            \n",
       "var gd = document.getElementById('ca855959-cc5a-4217-847e-e5ef62b121eb');\n",
       "var x = new MutationObserver(function (mutations, observer) {{\n",
       "        var display = window.getComputedStyle(gd).display;\n",
       "        if (!display || display === 'none') {{\n",
       "            console.log([gd, 'removed!']);\n",
       "            Plotly.purge(gd);\n",
       "            observer.disconnect();\n",
       "        }}\n",
       "}});\n",
       "\n",
       "// Listen for the removal of the full notebook cells\n",
       "var notebookContainer = gd.closest('#notebook-container');\n",
       "if (notebookContainer) {{\n",
       "    x.observe(notebookContainer, {childList: true});\n",
       "}}\n",
       "\n",
       "// Listen for the clearing of the current output cell\n",
       "var outputEl = gd.closest('.output');\n",
       "if (outputEl) {{\n",
       "    x.observe(outputEl, {childList: true});\n",
       "}}\n",
       "\n",
       "                        })\n",
       "                };\n",
       "                });\n",
       "            </script>\n",
       "        </div>"
      ]
     },
     "metadata": {},
     "output_type": "display_data"
    }
   ],
   "source": [
    "trace=go.Scatter(\n",
    "    x=global3['dt'],\n",
    "    y=global3['LandAverageTemperature'],\n",
    "    mode='lines',\n",
    "    )\n",
    "data=[trace]\n",
    "\n",
    "py.iplot(data, filename='line-mode')"
   ]
  },
  {
   "cell_type": "code",
   "execution_count": 15,
   "metadata": {},
   "outputs": [
    {
     "data": {
      "application/vnd.plotly.v1+json": {
       "config": {
        "linkText": "Export to plot.ly",
        "plotlyServerURL": "https://plot.ly",
        "showLink": false
       },
       "data": [
        {
         "mode": "markers",
         "type": "scatter",
         "x": [
          1750,
          1751,
          1752,
          1753,
          1754,
          1755,
          1756,
          1757,
          1758,
          1759,
          1760,
          1761,
          1762,
          1763,
          1764,
          1765,
          1766,
          1767,
          1768,
          1769,
          1770,
          1771,
          1772,
          1773,
          1774,
          1775,
          1776,
          1777,
          1778,
          1779,
          1780,
          1781,
          1782,
          1783,
          1784,
          1785,
          1786,
          1787,
          1788,
          1789,
          1790,
          1791,
          1792,
          1793,
          1794,
          1795,
          1796,
          1797,
          1798,
          1799,
          1800,
          1801,
          1802,
          1803,
          1804,
          1805,
          1806,
          1807,
          1808,
          1809,
          1810,
          1811,
          1812,
          1813,
          1814,
          1815,
          1816,
          1817,
          1818,
          1819,
          1820,
          1821,
          1822,
          1823,
          1824,
          1825,
          1826,
          1827,
          1828,
          1829,
          1830,
          1831,
          1832,
          1833,
          1834,
          1835,
          1836,
          1837,
          1838,
          1839,
          1840,
          1841,
          1842,
          1843,
          1844,
          1845,
          1846,
          1847,
          1848,
          1849,
          1850,
          1851,
          1852,
          1853,
          1854,
          1855,
          1856,
          1857,
          1858,
          1859,
          1860,
          1861,
          1862,
          1863,
          1864,
          1865,
          1866,
          1867,
          1868,
          1869,
          1870,
          1871,
          1872,
          1873,
          1874,
          1875,
          1876,
          1877,
          1878,
          1879,
          1880,
          1881,
          1882,
          1883,
          1884,
          1885,
          1886,
          1887,
          1888,
          1889,
          1890,
          1891,
          1892,
          1893,
          1894,
          1895,
          1896,
          1897,
          1898,
          1899,
          1900,
          1901,
          1902,
          1903,
          1904,
          1905,
          1906,
          1907,
          1908,
          1909,
          1910,
          1911,
          1912,
          1913,
          1914,
          1915,
          1916,
          1917,
          1918,
          1919,
          1920,
          1921,
          1922,
          1923,
          1924,
          1925,
          1926,
          1927,
          1928,
          1929,
          1930,
          1931,
          1932,
          1933,
          1934,
          1935,
          1936,
          1937,
          1938,
          1939,
          1940,
          1941,
          1942,
          1943,
          1944,
          1945,
          1946,
          1947,
          1948,
          1949,
          1950,
          1951,
          1952,
          1953,
          1954,
          1955,
          1956,
          1957,
          1958,
          1959,
          1960,
          1961,
          1962,
          1963,
          1964,
          1965,
          1966,
          1967,
          1968,
          1969,
          1970,
          1971,
          1972,
          1973,
          1974,
          1975,
          1976,
          1977,
          1978,
          1979,
          1980,
          1981,
          1982,
          1983,
          1984,
          1985,
          1986,
          1987,
          1988,
          1989,
          1990,
          1991,
          1992,
          1993,
          1994,
          1995,
          1996,
          1997,
          1998,
          1999,
          2000,
          2001,
          2002,
          2003,
          2004,
          2005,
          2006,
          2007,
          2008,
          2009,
          2010,
          2011,
          2012,
          2013,
          2014,
          2015
         ],
         "y": [
          8.719363636363637,
          7.9761428571428565,
          5.7798333333333325,
          8.388083333333332,
          8.469333333333335,
          8.355583333333334,
          8.849583333333333,
          9.022,
          6.743583333333333,
          7.985083333333333,
          7.185166666666667,
          8.772499999999999,
          8.6065,
          7.496749999999999,
          8.400333333333332,
          8.251916666666666,
          8.405666666666667,
          8.221499999999999,
          6.781333333333333,
          7.694583333333334,
          7.691916666666667,
          7.8531666666666675,
          8.1935,
          8.2215,
          8.772166666666665,
          9.183083333333334,
          8.304,
          8.256250000000001,
          8.54225,
          8.98325,
          9.432916666666667,
          8.102583333333332,
          7.901249999999998,
          7.680833333333333,
          7.862000000000001,
          7.3629999999999995,
          8.258166666666666,
          8.031833333333333,
          8.447166666666666,
          8.334166666666667,
          7.982333333333333,
          8.23425,
          8.089,
          8.229166666666666,
          8.526000000000002,
          8.350333333333333,
          8.270999999999999,
          8.510583333333335,
          8.67025,
          8.505749999999999,
          8.484250000000001,
          8.589666666666668,
          8.578166666666666,
          8.503,
          8.844833333333334,
          8.56275,
          8.434083333333332,
          8.281416666666665,
          7.626833333333333,
          7.076416666666667,
          6.922666666666665,
          6.859500000000001,
          7.046250000000001,
          7.7399166666666686,
          7.59175,
          7.239333333333334,
          6.9375,
          6.975666666666668,
          7.828916666666667,
          7.3691666666666675,
          7.616249999999998,
          8.090083333333332,
          8.188333333333334,
          7.7186666666666675,
          8.547166666666667,
          8.389333333333333,
          8.356583333333335,
          8.808749999999998,
          8.165333333333335,
          7.941833333333332,
          8.51675,
          7.639166666666667,
          7.450166666666667,
          8.013,
          8.14675,
          7.392499999999999,
          7.695833333333334,
          7.375666666666665,
          7.514916666666665,
          7.632249999999999,
          7.796250000000001,
          7.688166666666667,
          8.02275,
          8.173666666666666,
          7.646333333333334,
          7.851166666666668,
          8.55275,
          8.086,
          7.979500000000001,
          7.984416666666667,
          7.900666666666666,
          8.178583333333332,
          8.100166666666665,
          8.041833333333333,
          8.2105,
          8.110749999999998,
          7.995916666666666,
          7.758166666666668,
          8.10025,
          8.252,
          7.960833333333333,
          7.846500000000002,
          7.558583333333334,
          8.111833333333333,
          7.983583333333335,
          8.177833333333334,
          8.292166666666665,
          8.436333333333334,
          8.247916666666667,
          8.432083333333333,
          8.201333333333332,
          8.115083333333333,
          8.193833333333332,
          8.351083333333333,
          8.4335,
          7.859583333333334,
          8.080083333333333,
          8.539583333333333,
          8.829749999999999,
          8.165833333333333,
          8.118749999999999,
          8.270916666666666,
          8.128916666666667,
          7.976916666666665,
          7.773666666666667,
          7.919666666666668,
          7.954499999999999,
          7.914916666666667,
          8.0905,
          8.318999999999999,
          7.971666666666667,
          8.019333333333334,
          8.065833333333332,
          8.05675,
          8.161,
          8.147,
          8.214916666666666,
          8.293333333333335,
          8.177999999999999,
          8.396333333333333,
          8.501583333333333,
          8.541916666666665,
          8.304416666666667,
          8.220166666666668,
          8.090916666666667,
          8.225166666666665,
          8.379083333333332,
          7.947166666666667,
          8.186083333333334,
          8.17825,
          8.223,
          8.177000000000001,
          8.165416666666667,
          8.297749999999999,
          8.5905,
          8.593166666666665,
          8.22525,
          8.023333333333332,
          8.130833333333332,
          8.38225,
          8.35875,
          8.571,
          8.408,
          8.422166666666666,
          8.506833333333335,
          8.534416666666667,
          8.728833333333332,
          8.522083333333333,
          8.632166666666668,
          8.242416666666665,
          8.633583333333332,
          8.71925,
          8.705250000000001,
          8.33825,
          8.628333333333336,
          8.51575,
          8.554,
          8.698333333333332,
          8.863666666666665,
          8.760333333333334,
          8.764666666666667,
          8.768666666666668,
          8.728416666666666,
          8.755083333333333,
          8.845,
          8.584833333333332,
          8.676916666666669,
          8.797083333333333,
          8.74675,
          8.586749999999999,
          8.365250000000001,
          8.625666666666666,
          8.638250000000001,
          8.873750000000001,
          8.560666666666666,
          8.62625,
          8.279583333333333,
          8.7325,
          8.77375,
          8.732666666666665,
          8.58375,
          8.797666666666666,
          8.745916666666666,
          8.856,
          8.409666666666666,
          8.527416666666667,
          8.599333333333332,
          8.700083333333334,
          8.516333333333334,
          8.595083333333333,
          8.700916666666666,
          8.59925,
          8.499583333333334,
          8.948249999999998,
          8.4675,
          8.744833333333334,
          8.347249999999999,
          8.850249999999999,
          8.692749999999998,
          8.733416666666665,
          8.980333333333332,
          9.165833333333333,
          8.639166666666666,
          9.028166666666666,
          8.691833333333335,
          8.658,
          8.833583333333332,
          8.994416666666668,
          9.201583333333334,
          8.921999999999999,
          9.234166666666667,
          9.179416666666667,
          8.836583333333332,
          8.866583333333333,
          9.038749999999999,
          9.347083333333332,
          9.038916666666667,
          9.202583333333333,
          9.522666666666666,
          9.285083333333333,
          9.201166666666667,
          9.414583333333335,
          9.570416666666667,
          9.525583333333334,
          9.324583333333333,
          9.700916666666666,
          9.532499999999999,
          9.732166666666664,
          9.431750000000001,
          9.505250000000002,
          9.703083333333332,
          9.516,
          9.507333333333333,
          9.606499999999999,
          9.570666666666666,
          9.830999999999998
         ]
        }
       ],
       "layout": {
        "template": {
         "data": {
          "bar": [
           {
            "error_x": {
             "color": "#2a3f5f"
            },
            "error_y": {
             "color": "#2a3f5f"
            },
            "marker": {
             "line": {
              "color": "#E5ECF6",
              "width": 0.5
             }
            },
            "type": "bar"
           }
          ],
          "barpolar": [
           {
            "marker": {
             "line": {
              "color": "#E5ECF6",
              "width": 0.5
             }
            },
            "type": "barpolar"
           }
          ],
          "carpet": [
           {
            "aaxis": {
             "endlinecolor": "#2a3f5f",
             "gridcolor": "white",
             "linecolor": "white",
             "minorgridcolor": "white",
             "startlinecolor": "#2a3f5f"
            },
            "baxis": {
             "endlinecolor": "#2a3f5f",
             "gridcolor": "white",
             "linecolor": "white",
             "minorgridcolor": "white",
             "startlinecolor": "#2a3f5f"
            },
            "type": "carpet"
           }
          ],
          "choropleth": [
           {
            "colorbar": {
             "outlinewidth": 0,
             "ticks": ""
            },
            "type": "choropleth"
           }
          ],
          "contour": [
           {
            "colorbar": {
             "outlinewidth": 0,
             "ticks": ""
            },
            "colorscale": [
             [
              0,
              "#0d0887"
             ],
             [
              0.1111111111111111,
              "#46039f"
             ],
             [
              0.2222222222222222,
              "#7201a8"
             ],
             [
              0.3333333333333333,
              "#9c179e"
             ],
             [
              0.4444444444444444,
              "#bd3786"
             ],
             [
              0.5555555555555556,
              "#d8576b"
             ],
             [
              0.6666666666666666,
              "#ed7953"
             ],
             [
              0.7777777777777778,
              "#fb9f3a"
             ],
             [
              0.8888888888888888,
              "#fdca26"
             ],
             [
              1,
              "#f0f921"
             ]
            ],
            "type": "contour"
           }
          ],
          "contourcarpet": [
           {
            "colorbar": {
             "outlinewidth": 0,
             "ticks": ""
            },
            "type": "contourcarpet"
           }
          ],
          "heatmap": [
           {
            "colorbar": {
             "outlinewidth": 0,
             "ticks": ""
            },
            "colorscale": [
             [
              0,
              "#0d0887"
             ],
             [
              0.1111111111111111,
              "#46039f"
             ],
             [
              0.2222222222222222,
              "#7201a8"
             ],
             [
              0.3333333333333333,
              "#9c179e"
             ],
             [
              0.4444444444444444,
              "#bd3786"
             ],
             [
              0.5555555555555556,
              "#d8576b"
             ],
             [
              0.6666666666666666,
              "#ed7953"
             ],
             [
              0.7777777777777778,
              "#fb9f3a"
             ],
             [
              0.8888888888888888,
              "#fdca26"
             ],
             [
              1,
              "#f0f921"
             ]
            ],
            "type": "heatmap"
           }
          ],
          "heatmapgl": [
           {
            "colorbar": {
             "outlinewidth": 0,
             "ticks": ""
            },
            "colorscale": [
             [
              0,
              "#0d0887"
             ],
             [
              0.1111111111111111,
              "#46039f"
             ],
             [
              0.2222222222222222,
              "#7201a8"
             ],
             [
              0.3333333333333333,
              "#9c179e"
             ],
             [
              0.4444444444444444,
              "#bd3786"
             ],
             [
              0.5555555555555556,
              "#d8576b"
             ],
             [
              0.6666666666666666,
              "#ed7953"
             ],
             [
              0.7777777777777778,
              "#fb9f3a"
             ],
             [
              0.8888888888888888,
              "#fdca26"
             ],
             [
              1,
              "#f0f921"
             ]
            ],
            "type": "heatmapgl"
           }
          ],
          "histogram": [
           {
            "marker": {
             "colorbar": {
              "outlinewidth": 0,
              "ticks": ""
             }
            },
            "type": "histogram"
           }
          ],
          "histogram2d": [
           {
            "colorbar": {
             "outlinewidth": 0,
             "ticks": ""
            },
            "colorscale": [
             [
              0,
              "#0d0887"
             ],
             [
              0.1111111111111111,
              "#46039f"
             ],
             [
              0.2222222222222222,
              "#7201a8"
             ],
             [
              0.3333333333333333,
              "#9c179e"
             ],
             [
              0.4444444444444444,
              "#bd3786"
             ],
             [
              0.5555555555555556,
              "#d8576b"
             ],
             [
              0.6666666666666666,
              "#ed7953"
             ],
             [
              0.7777777777777778,
              "#fb9f3a"
             ],
             [
              0.8888888888888888,
              "#fdca26"
             ],
             [
              1,
              "#f0f921"
             ]
            ],
            "type": "histogram2d"
           }
          ],
          "histogram2dcontour": [
           {
            "colorbar": {
             "outlinewidth": 0,
             "ticks": ""
            },
            "colorscale": [
             [
              0,
              "#0d0887"
             ],
             [
              0.1111111111111111,
              "#46039f"
             ],
             [
              0.2222222222222222,
              "#7201a8"
             ],
             [
              0.3333333333333333,
              "#9c179e"
             ],
             [
              0.4444444444444444,
              "#bd3786"
             ],
             [
              0.5555555555555556,
              "#d8576b"
             ],
             [
              0.6666666666666666,
              "#ed7953"
             ],
             [
              0.7777777777777778,
              "#fb9f3a"
             ],
             [
              0.8888888888888888,
              "#fdca26"
             ],
             [
              1,
              "#f0f921"
             ]
            ],
            "type": "histogram2dcontour"
           }
          ],
          "mesh3d": [
           {
            "colorbar": {
             "outlinewidth": 0,
             "ticks": ""
            },
            "type": "mesh3d"
           }
          ],
          "parcoords": [
           {
            "line": {
             "colorbar": {
              "outlinewidth": 0,
              "ticks": ""
             }
            },
            "type": "parcoords"
           }
          ],
          "pie": [
           {
            "automargin": true,
            "type": "pie"
           }
          ],
          "scatter": [
           {
            "marker": {
             "colorbar": {
              "outlinewidth": 0,
              "ticks": ""
             }
            },
            "type": "scatter"
           }
          ],
          "scatter3d": [
           {
            "line": {
             "colorbar": {
              "outlinewidth": 0,
              "ticks": ""
             }
            },
            "marker": {
             "colorbar": {
              "outlinewidth": 0,
              "ticks": ""
             }
            },
            "type": "scatter3d"
           }
          ],
          "scattercarpet": [
           {
            "marker": {
             "colorbar": {
              "outlinewidth": 0,
              "ticks": ""
             }
            },
            "type": "scattercarpet"
           }
          ],
          "scattergeo": [
           {
            "marker": {
             "colorbar": {
              "outlinewidth": 0,
              "ticks": ""
             }
            },
            "type": "scattergeo"
           }
          ],
          "scattergl": [
           {
            "marker": {
             "colorbar": {
              "outlinewidth": 0,
              "ticks": ""
             }
            },
            "type": "scattergl"
           }
          ],
          "scattermapbox": [
           {
            "marker": {
             "colorbar": {
              "outlinewidth": 0,
              "ticks": ""
             }
            },
            "type": "scattermapbox"
           }
          ],
          "scatterpolar": [
           {
            "marker": {
             "colorbar": {
              "outlinewidth": 0,
              "ticks": ""
             }
            },
            "type": "scatterpolar"
           }
          ],
          "scatterpolargl": [
           {
            "marker": {
             "colorbar": {
              "outlinewidth": 0,
              "ticks": ""
             }
            },
            "type": "scatterpolargl"
           }
          ],
          "scatterternary": [
           {
            "marker": {
             "colorbar": {
              "outlinewidth": 0,
              "ticks": ""
             }
            },
            "type": "scatterternary"
           }
          ],
          "surface": [
           {
            "colorbar": {
             "outlinewidth": 0,
             "ticks": ""
            },
            "colorscale": [
             [
              0,
              "#0d0887"
             ],
             [
              0.1111111111111111,
              "#46039f"
             ],
             [
              0.2222222222222222,
              "#7201a8"
             ],
             [
              0.3333333333333333,
              "#9c179e"
             ],
             [
              0.4444444444444444,
              "#bd3786"
             ],
             [
              0.5555555555555556,
              "#d8576b"
             ],
             [
              0.6666666666666666,
              "#ed7953"
             ],
             [
              0.7777777777777778,
              "#fb9f3a"
             ],
             [
              0.8888888888888888,
              "#fdca26"
             ],
             [
              1,
              "#f0f921"
             ]
            ],
            "type": "surface"
           }
          ],
          "table": [
           {
            "cells": {
             "fill": {
              "color": "#EBF0F8"
             },
             "line": {
              "color": "white"
             }
            },
            "header": {
             "fill": {
              "color": "#C8D4E3"
             },
             "line": {
              "color": "white"
             }
            },
            "type": "table"
           }
          ]
         },
         "layout": {
          "annotationdefaults": {
           "arrowcolor": "#2a3f5f",
           "arrowhead": 0,
           "arrowwidth": 1
          },
          "coloraxis": {
           "colorbar": {
            "outlinewidth": 0,
            "ticks": ""
           }
          },
          "colorscale": {
           "diverging": [
            [
             0,
             "#8e0152"
            ],
            [
             0.1,
             "#c51b7d"
            ],
            [
             0.2,
             "#de77ae"
            ],
            [
             0.3,
             "#f1b6da"
            ],
            [
             0.4,
             "#fde0ef"
            ],
            [
             0.5,
             "#f7f7f7"
            ],
            [
             0.6,
             "#e6f5d0"
            ],
            [
             0.7,
             "#b8e186"
            ],
            [
             0.8,
             "#7fbc41"
            ],
            [
             0.9,
             "#4d9221"
            ],
            [
             1,
             "#276419"
            ]
           ],
           "sequential": [
            [
             0,
             "#0d0887"
            ],
            [
             0.1111111111111111,
             "#46039f"
            ],
            [
             0.2222222222222222,
             "#7201a8"
            ],
            [
             0.3333333333333333,
             "#9c179e"
            ],
            [
             0.4444444444444444,
             "#bd3786"
            ],
            [
             0.5555555555555556,
             "#d8576b"
            ],
            [
             0.6666666666666666,
             "#ed7953"
            ],
            [
             0.7777777777777778,
             "#fb9f3a"
            ],
            [
             0.8888888888888888,
             "#fdca26"
            ],
            [
             1,
             "#f0f921"
            ]
           ],
           "sequentialminus": [
            [
             0,
             "#0d0887"
            ],
            [
             0.1111111111111111,
             "#46039f"
            ],
            [
             0.2222222222222222,
             "#7201a8"
            ],
            [
             0.3333333333333333,
             "#9c179e"
            ],
            [
             0.4444444444444444,
             "#bd3786"
            ],
            [
             0.5555555555555556,
             "#d8576b"
            ],
            [
             0.6666666666666666,
             "#ed7953"
            ],
            [
             0.7777777777777778,
             "#fb9f3a"
            ],
            [
             0.8888888888888888,
             "#fdca26"
            ],
            [
             1,
             "#f0f921"
            ]
           ]
          },
          "colorway": [
           "#636efa",
           "#EF553B",
           "#00cc96",
           "#ab63fa",
           "#FFA15A",
           "#19d3f3",
           "#FF6692",
           "#B6E880",
           "#FF97FF",
           "#FECB52"
          ],
          "font": {
           "color": "#2a3f5f"
          },
          "geo": {
           "bgcolor": "white",
           "lakecolor": "white",
           "landcolor": "#E5ECF6",
           "showlakes": true,
           "showland": true,
           "subunitcolor": "white"
          },
          "hoverlabel": {
           "align": "left"
          },
          "hovermode": "closest",
          "mapbox": {
           "style": "light"
          },
          "paper_bgcolor": "white",
          "plot_bgcolor": "#E5ECF6",
          "polar": {
           "angularaxis": {
            "gridcolor": "white",
            "linecolor": "white",
            "ticks": ""
           },
           "bgcolor": "#E5ECF6",
           "radialaxis": {
            "gridcolor": "white",
            "linecolor": "white",
            "ticks": ""
           }
          },
          "scene": {
           "xaxis": {
            "backgroundcolor": "#E5ECF6",
            "gridcolor": "white",
            "gridwidth": 2,
            "linecolor": "white",
            "showbackground": true,
            "ticks": "",
            "zerolinecolor": "white"
           },
           "yaxis": {
            "backgroundcolor": "#E5ECF6",
            "gridcolor": "white",
            "gridwidth": 2,
            "linecolor": "white",
            "showbackground": true,
            "ticks": "",
            "zerolinecolor": "white"
           },
           "zaxis": {
            "backgroundcolor": "#E5ECF6",
            "gridcolor": "white",
            "gridwidth": 2,
            "linecolor": "white",
            "showbackground": true,
            "ticks": "",
            "zerolinecolor": "white"
           }
          },
          "shapedefaults": {
           "line": {
            "color": "#2a3f5f"
           }
          },
          "ternary": {
           "aaxis": {
            "gridcolor": "white",
            "linecolor": "white",
            "ticks": ""
           },
           "baxis": {
            "gridcolor": "white",
            "linecolor": "white",
            "ticks": ""
           },
           "bgcolor": "#E5ECF6",
           "caxis": {
            "gridcolor": "white",
            "linecolor": "white",
            "ticks": ""
           }
          },
          "title": {
           "x": 0.05
          },
          "xaxis": {
           "automargin": true,
           "gridcolor": "white",
           "linecolor": "white",
           "ticks": "",
           "title": {
            "standoff": 15
           },
           "zerolinecolor": "white",
           "zerolinewidth": 2
          },
          "yaxis": {
           "automargin": true,
           "gridcolor": "white",
           "linecolor": "white",
           "ticks": "",
           "title": {
            "standoff": 15
           },
           "zerolinecolor": "white",
           "zerolinewidth": 2
          }
         }
        }
       }
      },
      "text/html": [
       "<div>\n",
       "        \n",
       "        \n",
       "            <div id=\"e0ea2ea6-a4df-4d8e-b3ee-edab73b99793\" class=\"plotly-graph-div\" style=\"height:525px; width:100%;\"></div>\n",
       "            <script type=\"text/javascript\">\n",
       "                require([\"plotly\"], function(Plotly) {\n",
       "                    window.PLOTLYENV=window.PLOTLYENV || {};\n",
       "                    \n",
       "                if (document.getElementById(\"e0ea2ea6-a4df-4d8e-b3ee-edab73b99793\")) {\n",
       "                    Plotly.newPlot(\n",
       "                        'e0ea2ea6-a4df-4d8e-b3ee-edab73b99793',\n",
       "                        [{\"mode\": \"markers\", \"type\": \"scatter\", \"x\": [1750, 1751, 1752, 1753, 1754, 1755, 1756, 1757, 1758, 1759, 1760, 1761, 1762, 1763, 1764, 1765, 1766, 1767, 1768, 1769, 1770, 1771, 1772, 1773, 1774, 1775, 1776, 1777, 1778, 1779, 1780, 1781, 1782, 1783, 1784, 1785, 1786, 1787, 1788, 1789, 1790, 1791, 1792, 1793, 1794, 1795, 1796, 1797, 1798, 1799, 1800, 1801, 1802, 1803, 1804, 1805, 1806, 1807, 1808, 1809, 1810, 1811, 1812, 1813, 1814, 1815, 1816, 1817, 1818, 1819, 1820, 1821, 1822, 1823, 1824, 1825, 1826, 1827, 1828, 1829, 1830, 1831, 1832, 1833, 1834, 1835, 1836, 1837, 1838, 1839, 1840, 1841, 1842, 1843, 1844, 1845, 1846, 1847, 1848, 1849, 1850, 1851, 1852, 1853, 1854, 1855, 1856, 1857, 1858, 1859, 1860, 1861, 1862, 1863, 1864, 1865, 1866, 1867, 1868, 1869, 1870, 1871, 1872, 1873, 1874, 1875, 1876, 1877, 1878, 1879, 1880, 1881, 1882, 1883, 1884, 1885, 1886, 1887, 1888, 1889, 1890, 1891, 1892, 1893, 1894, 1895, 1896, 1897, 1898, 1899, 1900, 1901, 1902, 1903, 1904, 1905, 1906, 1907, 1908, 1909, 1910, 1911, 1912, 1913, 1914, 1915, 1916, 1917, 1918, 1919, 1920, 1921, 1922, 1923, 1924, 1925, 1926, 1927, 1928, 1929, 1930, 1931, 1932, 1933, 1934, 1935, 1936, 1937, 1938, 1939, 1940, 1941, 1942, 1943, 1944, 1945, 1946, 1947, 1948, 1949, 1950, 1951, 1952, 1953, 1954, 1955, 1956, 1957, 1958, 1959, 1960, 1961, 1962, 1963, 1964, 1965, 1966, 1967, 1968, 1969, 1970, 1971, 1972, 1973, 1974, 1975, 1976, 1977, 1978, 1979, 1980, 1981, 1982, 1983, 1984, 1985, 1986, 1987, 1988, 1989, 1990, 1991, 1992, 1993, 1994, 1995, 1996, 1997, 1998, 1999, 2000, 2001, 2002, 2003, 2004, 2005, 2006, 2007, 2008, 2009, 2010, 2011, 2012, 2013, 2014, 2015], \"y\": [8.719363636363637, 7.9761428571428565, 5.7798333333333325, 8.388083333333332, 8.469333333333335, 8.355583333333334, 8.849583333333333, 9.022, 6.743583333333333, 7.985083333333333, 7.185166666666667, 8.772499999999999, 8.6065, 7.496749999999999, 8.400333333333332, 8.251916666666666, 8.405666666666667, 8.221499999999999, 6.781333333333333, 7.694583333333334, 7.691916666666667, 7.8531666666666675, 8.1935, 8.2215, 8.772166666666665, 9.183083333333334, 8.304, 8.256250000000001, 8.54225, 8.98325, 9.432916666666667, 8.102583333333332, 7.901249999999998, 7.680833333333333, 7.862000000000001, 7.3629999999999995, 8.258166666666666, 8.031833333333333, 8.447166666666666, 8.334166666666667, 7.982333333333333, 8.23425, 8.089, 8.229166666666666, 8.526000000000002, 8.350333333333333, 8.270999999999999, 8.510583333333335, 8.67025, 8.505749999999999, 8.484250000000001, 8.589666666666668, 8.578166666666666, 8.503, 8.844833333333334, 8.56275, 8.434083333333332, 8.281416666666665, 7.626833333333333, 7.076416666666667, 6.922666666666665, 6.859500000000001, 7.046250000000001, 7.7399166666666686, 7.59175, 7.239333333333334, 6.9375, 6.975666666666668, 7.828916666666667, 7.3691666666666675, 7.616249999999998, 8.090083333333332, 8.188333333333334, 7.7186666666666675, 8.547166666666667, 8.389333333333333, 8.356583333333335, 8.808749999999998, 8.165333333333335, 7.941833333333332, 8.51675, 7.639166666666667, 7.450166666666667, 8.013, 8.14675, 7.392499999999999, 7.695833333333334, 7.375666666666665, 7.514916666666665, 7.632249999999999, 7.796250000000001, 7.688166666666667, 8.02275, 8.173666666666666, 7.646333333333334, 7.851166666666668, 8.55275, 8.086, 7.979500000000001, 7.984416666666667, 7.900666666666666, 8.178583333333332, 8.100166666666665, 8.041833333333333, 8.2105, 8.110749999999998, 7.995916666666666, 7.758166666666668, 8.10025, 8.252, 7.960833333333333, 7.846500000000002, 7.558583333333334, 8.111833333333333, 7.983583333333335, 8.177833333333334, 8.292166666666665, 8.436333333333334, 8.247916666666667, 8.432083333333333, 8.201333333333332, 8.115083333333333, 8.193833333333332, 8.351083333333333, 8.4335, 7.859583333333334, 8.080083333333333, 8.539583333333333, 8.829749999999999, 8.165833333333333, 8.118749999999999, 8.270916666666666, 8.128916666666667, 7.976916666666665, 7.773666666666667, 7.919666666666668, 7.954499999999999, 7.914916666666667, 8.0905, 8.318999999999999, 7.971666666666667, 8.019333333333334, 8.065833333333332, 8.05675, 8.161, 8.147, 8.214916666666666, 8.293333333333335, 8.177999999999999, 8.396333333333333, 8.501583333333333, 8.541916666666665, 8.304416666666667, 8.220166666666668, 8.090916666666667, 8.225166666666665, 8.379083333333332, 7.947166666666667, 8.186083333333334, 8.17825, 8.223, 8.177000000000001, 8.165416666666667, 8.297749999999999, 8.5905, 8.593166666666665, 8.22525, 8.023333333333332, 8.130833333333332, 8.38225, 8.35875, 8.571, 8.408, 8.422166666666666, 8.506833333333335, 8.534416666666667, 8.728833333333332, 8.522083333333333, 8.632166666666668, 8.242416666666665, 8.633583333333332, 8.71925, 8.705250000000001, 8.33825, 8.628333333333336, 8.51575, 8.554, 8.698333333333332, 8.863666666666665, 8.760333333333334, 8.764666666666667, 8.768666666666668, 8.728416666666666, 8.755083333333333, 8.845, 8.584833333333332, 8.676916666666669, 8.797083333333333, 8.74675, 8.586749999999999, 8.365250000000001, 8.625666666666666, 8.638250000000001, 8.873750000000001, 8.560666666666666, 8.62625, 8.279583333333333, 8.7325, 8.77375, 8.732666666666665, 8.58375, 8.797666666666666, 8.745916666666666, 8.856, 8.409666666666666, 8.527416666666667, 8.599333333333332, 8.700083333333334, 8.516333333333334, 8.595083333333333, 8.700916666666666, 8.59925, 8.499583333333334, 8.948249999999998, 8.4675, 8.744833333333334, 8.347249999999999, 8.850249999999999, 8.692749999999998, 8.733416666666665, 8.980333333333332, 9.165833333333333, 8.639166666666666, 9.028166666666666, 8.691833333333335, 8.658, 8.833583333333332, 8.994416666666668, 9.201583333333334, 8.921999999999999, 9.234166666666667, 9.179416666666667, 8.836583333333332, 8.866583333333333, 9.038749999999999, 9.347083333333332, 9.038916666666667, 9.202583333333333, 9.522666666666666, 9.285083333333333, 9.201166666666667, 9.414583333333335, 9.570416666666667, 9.525583333333334, 9.324583333333333, 9.700916666666666, 9.532499999999999, 9.732166666666664, 9.431750000000001, 9.505250000000002, 9.703083333333332, 9.516, 9.507333333333333, 9.606499999999999, 9.570666666666666, 9.830999999999998]}],\n",
       "                        {\"template\": {\"data\": {\"bar\": [{\"error_x\": {\"color\": \"#2a3f5f\"}, \"error_y\": {\"color\": \"#2a3f5f\"}, \"marker\": {\"line\": {\"color\": \"#E5ECF6\", \"width\": 0.5}}, \"type\": \"bar\"}], \"barpolar\": [{\"marker\": {\"line\": {\"color\": \"#E5ECF6\", \"width\": 0.5}}, \"type\": \"barpolar\"}], \"carpet\": [{\"aaxis\": {\"endlinecolor\": \"#2a3f5f\", \"gridcolor\": \"white\", \"linecolor\": \"white\", \"minorgridcolor\": \"white\", \"startlinecolor\": \"#2a3f5f\"}, \"baxis\": {\"endlinecolor\": \"#2a3f5f\", \"gridcolor\": \"white\", \"linecolor\": \"white\", \"minorgridcolor\": \"white\", \"startlinecolor\": \"#2a3f5f\"}, \"type\": \"carpet\"}], \"choropleth\": [{\"colorbar\": {\"outlinewidth\": 0, \"ticks\": \"\"}, \"type\": \"choropleth\"}], \"contour\": [{\"colorbar\": {\"outlinewidth\": 0, \"ticks\": \"\"}, \"colorscale\": [[0.0, \"#0d0887\"], [0.1111111111111111, \"#46039f\"], [0.2222222222222222, \"#7201a8\"], [0.3333333333333333, \"#9c179e\"], [0.4444444444444444, \"#bd3786\"], [0.5555555555555556, \"#d8576b\"], [0.6666666666666666, \"#ed7953\"], [0.7777777777777778, \"#fb9f3a\"], [0.8888888888888888, \"#fdca26\"], [1.0, \"#f0f921\"]], \"type\": \"contour\"}], \"contourcarpet\": [{\"colorbar\": {\"outlinewidth\": 0, \"ticks\": \"\"}, \"type\": \"contourcarpet\"}], \"heatmap\": [{\"colorbar\": {\"outlinewidth\": 0, \"ticks\": \"\"}, \"colorscale\": [[0.0, \"#0d0887\"], [0.1111111111111111, \"#46039f\"], [0.2222222222222222, \"#7201a8\"], [0.3333333333333333, \"#9c179e\"], [0.4444444444444444, \"#bd3786\"], [0.5555555555555556, \"#d8576b\"], [0.6666666666666666, \"#ed7953\"], [0.7777777777777778, \"#fb9f3a\"], [0.8888888888888888, \"#fdca26\"], [1.0, \"#f0f921\"]], \"type\": \"heatmap\"}], \"heatmapgl\": [{\"colorbar\": {\"outlinewidth\": 0, \"ticks\": \"\"}, \"colorscale\": [[0.0, \"#0d0887\"], [0.1111111111111111, \"#46039f\"], [0.2222222222222222, \"#7201a8\"], [0.3333333333333333, \"#9c179e\"], [0.4444444444444444, \"#bd3786\"], [0.5555555555555556, \"#d8576b\"], [0.6666666666666666, \"#ed7953\"], [0.7777777777777778, \"#fb9f3a\"], [0.8888888888888888, \"#fdca26\"], [1.0, \"#f0f921\"]], \"type\": \"heatmapgl\"}], \"histogram\": [{\"marker\": {\"colorbar\": {\"outlinewidth\": 0, \"ticks\": \"\"}}, \"type\": \"histogram\"}], \"histogram2d\": [{\"colorbar\": {\"outlinewidth\": 0, \"ticks\": \"\"}, \"colorscale\": [[0.0, \"#0d0887\"], [0.1111111111111111, \"#46039f\"], [0.2222222222222222, \"#7201a8\"], [0.3333333333333333, \"#9c179e\"], [0.4444444444444444, \"#bd3786\"], [0.5555555555555556, \"#d8576b\"], [0.6666666666666666, \"#ed7953\"], [0.7777777777777778, \"#fb9f3a\"], [0.8888888888888888, \"#fdca26\"], [1.0, \"#f0f921\"]], \"type\": \"histogram2d\"}], \"histogram2dcontour\": [{\"colorbar\": {\"outlinewidth\": 0, \"ticks\": \"\"}, \"colorscale\": [[0.0, \"#0d0887\"], [0.1111111111111111, \"#46039f\"], [0.2222222222222222, \"#7201a8\"], [0.3333333333333333, \"#9c179e\"], [0.4444444444444444, \"#bd3786\"], [0.5555555555555556, \"#d8576b\"], [0.6666666666666666, \"#ed7953\"], [0.7777777777777778, \"#fb9f3a\"], [0.8888888888888888, \"#fdca26\"], [1.0, \"#f0f921\"]], \"type\": \"histogram2dcontour\"}], \"mesh3d\": [{\"colorbar\": {\"outlinewidth\": 0, \"ticks\": \"\"}, \"type\": \"mesh3d\"}], \"parcoords\": [{\"line\": {\"colorbar\": {\"outlinewidth\": 0, \"ticks\": \"\"}}, \"type\": \"parcoords\"}], \"pie\": [{\"automargin\": true, \"type\": \"pie\"}], \"scatter\": [{\"marker\": {\"colorbar\": {\"outlinewidth\": 0, \"ticks\": \"\"}}, \"type\": \"scatter\"}], \"scatter3d\": [{\"line\": {\"colorbar\": {\"outlinewidth\": 0, \"ticks\": \"\"}}, \"marker\": {\"colorbar\": {\"outlinewidth\": 0, \"ticks\": \"\"}}, \"type\": \"scatter3d\"}], \"scattercarpet\": [{\"marker\": {\"colorbar\": {\"outlinewidth\": 0, \"ticks\": \"\"}}, \"type\": \"scattercarpet\"}], \"scattergeo\": [{\"marker\": {\"colorbar\": {\"outlinewidth\": 0, \"ticks\": \"\"}}, \"type\": \"scattergeo\"}], \"scattergl\": [{\"marker\": {\"colorbar\": {\"outlinewidth\": 0, \"ticks\": \"\"}}, \"type\": \"scattergl\"}], \"scattermapbox\": [{\"marker\": {\"colorbar\": {\"outlinewidth\": 0, \"ticks\": \"\"}}, \"type\": \"scattermapbox\"}], \"scatterpolar\": [{\"marker\": {\"colorbar\": {\"outlinewidth\": 0, \"ticks\": \"\"}}, \"type\": \"scatterpolar\"}], \"scatterpolargl\": [{\"marker\": {\"colorbar\": {\"outlinewidth\": 0, \"ticks\": \"\"}}, \"type\": \"scatterpolargl\"}], \"scatterternary\": [{\"marker\": {\"colorbar\": {\"outlinewidth\": 0, \"ticks\": \"\"}}, \"type\": \"scatterternary\"}], \"surface\": [{\"colorbar\": {\"outlinewidth\": 0, \"ticks\": \"\"}, \"colorscale\": [[0.0, \"#0d0887\"], [0.1111111111111111, \"#46039f\"], [0.2222222222222222, \"#7201a8\"], [0.3333333333333333, \"#9c179e\"], [0.4444444444444444, \"#bd3786\"], [0.5555555555555556, \"#d8576b\"], [0.6666666666666666, \"#ed7953\"], [0.7777777777777778, \"#fb9f3a\"], [0.8888888888888888, \"#fdca26\"], [1.0, \"#f0f921\"]], \"type\": \"surface\"}], \"table\": [{\"cells\": {\"fill\": {\"color\": \"#EBF0F8\"}, \"line\": {\"color\": \"white\"}}, \"header\": {\"fill\": {\"color\": \"#C8D4E3\"}, \"line\": {\"color\": \"white\"}}, \"type\": \"table\"}]}, \"layout\": {\"annotationdefaults\": {\"arrowcolor\": \"#2a3f5f\", \"arrowhead\": 0, \"arrowwidth\": 1}, \"coloraxis\": {\"colorbar\": {\"outlinewidth\": 0, \"ticks\": \"\"}}, \"colorscale\": {\"diverging\": [[0, \"#8e0152\"], [0.1, \"#c51b7d\"], [0.2, \"#de77ae\"], [0.3, \"#f1b6da\"], [0.4, \"#fde0ef\"], [0.5, \"#f7f7f7\"], [0.6, \"#e6f5d0\"], [0.7, \"#b8e186\"], [0.8, \"#7fbc41\"], [0.9, \"#4d9221\"], [1, \"#276419\"]], \"sequential\": [[0.0, \"#0d0887\"], [0.1111111111111111, \"#46039f\"], [0.2222222222222222, \"#7201a8\"], [0.3333333333333333, \"#9c179e\"], [0.4444444444444444, \"#bd3786\"], [0.5555555555555556, \"#d8576b\"], [0.6666666666666666, \"#ed7953\"], [0.7777777777777778, \"#fb9f3a\"], [0.8888888888888888, \"#fdca26\"], [1.0, \"#f0f921\"]], \"sequentialminus\": [[0.0, \"#0d0887\"], [0.1111111111111111, \"#46039f\"], [0.2222222222222222, \"#7201a8\"], [0.3333333333333333, \"#9c179e\"], [0.4444444444444444, \"#bd3786\"], [0.5555555555555556, \"#d8576b\"], [0.6666666666666666, \"#ed7953\"], [0.7777777777777778, \"#fb9f3a\"], [0.8888888888888888, \"#fdca26\"], [1.0, \"#f0f921\"]]}, \"colorway\": [\"#636efa\", \"#EF553B\", \"#00cc96\", \"#ab63fa\", \"#FFA15A\", \"#19d3f3\", \"#FF6692\", \"#B6E880\", \"#FF97FF\", \"#FECB52\"], \"font\": {\"color\": \"#2a3f5f\"}, \"geo\": {\"bgcolor\": \"white\", \"lakecolor\": \"white\", \"landcolor\": \"#E5ECF6\", \"showlakes\": true, \"showland\": true, \"subunitcolor\": \"white\"}, \"hoverlabel\": {\"align\": \"left\"}, \"hovermode\": \"closest\", \"mapbox\": {\"style\": \"light\"}, \"paper_bgcolor\": \"white\", \"plot_bgcolor\": \"#E5ECF6\", \"polar\": {\"angularaxis\": {\"gridcolor\": \"white\", \"linecolor\": \"white\", \"ticks\": \"\"}, \"bgcolor\": \"#E5ECF6\", \"radialaxis\": {\"gridcolor\": \"white\", \"linecolor\": \"white\", \"ticks\": \"\"}}, \"scene\": {\"xaxis\": {\"backgroundcolor\": \"#E5ECF6\", \"gridcolor\": \"white\", \"gridwidth\": 2, \"linecolor\": \"white\", \"showbackground\": true, \"ticks\": \"\", \"zerolinecolor\": \"white\"}, \"yaxis\": {\"backgroundcolor\": \"#E5ECF6\", \"gridcolor\": \"white\", \"gridwidth\": 2, \"linecolor\": \"white\", \"showbackground\": true, \"ticks\": \"\", \"zerolinecolor\": \"white\"}, \"zaxis\": {\"backgroundcolor\": \"#E5ECF6\", \"gridcolor\": \"white\", \"gridwidth\": 2, \"linecolor\": \"white\", \"showbackground\": true, \"ticks\": \"\", \"zerolinecolor\": \"white\"}}, \"shapedefaults\": {\"line\": {\"color\": \"#2a3f5f\"}}, \"ternary\": {\"aaxis\": {\"gridcolor\": \"white\", \"linecolor\": \"white\", \"ticks\": \"\"}, \"baxis\": {\"gridcolor\": \"white\", \"linecolor\": \"white\", \"ticks\": \"\"}, \"bgcolor\": \"#E5ECF6\", \"caxis\": {\"gridcolor\": \"white\", \"linecolor\": \"white\", \"ticks\": \"\"}}, \"title\": {\"x\": 0.05}, \"xaxis\": {\"automargin\": true, \"gridcolor\": \"white\", \"linecolor\": \"white\", \"ticks\": \"\", \"title\": {\"standoff\": 15}, \"zerolinecolor\": \"white\", \"zerolinewidth\": 2}, \"yaxis\": {\"automargin\": true, \"gridcolor\": \"white\", \"linecolor\": \"white\", \"ticks\": \"\", \"title\": {\"standoff\": 15}, \"zerolinecolor\": \"white\", \"zerolinewidth\": 2}}}},\n",
       "                        {\"responsive\": true}\n",
       "                    ).then(function(){\n",
       "                            \n",
       "var gd = document.getElementById('e0ea2ea6-a4df-4d8e-b3ee-edab73b99793');\n",
       "var x = new MutationObserver(function (mutations, observer) {{\n",
       "        var display = window.getComputedStyle(gd).display;\n",
       "        if (!display || display === 'none') {{\n",
       "            console.log([gd, 'removed!']);\n",
       "            Plotly.purge(gd);\n",
       "            observer.disconnect();\n",
       "        }}\n",
       "}});\n",
       "\n",
       "// Listen for the removal of the full notebook cells\n",
       "var notebookContainer = gd.closest('#notebook-container');\n",
       "if (notebookContainer) {{\n",
       "    x.observe(notebookContainer, {childList: true});\n",
       "}}\n",
       "\n",
       "// Listen for the clearing of the current output cell\n",
       "var outputEl = gd.closest('.output');\n",
       "if (outputEl) {{\n",
       "    x.observe(outputEl, {childList: true});\n",
       "}}\n",
       "\n",
       "                        })\n",
       "                };\n",
       "                });\n",
       "            </script>\n",
       "        </div>"
      ]
     },
     "metadata": {},
     "output_type": "display_data"
    }
   ],
   "source": [
    "global4=pd.read_csv('/Users/lindyhua/Library/Mobile Documents/com~apple~CloudDocs/Documents/Learning with Hands/Data Analytics/Datasets/climate-change-earth-surface-temperature-data/GlobalTemperatures.csv')\n",
    "global4['dt'] = pd.DatetimeIndex(global4['dt']).year\n",
    "global4 = global4.pivot_table(index='dt', values='LandAverageTemperature', aggfunc='mean').reset_index()\n",
    "trace=go.Scatter(\n",
    "    x=global4['dt'],\n",
    "    y=global4['LandAverageTemperature'],\n",
    "    mode='markers',\n",
    "    )\n",
    "data=[trace]\n",
    "\n",
    "py.iplot(data, filename='line-mode')"
   ]
  },
  {
   "cell_type": "markdown",
   "metadata": {},
   "source": [
    "# Chart: Land Minimum and Maximum Temperatures 1750 - 2015"
   ]
  },
  {
   "cell_type": "code",
   "execution_count": 16,
   "metadata": {},
   "outputs": [],
   "source": [
    "global5 = pd.read_csv('/Users/lindyhua/Library/Mobile Documents/com~apple~CloudDocs/Documents/Learning with Hands/Data Analytics/Datasets/climate-change-earth-surface-temperature-data/GlobalTemperatures.csv')"
   ]
  },
  {
   "cell_type": "code",
   "execution_count": 17,
   "metadata": {},
   "outputs": [],
   "source": [
    "import datetime\n",
    "global5.dropna(inplace=True)"
   ]
  },
  {
   "cell_type": "code",
   "execution_count": 18,
   "metadata": {},
   "outputs": [
    {
     "data": {
      "text/html": [
       "<div>\n",
       "<style scoped>\n",
       "    .dataframe tbody tr th:only-of-type {\n",
       "        vertical-align: middle;\n",
       "    }\n",
       "\n",
       "    .dataframe tbody tr th {\n",
       "        vertical-align: top;\n",
       "    }\n",
       "\n",
       "    .dataframe thead th {\n",
       "        text-align: right;\n",
       "    }\n",
       "</style>\n",
       "<table border=\"1\" class=\"dataframe\">\n",
       "  <thead>\n",
       "    <tr style=\"text-align: right;\">\n",
       "      <th></th>\n",
       "      <th>dt</th>\n",
       "      <th>LandAverageTemperature</th>\n",
       "      <th>LandAverageTemperatureUncertainty</th>\n",
       "      <th>LandMaxTemperature</th>\n",
       "      <th>LandMaxTemperatureUncertainty</th>\n",
       "      <th>LandMinTemperature</th>\n",
       "      <th>LandMinTemperatureUncertainty</th>\n",
       "      <th>LandAndOceanAverageTemperature</th>\n",
       "      <th>LandAndOceanAverageTemperatureUncertainty</th>\n",
       "    </tr>\n",
       "  </thead>\n",
       "  <tbody>\n",
       "    <tr>\n",
       "      <td>1200</td>\n",
       "      <td>1850</td>\n",
       "      <td>0.749</td>\n",
       "      <td>1.105</td>\n",
       "      <td>8.242</td>\n",
       "      <td>1.738</td>\n",
       "      <td>-3.206</td>\n",
       "      <td>2.822</td>\n",
       "      <td>12.833</td>\n",
       "      <td>0.367</td>\n",
       "    </tr>\n",
       "    <tr>\n",
       "      <td>1201</td>\n",
       "      <td>1850</td>\n",
       "      <td>3.071</td>\n",
       "      <td>1.275</td>\n",
       "      <td>9.970</td>\n",
       "      <td>3.007</td>\n",
       "      <td>-2.291</td>\n",
       "      <td>1.623</td>\n",
       "      <td>13.588</td>\n",
       "      <td>0.414</td>\n",
       "    </tr>\n",
       "    <tr>\n",
       "      <td>1202</td>\n",
       "      <td>1850</td>\n",
       "      <td>4.954</td>\n",
       "      <td>0.955</td>\n",
       "      <td>10.347</td>\n",
       "      <td>2.401</td>\n",
       "      <td>-1.905</td>\n",
       "      <td>1.410</td>\n",
       "      <td>14.043</td>\n",
       "      <td>0.341</td>\n",
       "    </tr>\n",
       "    <tr>\n",
       "      <td>1203</td>\n",
       "      <td>1850</td>\n",
       "      <td>7.217</td>\n",
       "      <td>0.665</td>\n",
       "      <td>12.934</td>\n",
       "      <td>1.004</td>\n",
       "      <td>1.018</td>\n",
       "      <td>1.329</td>\n",
       "      <td>14.667</td>\n",
       "      <td>0.267</td>\n",
       "    </tr>\n",
       "    <tr>\n",
       "      <td>1204</td>\n",
       "      <td>1850</td>\n",
       "      <td>10.004</td>\n",
       "      <td>0.617</td>\n",
       "      <td>15.655</td>\n",
       "      <td>2.406</td>\n",
       "      <td>3.811</td>\n",
       "      <td>1.347</td>\n",
       "      <td>15.507</td>\n",
       "      <td>0.249</td>\n",
       "    </tr>\n",
       "    <tr>\n",
       "      <td>...</td>\n",
       "      <td>...</td>\n",
       "      <td>...</td>\n",
       "      <td>...</td>\n",
       "      <td>...</td>\n",
       "      <td>...</td>\n",
       "      <td>...</td>\n",
       "      <td>...</td>\n",
       "      <td>...</td>\n",
       "      <td>...</td>\n",
       "    </tr>\n",
       "    <tr>\n",
       "      <td>3187</td>\n",
       "      <td>2015</td>\n",
       "      <td>14.755</td>\n",
       "      <td>0.072</td>\n",
       "      <td>20.699</td>\n",
       "      <td>0.110</td>\n",
       "      <td>9.005</td>\n",
       "      <td>0.170</td>\n",
       "      <td>17.589</td>\n",
       "      <td>0.057</td>\n",
       "    </tr>\n",
       "    <tr>\n",
       "      <td>3188</td>\n",
       "      <td>2015</td>\n",
       "      <td>12.999</td>\n",
       "      <td>0.079</td>\n",
       "      <td>18.845</td>\n",
       "      <td>0.088</td>\n",
       "      <td>7.199</td>\n",
       "      <td>0.229</td>\n",
       "      <td>17.049</td>\n",
       "      <td>0.058</td>\n",
       "    </tr>\n",
       "    <tr>\n",
       "      <td>3189</td>\n",
       "      <td>2015</td>\n",
       "      <td>10.801</td>\n",
       "      <td>0.102</td>\n",
       "      <td>16.450</td>\n",
       "      <td>0.059</td>\n",
       "      <td>5.232</td>\n",
       "      <td>0.115</td>\n",
       "      <td>16.290</td>\n",
       "      <td>0.062</td>\n",
       "    </tr>\n",
       "    <tr>\n",
       "      <td>3190</td>\n",
       "      <td>2015</td>\n",
       "      <td>7.433</td>\n",
       "      <td>0.119</td>\n",
       "      <td>12.892</td>\n",
       "      <td>0.093</td>\n",
       "      <td>2.157</td>\n",
       "      <td>0.106</td>\n",
       "      <td>15.252</td>\n",
       "      <td>0.063</td>\n",
       "    </tr>\n",
       "    <tr>\n",
       "      <td>3191</td>\n",
       "      <td>2015</td>\n",
       "      <td>5.518</td>\n",
       "      <td>0.100</td>\n",
       "      <td>10.725</td>\n",
       "      <td>0.154</td>\n",
       "      <td>0.287</td>\n",
       "      <td>0.099</td>\n",
       "      <td>14.774</td>\n",
       "      <td>0.062</td>\n",
       "    </tr>\n",
       "  </tbody>\n",
       "</table>\n",
       "<p>1992 rows × 9 columns</p>\n",
       "</div>"
      ],
      "text/plain": [
       "        dt  LandAverageTemperature  LandAverageTemperatureUncertainty  \\\n",
       "1200  1850                   0.749                              1.105   \n",
       "1201  1850                   3.071                              1.275   \n",
       "1202  1850                   4.954                              0.955   \n",
       "1203  1850                   7.217                              0.665   \n",
       "1204  1850                  10.004                              0.617   \n",
       "...    ...                     ...                                ...   \n",
       "3187  2015                  14.755                              0.072   \n",
       "3188  2015                  12.999                              0.079   \n",
       "3189  2015                  10.801                              0.102   \n",
       "3190  2015                   7.433                              0.119   \n",
       "3191  2015                   5.518                              0.100   \n",
       "\n",
       "      LandMaxTemperature  LandMaxTemperatureUncertainty  LandMinTemperature  \\\n",
       "1200               8.242                          1.738              -3.206   \n",
       "1201               9.970                          3.007              -2.291   \n",
       "1202              10.347                          2.401              -1.905   \n",
       "1203              12.934                          1.004               1.018   \n",
       "1204              15.655                          2.406               3.811   \n",
       "...                  ...                            ...                 ...   \n",
       "3187              20.699                          0.110               9.005   \n",
       "3188              18.845                          0.088               7.199   \n",
       "3189              16.450                          0.059               5.232   \n",
       "3190              12.892                          0.093               2.157   \n",
       "3191              10.725                          0.154               0.287   \n",
       "\n",
       "      LandMinTemperatureUncertainty  LandAndOceanAverageTemperature  \\\n",
       "1200                          2.822                          12.833   \n",
       "1201                          1.623                          13.588   \n",
       "1202                          1.410                          14.043   \n",
       "1203                          1.329                          14.667   \n",
       "1204                          1.347                          15.507   \n",
       "...                             ...                             ...   \n",
       "3187                          0.170                          17.589   \n",
       "3188                          0.229                          17.049   \n",
       "3189                          0.115                          16.290   \n",
       "3190                          0.106                          15.252   \n",
       "3191                          0.099                          14.774   \n",
       "\n",
       "      LandAndOceanAverageTemperatureUncertainty  \n",
       "1200                                      0.367  \n",
       "1201                                      0.414  \n",
       "1202                                      0.341  \n",
       "1203                                      0.267  \n",
       "1204                                      0.249  \n",
       "...                                         ...  \n",
       "3187                                      0.057  \n",
       "3188                                      0.058  \n",
       "3189                                      0.062  \n",
       "3190                                      0.063  \n",
       "3191                                      0.062  \n",
       "\n",
       "[1992 rows x 9 columns]"
      ]
     },
     "execution_count": 18,
     "metadata": {},
     "output_type": "execute_result"
    }
   ],
   "source": [
    "global5['dt'] = pd.DatetimeIndex(global5['dt']).year\n",
    "global5"
   ]
  },
  {
   "cell_type": "code",
   "execution_count": 19,
   "metadata": {},
   "outputs": [],
   "source": [
    "global5df = global5[['dt','LandMaxTemperature','LandMinTemperature']]"
   ]
  },
  {
   "cell_type": "code",
   "execution_count": 20,
   "metadata": {},
   "outputs": [
    {
     "data": {
      "text/html": [
       "<div>\n",
       "<style scoped>\n",
       "    .dataframe tbody tr th:only-of-type {\n",
       "        vertical-align: middle;\n",
       "    }\n",
       "\n",
       "    .dataframe tbody tr th {\n",
       "        vertical-align: top;\n",
       "    }\n",
       "\n",
       "    .dataframe thead th {\n",
       "        text-align: right;\n",
       "    }\n",
       "</style>\n",
       "<table border=\"1\" class=\"dataframe\">\n",
       "  <thead>\n",
       "    <tr style=\"text-align: right;\">\n",
       "      <th></th>\n",
       "      <th>dt</th>\n",
       "      <th>LandMaxTemperature</th>\n",
       "    </tr>\n",
       "  </thead>\n",
       "  <tbody>\n",
       "    <tr>\n",
       "      <td>0</td>\n",
       "      <td>1850</td>\n",
       "      <td>13.476667</td>\n",
       "    </tr>\n",
       "    <tr>\n",
       "      <td>1</td>\n",
       "      <td>1851</td>\n",
       "      <td>13.081000</td>\n",
       "    </tr>\n",
       "    <tr>\n",
       "      <td>2</td>\n",
       "      <td>1852</td>\n",
       "      <td>13.397333</td>\n",
       "    </tr>\n",
       "    <tr>\n",
       "      <td>3</td>\n",
       "      <td>1853</td>\n",
       "      <td>13.886583</td>\n",
       "    </tr>\n",
       "    <tr>\n",
       "      <td>4</td>\n",
       "      <td>1854</td>\n",
       "      <td>13.977417</td>\n",
       "    </tr>\n",
       "    <tr>\n",
       "      <td>...</td>\n",
       "      <td>...</td>\n",
       "      <td>...</td>\n",
       "    </tr>\n",
       "    <tr>\n",
       "      <td>161</td>\n",
       "      <td>2011</td>\n",
       "      <td>15.284833</td>\n",
       "    </tr>\n",
       "    <tr>\n",
       "      <td>162</td>\n",
       "      <td>2012</td>\n",
       "      <td>15.332833</td>\n",
       "    </tr>\n",
       "    <tr>\n",
       "      <td>163</td>\n",
       "      <td>2013</td>\n",
       "      <td>15.373833</td>\n",
       "    </tr>\n",
       "    <tr>\n",
       "      <td>164</td>\n",
       "      <td>2014</td>\n",
       "      <td>15.313583</td>\n",
       "    </tr>\n",
       "    <tr>\n",
       "      <td>165</td>\n",
       "      <td>2015</td>\n",
       "      <td>15.572667</td>\n",
       "    </tr>\n",
       "  </tbody>\n",
       "</table>\n",
       "<p>166 rows × 2 columns</p>\n",
       "</div>"
      ],
      "text/plain": [
       "       dt  LandMaxTemperature\n",
       "0    1850           13.476667\n",
       "1    1851           13.081000\n",
       "2    1852           13.397333\n",
       "3    1853           13.886583\n",
       "4    1854           13.977417\n",
       "..    ...                 ...\n",
       "161  2011           15.284833\n",
       "162  2012           15.332833\n",
       "163  2013           15.373833\n",
       "164  2014           15.313583\n",
       "165  2015           15.572667\n",
       "\n",
       "[166 rows x 2 columns]"
      ]
     },
     "execution_count": 20,
     "metadata": {},
     "output_type": "execute_result"
    }
   ],
   "source": [
    "global5df1 = global5df.pivot_table(index='dt', values='LandMaxTemperature', aggfunc='mean').reset_index()\n",
    "global5df1"
   ]
  },
  {
   "cell_type": "code",
   "execution_count": 21,
   "metadata": {},
   "outputs": [
    {
     "data": {
      "text/html": [
       "<div>\n",
       "<style scoped>\n",
       "    .dataframe tbody tr th:only-of-type {\n",
       "        vertical-align: middle;\n",
       "    }\n",
       "\n",
       "    .dataframe tbody tr th {\n",
       "        vertical-align: top;\n",
       "    }\n",
       "\n",
       "    .dataframe thead th {\n",
       "        text-align: right;\n",
       "    }\n",
       "</style>\n",
       "<table border=\"1\" class=\"dataframe\">\n",
       "  <thead>\n",
       "    <tr style=\"text-align: right;\">\n",
       "      <th></th>\n",
       "      <th>dt</th>\n",
       "      <th>LandMinTemperature</th>\n",
       "    </tr>\n",
       "  </thead>\n",
       "  <tbody>\n",
       "    <tr>\n",
       "      <td>0</td>\n",
       "      <td>1850</td>\n",
       "      <td>1.964333</td>\n",
       "    </tr>\n",
       "    <tr>\n",
       "      <td>1</td>\n",
       "      <td>1851</td>\n",
       "      <td>2.203917</td>\n",
       "    </tr>\n",
       "    <tr>\n",
       "      <td>2</td>\n",
       "      <td>1852</td>\n",
       "      <td>2.337000</td>\n",
       "    </tr>\n",
       "    <tr>\n",
       "      <td>3</td>\n",
       "      <td>1853</td>\n",
       "      <td>1.892500</td>\n",
       "    </tr>\n",
       "    <tr>\n",
       "      <td>4</td>\n",
       "      <td>1854</td>\n",
       "      <td>1.762167</td>\n",
       "    </tr>\n",
       "    <tr>\n",
       "      <td>...</td>\n",
       "      <td>...</td>\n",
       "      <td>...</td>\n",
       "    </tr>\n",
       "    <tr>\n",
       "      <td>161</td>\n",
       "      <td>2011</td>\n",
       "      <td>3.827667</td>\n",
       "    </tr>\n",
       "    <tr>\n",
       "      <td>162</td>\n",
       "      <td>2012</td>\n",
       "      <td>3.756167</td>\n",
       "    </tr>\n",
       "    <tr>\n",
       "      <td>163</td>\n",
       "      <td>2013</td>\n",
       "      <td>3.911333</td>\n",
       "    </tr>\n",
       "    <tr>\n",
       "      <td>164</td>\n",
       "      <td>2014</td>\n",
       "      <td>3.877750</td>\n",
       "    </tr>\n",
       "    <tr>\n",
       "      <td>165</td>\n",
       "      <td>2015</td>\n",
       "      <td>4.148833</td>\n",
       "    </tr>\n",
       "  </tbody>\n",
       "</table>\n",
       "<p>166 rows × 2 columns</p>\n",
       "</div>"
      ],
      "text/plain": [
       "       dt  LandMinTemperature\n",
       "0    1850            1.964333\n",
       "1    1851            2.203917\n",
       "2    1852            2.337000\n",
       "3    1853            1.892500\n",
       "4    1854            1.762167\n",
       "..    ...                 ...\n",
       "161  2011            3.827667\n",
       "162  2012            3.756167\n",
       "163  2013            3.911333\n",
       "164  2014            3.877750\n",
       "165  2015            4.148833\n",
       "\n",
       "[166 rows x 2 columns]"
      ]
     },
     "execution_count": 21,
     "metadata": {},
     "output_type": "execute_result"
    }
   ],
   "source": [
    "global5df2 = global5df.pivot_table(index='dt', values='LandMinTemperature').reset_index()\n",
    "global5df2"
   ]
  },
  {
   "cell_type": "code",
   "execution_count": 22,
   "metadata": {},
   "outputs": [
    {
     "data": {
      "application/vnd.plotly.v1+json": {
       "config": {
        "linkText": "Export to plot.ly",
        "plotlyServerURL": "https://plot.ly",
        "showLink": false
       },
       "data": [
        {
         "mode": "lines",
         "type": "scatter",
         "x": [
          1750,
          1751,
          1752,
          1753,
          1754,
          1755,
          1756,
          1757,
          1758,
          1759,
          1760,
          1761,
          1762,
          1763,
          1764,
          1765,
          1766,
          1767,
          1768,
          1769,
          1770,
          1771,
          1772,
          1773,
          1774,
          1775,
          1776,
          1777,
          1778,
          1779,
          1780,
          1781,
          1782,
          1783,
          1784,
          1785,
          1786,
          1787,
          1788,
          1789,
          1790,
          1791,
          1792,
          1793,
          1794,
          1795,
          1796,
          1797,
          1798,
          1799,
          1800,
          1801,
          1802,
          1803,
          1804,
          1805,
          1806,
          1807,
          1808,
          1809,
          1810,
          1811,
          1812,
          1813,
          1814,
          1815,
          1816,
          1817,
          1818,
          1819,
          1820,
          1821,
          1822,
          1823,
          1824,
          1825,
          1826,
          1827,
          1828,
          1829,
          1830,
          1831,
          1832,
          1833,
          1834,
          1835,
          1836,
          1837,
          1838,
          1839,
          1840,
          1841,
          1842,
          1843,
          1844,
          1845,
          1846,
          1847,
          1848,
          1849,
          1850,
          1851,
          1852,
          1853,
          1854,
          1855,
          1856,
          1857,
          1858,
          1859,
          1860,
          1861,
          1862,
          1863,
          1864,
          1865,
          1866,
          1867,
          1868,
          1869,
          1870,
          1871,
          1872,
          1873,
          1874,
          1875,
          1876,
          1877,
          1878,
          1879,
          1880,
          1881,
          1882,
          1883,
          1884,
          1885,
          1886,
          1887,
          1888,
          1889,
          1890,
          1891,
          1892,
          1893,
          1894,
          1895,
          1896,
          1897,
          1898,
          1899,
          1900,
          1901,
          1902,
          1903,
          1904,
          1905,
          1906,
          1907,
          1908,
          1909,
          1910,
          1911,
          1912,
          1913,
          1914,
          1915,
          1916,
          1917,
          1918,
          1919,
          1920,
          1921,
          1922,
          1923,
          1924,
          1925,
          1926,
          1927,
          1928,
          1929,
          1930,
          1931,
          1932,
          1933,
          1934,
          1935,
          1936,
          1937,
          1938,
          1939,
          1940,
          1941,
          1942,
          1943,
          1944,
          1945,
          1946,
          1947,
          1948,
          1949,
          1950,
          1951,
          1952,
          1953,
          1954,
          1955,
          1956,
          1957,
          1958,
          1959,
          1960,
          1961,
          1962,
          1963,
          1964,
          1965,
          1966,
          1967,
          1968,
          1969,
          1970,
          1971,
          1972,
          1973,
          1974,
          1975,
          1976,
          1977,
          1978,
          1979,
          1980,
          1981,
          1982,
          1983,
          1984,
          1985,
          1986,
          1987,
          1988,
          1989,
          1990,
          1991,
          1992,
          1993,
          1994,
          1995,
          1996,
          1997,
          1998,
          1999,
          2000,
          2001,
          2002,
          2003,
          2004,
          2005,
          2006,
          2007,
          2008,
          2009,
          2010,
          2011,
          2012,
          2013,
          2014,
          2015
         ],
         "y": [
          8.719363636363637,
          7.9761428571428565,
          5.7798333333333325,
          8.388083333333332,
          8.469333333333335,
          8.355583333333334,
          8.849583333333333,
          9.022,
          6.743583333333333,
          7.985083333333333,
          7.185166666666667,
          8.772499999999999,
          8.6065,
          7.496749999999999,
          8.400333333333332,
          8.251916666666666,
          8.405666666666667,
          8.221499999999999,
          6.781333333333333,
          7.694583333333334,
          7.691916666666667,
          7.8531666666666675,
          8.1935,
          8.2215,
          8.772166666666665,
          9.183083333333334,
          8.304,
          8.256250000000001,
          8.54225,
          8.98325,
          9.432916666666667,
          8.102583333333332,
          7.901249999999998,
          7.680833333333333,
          7.862000000000001,
          7.3629999999999995,
          8.258166666666666,
          8.031833333333333,
          8.447166666666666,
          8.334166666666667,
          7.982333333333333,
          8.23425,
          8.089,
          8.229166666666666,
          8.526000000000002,
          8.350333333333333,
          8.270999999999999,
          8.510583333333335,
          8.67025,
          8.505749999999999,
          8.484250000000001,
          8.589666666666668,
          8.578166666666666,
          8.503,
          8.844833333333334,
          8.56275,
          8.434083333333332,
          8.281416666666665,
          7.626833333333333,
          7.076416666666667,
          6.922666666666665,
          6.859500000000001,
          7.046250000000001,
          7.7399166666666686,
          7.59175,
          7.239333333333334,
          6.9375,
          6.975666666666668,
          7.828916666666667,
          7.3691666666666675,
          7.616249999999998,
          8.090083333333332,
          8.188333333333334,
          7.7186666666666675,
          8.547166666666667,
          8.389333333333333,
          8.356583333333335,
          8.808749999999998,
          8.165333333333335,
          7.941833333333332,
          8.51675,
          7.639166666666667,
          7.450166666666667,
          8.013,
          8.14675,
          7.392499999999999,
          7.695833333333334,
          7.375666666666665,
          7.514916666666665,
          7.632249999999999,
          7.796250000000001,
          7.688166666666667,
          8.02275,
          8.173666666666666,
          7.646333333333334,
          7.851166666666668,
          8.55275,
          8.086,
          7.979500000000001,
          7.984416666666667,
          7.900666666666666,
          8.178583333333332,
          8.100166666666665,
          8.041833333333333,
          8.2105,
          8.110749999999998,
          7.995916666666666,
          7.758166666666668,
          8.10025,
          8.252,
          7.960833333333333,
          7.846500000000002,
          7.558583333333334,
          8.111833333333333,
          7.983583333333335,
          8.177833333333334,
          8.292166666666665,
          8.436333333333334,
          8.247916666666667,
          8.432083333333333,
          8.201333333333332,
          8.115083333333333,
          8.193833333333332,
          8.351083333333333,
          8.4335,
          7.859583333333334,
          8.080083333333333,
          8.539583333333333,
          8.829749999999999,
          8.165833333333333,
          8.118749999999999,
          8.270916666666666,
          8.128916666666667,
          7.976916666666665,
          7.773666666666667,
          7.919666666666668,
          7.954499999999999,
          7.914916666666667,
          8.0905,
          8.318999999999999,
          7.971666666666667,
          8.019333333333334,
          8.065833333333332,
          8.05675,
          8.161,
          8.147,
          8.214916666666666,
          8.293333333333335,
          8.177999999999999,
          8.396333333333333,
          8.501583333333333,
          8.541916666666665,
          8.304416666666667,
          8.220166666666668,
          8.090916666666667,
          8.225166666666665,
          8.379083333333332,
          7.947166666666667,
          8.186083333333334,
          8.17825,
          8.223,
          8.177000000000001,
          8.165416666666667,
          8.297749999999999,
          8.5905,
          8.593166666666665,
          8.22525,
          8.023333333333332,
          8.130833333333332,
          8.38225,
          8.35875,
          8.571,
          8.408,
          8.422166666666666,
          8.506833333333335,
          8.534416666666667,
          8.728833333333332,
          8.522083333333333,
          8.632166666666668,
          8.242416666666665,
          8.633583333333332,
          8.71925,
          8.705250000000001,
          8.33825,
          8.628333333333336,
          8.51575,
          8.554,
          8.698333333333332,
          8.863666666666665,
          8.760333333333334,
          8.764666666666667,
          8.768666666666668,
          8.728416666666666,
          8.755083333333333,
          8.845,
          8.584833333333332,
          8.676916666666669,
          8.797083333333333,
          8.74675,
          8.586749999999999,
          8.365250000000001,
          8.625666666666666,
          8.638250000000001,
          8.873750000000001,
          8.560666666666666,
          8.62625,
          8.279583333333333,
          8.7325,
          8.77375,
          8.732666666666665,
          8.58375,
          8.797666666666666,
          8.745916666666666,
          8.856,
          8.409666666666666,
          8.527416666666667,
          8.599333333333332,
          8.700083333333334,
          8.516333333333334,
          8.595083333333333,
          8.700916666666666,
          8.59925,
          8.499583333333334,
          8.948249999999998,
          8.4675,
          8.744833333333334,
          8.347249999999999,
          8.850249999999999,
          8.692749999999998,
          8.733416666666665,
          8.980333333333332,
          9.165833333333333,
          8.639166666666666,
          9.028166666666666,
          8.691833333333335,
          8.658,
          8.833583333333332,
          8.994416666666668,
          9.201583333333334,
          8.921999999999999,
          9.234166666666667,
          9.179416666666667,
          8.836583333333332,
          8.866583333333333,
          9.038749999999999,
          9.347083333333332,
          9.038916666666667,
          9.202583333333333,
          9.522666666666666,
          9.285083333333333,
          9.201166666666667,
          9.414583333333335,
          9.570416666666667,
          9.525583333333334,
          9.324583333333333,
          9.700916666666666,
          9.532499999999999,
          9.732166666666664,
          9.431750000000001,
          9.505250000000002,
          9.703083333333332,
          9.516,
          9.507333333333333,
          9.606499999999999,
          9.570666666666666,
          9.830999999999998
         ]
        },
        {
         "mode": "lines",
         "type": "scatter",
         "x": [
          1850,
          1851,
          1852,
          1853,
          1854,
          1855,
          1856,
          1857,
          1858,
          1859,
          1860,
          1861,
          1862,
          1863,
          1864,
          1865,
          1866,
          1867,
          1868,
          1869,
          1870,
          1871,
          1872,
          1873,
          1874,
          1875,
          1876,
          1877,
          1878,
          1879,
          1880,
          1881,
          1882,
          1883,
          1884,
          1885,
          1886,
          1887,
          1888,
          1889,
          1890,
          1891,
          1892,
          1893,
          1894,
          1895,
          1896,
          1897,
          1898,
          1899,
          1900,
          1901,
          1902,
          1903,
          1904,
          1905,
          1906,
          1907,
          1908,
          1909,
          1910,
          1911,
          1912,
          1913,
          1914,
          1915,
          1916,
          1917,
          1918,
          1919,
          1920,
          1921,
          1922,
          1923,
          1924,
          1925,
          1926,
          1927,
          1928,
          1929,
          1930,
          1931,
          1932,
          1933,
          1934,
          1935,
          1936,
          1937,
          1938,
          1939,
          1940,
          1941,
          1942,
          1943,
          1944,
          1945,
          1946,
          1947,
          1948,
          1949,
          1950,
          1951,
          1952,
          1953,
          1954,
          1955,
          1956,
          1957,
          1958,
          1959,
          1960,
          1961,
          1962,
          1963,
          1964,
          1965,
          1966,
          1967,
          1968,
          1969,
          1970,
          1971,
          1972,
          1973,
          1974,
          1975,
          1976,
          1977,
          1978,
          1979,
          1980,
          1981,
          1982,
          1983,
          1984,
          1985,
          1986,
          1987,
          1988,
          1989,
          1990,
          1991,
          1992,
          1993,
          1994,
          1995,
          1996,
          1997,
          1998,
          1999,
          2000,
          2001,
          2002,
          2003,
          2004,
          2005,
          2006,
          2007,
          2008,
          2009,
          2010,
          2011,
          2012,
          2013,
          2014,
          2015
         ],
         "y": [
          13.476666666666667,
          13.081000000000001,
          13.397333333333336,
          13.886583333333334,
          13.977416666666668,
          13.493166666666665,
          13.470249999999998,
          13.43758333333333,
          13.683,
          13.860333333333335,
          13.96025,
          13.856750000000003,
          14.247250000000001,
          13.619916666666667,
          13.918916666666668,
          14.298083333333333,
          14.165916666666666,
          14.146749999999997,
          14.097916666666668,
          14.0695,
          14.210083333333335,
          13.983833333333335,
          14.285083333333334,
          14.010166666666665,
          13.8835,
          14.008416666666664,
          13.934833333333335,
          14.430333333333332,
          14.742166666666664,
          14.06575,
          13.913416666666668,
          14.050416666666669,
          14.11425,
          13.962249999999997,
          13.692083333333334,
          13.911583333333333,
          13.9465,
          13.890083333333335,
          13.909166666666664,
          14.294083333333333,
          13.928916666666664,
          14.033333333333331,
          13.970583333333332,
          13.936666666666666,
          14.040500000000002,
          14.077666666666666,
          14.107916666666666,
          14.186749999999998,
          14.231833333333332,
          14.331583333333334,
          14.3895,
          14.512166666666667,
          14.36425,
          14.085749999999997,
          14.063666666666663,
          14.082166666666668,
          14.244,
          13.807833333333335,
          14.038750000000002,
          14.026583333333337,
          14.097333333333333,
          13.987833333333334,
          14.053333333333335,
          14.201749999999999,
          14.314500000000002,
          14.474166666666667,
          14.097166666666665,
          13.925916666666666,
          13.961083333333333,
          14.15633333333333,
          14.142666666666669,
          14.424416666666668,
          14.20525,
          14.181750000000001,
          14.223833333333332,
          14.344333333333333,
          14.45225,
          14.297833333333335,
          14.362166666666665,
          13.95641666666667,
          14.326250000000002,
          14.41975,
          14.432083333333333,
          14.078333333333331,
          14.38425,
          14.286916666666665,
          14.314583333333333,
          14.476333333333335,
          14.649916666666668,
          14.594666666666667,
          14.579083333333335,
          14.536166666666666,
          14.53425,
          14.603000000000002,
          14.727166666666664,
          14.438749999999999,
          14.481500000000002,
          14.562500000000002,
          14.615583333333335,
          14.414666666666664,
          14.17375,
          14.43016666666667,
          14.462583333333335,
          14.639249999999999,
          14.286583333333333,
          14.329083333333331,
          14.023666666666664,
          14.381916666666667,
          14.477499999999997,
          14.4165,
          14.317416666666665,
          14.514916666666664,
          14.54016666666667,
          14.612250000000003,
          14.156833333333333,
          14.268416666666667,
          14.325916666666666,
          14.4065,
          14.164250000000003,
          14.212083333333332,
          14.403250000000002,
          14.35275,
          14.164916666666663,
          14.565999999999997,
          14.08191666666667,
          14.383666666666665,
          14.008000000000001,
          14.4855,
          14.28125,
          14.457750000000003,
          14.672916666666667,
          14.85516666666667,
          14.300916666666666,
          14.679833333333335,
          14.342666666666666,
          14.267166666666668,
          14.51683333333333,
          14.699833333333332,
          14.889999999999999,
          14.621499999999997,
          14.957666666666668,
          14.839583333333335,
          14.471333333333332,
          14.519750000000004,
          14.729249999999999,
          15.026416666666668,
          14.737249999999998,
          14.868,
          15.169416666666665,
          14.982750000000001,
          14.898833333333329,
          15.15916666666667,
          15.31233333333333,
          15.249333333333334,
          15.017999999999999,
          15.349833333333335,
          15.262000000000002,
          15.533083333333332,
          15.19175,
          15.266583333333335,
          15.449,
          15.284833333333333,
          15.332833333333333,
          15.373833333333335,
          15.313583333333334,
          15.572666666666665
         ]
        },
        {
         "mode": "lines",
         "type": "scatter",
         "x": [
          1850,
          1851,
          1852,
          1853,
          1854,
          1855,
          1856,
          1857,
          1858,
          1859,
          1860,
          1861,
          1862,
          1863,
          1864,
          1865,
          1866,
          1867,
          1868,
          1869,
          1870,
          1871,
          1872,
          1873,
          1874,
          1875,
          1876,
          1877,
          1878,
          1879,
          1880,
          1881,
          1882,
          1883,
          1884,
          1885,
          1886,
          1887,
          1888,
          1889,
          1890,
          1891,
          1892,
          1893,
          1894,
          1895,
          1896,
          1897,
          1898,
          1899,
          1900,
          1901,
          1902,
          1903,
          1904,
          1905,
          1906,
          1907,
          1908,
          1909,
          1910,
          1911,
          1912,
          1913,
          1914,
          1915,
          1916,
          1917,
          1918,
          1919,
          1920,
          1921,
          1922,
          1923,
          1924,
          1925,
          1926,
          1927,
          1928,
          1929,
          1930,
          1931,
          1932,
          1933,
          1934,
          1935,
          1936,
          1937,
          1938,
          1939,
          1940,
          1941,
          1942,
          1943,
          1944,
          1945,
          1946,
          1947,
          1948,
          1949,
          1950,
          1951,
          1952,
          1953,
          1954,
          1955,
          1956,
          1957,
          1958,
          1959,
          1960,
          1961,
          1962,
          1963,
          1964,
          1965,
          1966,
          1967,
          1968,
          1969,
          1970,
          1971,
          1972,
          1973,
          1974,
          1975,
          1976,
          1977,
          1978,
          1979,
          1980,
          1981,
          1982,
          1983,
          1984,
          1985,
          1986,
          1987,
          1988,
          1989,
          1990,
          1991,
          1992,
          1993,
          1994,
          1995,
          1996,
          1997,
          1998,
          1999,
          2000,
          2001,
          2002,
          2003,
          2004,
          2005,
          2006,
          2007,
          2008,
          2009,
          2010,
          2011,
          2012,
          2013,
          2014,
          2015
         ],
         "y": [
          1.964333333333333,
          2.2039166666666667,
          2.337,
          1.8925,
          1.7621666666666667,
          1.7028333333333334,
          1.5250833333333336,
          1.8568333333333333,
          2.1107499999999995,
          2.4601666666666664,
          2.3441666666666663,
          2.26275,
          2.4827500000000002,
          2.7670833333333333,
          2.4101666666666666,
          2.551833333333333,
          2.4322500000000007,
          2.463666666666667,
          2.369666666666667,
          2.1650833333333335,
          2.4248333333333325,
          2.158,
          2.1874166666666666,
          1.9040833333333327,
          2.0616666666666665,
          1.6141666666666659,
          2.134666666666667,
          2.6485833333333337,
          2.981666666666667,
          2.0789166666666667,
          2.054416666666667,
          2.4264166666666664,
          2.2725833333333334,
          1.880166666666666,
          1.6477500000000003,
          1.8742500000000002,
          1.971166666666667,
          1.9069166666666666,
          1.9540833333333332,
          2.3480833333333333,
          1.8507500000000003,
          1.9055000000000006,
          1.9816666666666665,
          1.9071666666666667,
          2.12375,
          2.075833333333334,
          2.11475,
          2.2940833333333335,
          2.153,
          2.430083333333333,
          2.5756666666666668,
          2.4904999999999995,
          2.20375,
          2.2833333333333337,
          2.1710833333333337,
          2.3432500000000003,
          2.4864166666666665,
          2.0031666666666665,
          2.17475,
          2.157583333333333,
          2.157666666666667,
          2.2501666666666664,
          2.201,
          2.3190833333333334,
          2.6870833333333324,
          2.64375,
          2.2624999999999997,
          2.0195833333333337,
          2.1856666666666666,
          2.451083333333333,
          2.44575,
          2.6770833333333326,
          2.433333333333333,
          2.45625,
          2.5061666666666667,
          2.5414999999999996,
          2.7685833333333334,
          2.535249999999999,
          2.66825,
          2.3010833333333336,
          2.74,
          2.818583333333333,
          2.7624999999999997,
          2.424416666666666,
          2.7665833333333336,
          2.5877500000000007,
          2.6394166666666665,
          2.7500000000000004,
          3.033000000000001,
          2.880666666666667,
          2.890333333333334,
          2.9148333333333336,
          2.9200833333333343,
          2.936583333333333,
          3.0596666666666654,
          2.7723333333333327,
          2.830583333333333,
          2.9645833333333336,
          2.9154166666666668,
          2.8021666666666665,
          2.578583333333333,
          2.7356666666666665,
          2.820166666666666,
          3.1076666666666664,
          2.865833333333333,
          2.8614166666666674,
          2.56175,
          3.001,
          3.1145,
          3.1085833333333333,
          2.932583333333332,
          3.12875,
          3.0085833333333327,
          3.1575833333333336,
          2.768833333333333,
          2.841416666666667,
          2.8994166666666668,
          3.037083333333333,
          2.85725,
          2.962916666666666,
          3.04275,
          2.9622499999999996,
          2.844833333333334,
          3.3701666666666656,
          2.9009166666666673,
          3.121083333333333,
          2.734166666666667,
          3.294583333333333,
          3.1709166666666664,
          3.200083333333333,
          3.4046666666666674,
          3.6359166666666667,
          3.2399166666666672,
          3.5524166666666672,
          3.1867499999999995,
          3.1756666666666664,
          3.319333333333333,
          3.431416666666667,
          3.6540000000000004,
          3.3343333333333334,
          3.65875,
          3.6221666666666668,
          3.2635,
          3.2845833333333334,
          3.396083333333334,
          3.7035,
          3.3811666666666667,
          3.5901666666666663,
          3.949166666666667,
          3.662333333333333,
          3.581833333333334,
          3.7406666666666664,
          3.864583333333334,
          3.851583333333334,
          3.6644166666666673,
          4.113833333333333,
          3.8648333333333333,
          4.009250000000001,
          3.724833333333333,
          3.7969166666666667,
          4.0239166666666675,
          3.827666666666667,
          3.7561666666666667,
          3.911333333333332,
          3.8777499999999994,
          4.148833333333333
         ]
        }
       ],
       "layout": {
        "template": {
         "data": {
          "bar": [
           {
            "error_x": {
             "color": "#2a3f5f"
            },
            "error_y": {
             "color": "#2a3f5f"
            },
            "marker": {
             "line": {
              "color": "#E5ECF6",
              "width": 0.5
             }
            },
            "type": "bar"
           }
          ],
          "barpolar": [
           {
            "marker": {
             "line": {
              "color": "#E5ECF6",
              "width": 0.5
             }
            },
            "type": "barpolar"
           }
          ],
          "carpet": [
           {
            "aaxis": {
             "endlinecolor": "#2a3f5f",
             "gridcolor": "white",
             "linecolor": "white",
             "minorgridcolor": "white",
             "startlinecolor": "#2a3f5f"
            },
            "baxis": {
             "endlinecolor": "#2a3f5f",
             "gridcolor": "white",
             "linecolor": "white",
             "minorgridcolor": "white",
             "startlinecolor": "#2a3f5f"
            },
            "type": "carpet"
           }
          ],
          "choropleth": [
           {
            "colorbar": {
             "outlinewidth": 0,
             "ticks": ""
            },
            "type": "choropleth"
           }
          ],
          "contour": [
           {
            "colorbar": {
             "outlinewidth": 0,
             "ticks": ""
            },
            "colorscale": [
             [
              0,
              "#0d0887"
             ],
             [
              0.1111111111111111,
              "#46039f"
             ],
             [
              0.2222222222222222,
              "#7201a8"
             ],
             [
              0.3333333333333333,
              "#9c179e"
             ],
             [
              0.4444444444444444,
              "#bd3786"
             ],
             [
              0.5555555555555556,
              "#d8576b"
             ],
             [
              0.6666666666666666,
              "#ed7953"
             ],
             [
              0.7777777777777778,
              "#fb9f3a"
             ],
             [
              0.8888888888888888,
              "#fdca26"
             ],
             [
              1,
              "#f0f921"
             ]
            ],
            "type": "contour"
           }
          ],
          "contourcarpet": [
           {
            "colorbar": {
             "outlinewidth": 0,
             "ticks": ""
            },
            "type": "contourcarpet"
           }
          ],
          "heatmap": [
           {
            "colorbar": {
             "outlinewidth": 0,
             "ticks": ""
            },
            "colorscale": [
             [
              0,
              "#0d0887"
             ],
             [
              0.1111111111111111,
              "#46039f"
             ],
             [
              0.2222222222222222,
              "#7201a8"
             ],
             [
              0.3333333333333333,
              "#9c179e"
             ],
             [
              0.4444444444444444,
              "#bd3786"
             ],
             [
              0.5555555555555556,
              "#d8576b"
             ],
             [
              0.6666666666666666,
              "#ed7953"
             ],
             [
              0.7777777777777778,
              "#fb9f3a"
             ],
             [
              0.8888888888888888,
              "#fdca26"
             ],
             [
              1,
              "#f0f921"
             ]
            ],
            "type": "heatmap"
           }
          ],
          "heatmapgl": [
           {
            "colorbar": {
             "outlinewidth": 0,
             "ticks": ""
            },
            "colorscale": [
             [
              0,
              "#0d0887"
             ],
             [
              0.1111111111111111,
              "#46039f"
             ],
             [
              0.2222222222222222,
              "#7201a8"
             ],
             [
              0.3333333333333333,
              "#9c179e"
             ],
             [
              0.4444444444444444,
              "#bd3786"
             ],
             [
              0.5555555555555556,
              "#d8576b"
             ],
             [
              0.6666666666666666,
              "#ed7953"
             ],
             [
              0.7777777777777778,
              "#fb9f3a"
             ],
             [
              0.8888888888888888,
              "#fdca26"
             ],
             [
              1,
              "#f0f921"
             ]
            ],
            "type": "heatmapgl"
           }
          ],
          "histogram": [
           {
            "marker": {
             "colorbar": {
              "outlinewidth": 0,
              "ticks": ""
             }
            },
            "type": "histogram"
           }
          ],
          "histogram2d": [
           {
            "colorbar": {
             "outlinewidth": 0,
             "ticks": ""
            },
            "colorscale": [
             [
              0,
              "#0d0887"
             ],
             [
              0.1111111111111111,
              "#46039f"
             ],
             [
              0.2222222222222222,
              "#7201a8"
             ],
             [
              0.3333333333333333,
              "#9c179e"
             ],
             [
              0.4444444444444444,
              "#bd3786"
             ],
             [
              0.5555555555555556,
              "#d8576b"
             ],
             [
              0.6666666666666666,
              "#ed7953"
             ],
             [
              0.7777777777777778,
              "#fb9f3a"
             ],
             [
              0.8888888888888888,
              "#fdca26"
             ],
             [
              1,
              "#f0f921"
             ]
            ],
            "type": "histogram2d"
           }
          ],
          "histogram2dcontour": [
           {
            "colorbar": {
             "outlinewidth": 0,
             "ticks": ""
            },
            "colorscale": [
             [
              0,
              "#0d0887"
             ],
             [
              0.1111111111111111,
              "#46039f"
             ],
             [
              0.2222222222222222,
              "#7201a8"
             ],
             [
              0.3333333333333333,
              "#9c179e"
             ],
             [
              0.4444444444444444,
              "#bd3786"
             ],
             [
              0.5555555555555556,
              "#d8576b"
             ],
             [
              0.6666666666666666,
              "#ed7953"
             ],
             [
              0.7777777777777778,
              "#fb9f3a"
             ],
             [
              0.8888888888888888,
              "#fdca26"
             ],
             [
              1,
              "#f0f921"
             ]
            ],
            "type": "histogram2dcontour"
           }
          ],
          "mesh3d": [
           {
            "colorbar": {
             "outlinewidth": 0,
             "ticks": ""
            },
            "type": "mesh3d"
           }
          ],
          "parcoords": [
           {
            "line": {
             "colorbar": {
              "outlinewidth": 0,
              "ticks": ""
             }
            },
            "type": "parcoords"
           }
          ],
          "pie": [
           {
            "automargin": true,
            "type": "pie"
           }
          ],
          "scatter": [
           {
            "marker": {
             "colorbar": {
              "outlinewidth": 0,
              "ticks": ""
             }
            },
            "type": "scatter"
           }
          ],
          "scatter3d": [
           {
            "line": {
             "colorbar": {
              "outlinewidth": 0,
              "ticks": ""
             }
            },
            "marker": {
             "colorbar": {
              "outlinewidth": 0,
              "ticks": ""
             }
            },
            "type": "scatter3d"
           }
          ],
          "scattercarpet": [
           {
            "marker": {
             "colorbar": {
              "outlinewidth": 0,
              "ticks": ""
             }
            },
            "type": "scattercarpet"
           }
          ],
          "scattergeo": [
           {
            "marker": {
             "colorbar": {
              "outlinewidth": 0,
              "ticks": ""
             }
            },
            "type": "scattergeo"
           }
          ],
          "scattergl": [
           {
            "marker": {
             "colorbar": {
              "outlinewidth": 0,
              "ticks": ""
             }
            },
            "type": "scattergl"
           }
          ],
          "scattermapbox": [
           {
            "marker": {
             "colorbar": {
              "outlinewidth": 0,
              "ticks": ""
             }
            },
            "type": "scattermapbox"
           }
          ],
          "scatterpolar": [
           {
            "marker": {
             "colorbar": {
              "outlinewidth": 0,
              "ticks": ""
             }
            },
            "type": "scatterpolar"
           }
          ],
          "scatterpolargl": [
           {
            "marker": {
             "colorbar": {
              "outlinewidth": 0,
              "ticks": ""
             }
            },
            "type": "scatterpolargl"
           }
          ],
          "scatterternary": [
           {
            "marker": {
             "colorbar": {
              "outlinewidth": 0,
              "ticks": ""
             }
            },
            "type": "scatterternary"
           }
          ],
          "surface": [
           {
            "colorbar": {
             "outlinewidth": 0,
             "ticks": ""
            },
            "colorscale": [
             [
              0,
              "#0d0887"
             ],
             [
              0.1111111111111111,
              "#46039f"
             ],
             [
              0.2222222222222222,
              "#7201a8"
             ],
             [
              0.3333333333333333,
              "#9c179e"
             ],
             [
              0.4444444444444444,
              "#bd3786"
             ],
             [
              0.5555555555555556,
              "#d8576b"
             ],
             [
              0.6666666666666666,
              "#ed7953"
             ],
             [
              0.7777777777777778,
              "#fb9f3a"
             ],
             [
              0.8888888888888888,
              "#fdca26"
             ],
             [
              1,
              "#f0f921"
             ]
            ],
            "type": "surface"
           }
          ],
          "table": [
           {
            "cells": {
             "fill": {
              "color": "#EBF0F8"
             },
             "line": {
              "color": "white"
             }
            },
            "header": {
             "fill": {
              "color": "#C8D4E3"
             },
             "line": {
              "color": "white"
             }
            },
            "type": "table"
           }
          ]
         },
         "layout": {
          "annotationdefaults": {
           "arrowcolor": "#2a3f5f",
           "arrowhead": 0,
           "arrowwidth": 1
          },
          "coloraxis": {
           "colorbar": {
            "outlinewidth": 0,
            "ticks": ""
           }
          },
          "colorscale": {
           "diverging": [
            [
             0,
             "#8e0152"
            ],
            [
             0.1,
             "#c51b7d"
            ],
            [
             0.2,
             "#de77ae"
            ],
            [
             0.3,
             "#f1b6da"
            ],
            [
             0.4,
             "#fde0ef"
            ],
            [
             0.5,
             "#f7f7f7"
            ],
            [
             0.6,
             "#e6f5d0"
            ],
            [
             0.7,
             "#b8e186"
            ],
            [
             0.8,
             "#7fbc41"
            ],
            [
             0.9,
             "#4d9221"
            ],
            [
             1,
             "#276419"
            ]
           ],
           "sequential": [
            [
             0,
             "#0d0887"
            ],
            [
             0.1111111111111111,
             "#46039f"
            ],
            [
             0.2222222222222222,
             "#7201a8"
            ],
            [
             0.3333333333333333,
             "#9c179e"
            ],
            [
             0.4444444444444444,
             "#bd3786"
            ],
            [
             0.5555555555555556,
             "#d8576b"
            ],
            [
             0.6666666666666666,
             "#ed7953"
            ],
            [
             0.7777777777777778,
             "#fb9f3a"
            ],
            [
             0.8888888888888888,
             "#fdca26"
            ],
            [
             1,
             "#f0f921"
            ]
           ],
           "sequentialminus": [
            [
             0,
             "#0d0887"
            ],
            [
             0.1111111111111111,
             "#46039f"
            ],
            [
             0.2222222222222222,
             "#7201a8"
            ],
            [
             0.3333333333333333,
             "#9c179e"
            ],
            [
             0.4444444444444444,
             "#bd3786"
            ],
            [
             0.5555555555555556,
             "#d8576b"
            ],
            [
             0.6666666666666666,
             "#ed7953"
            ],
            [
             0.7777777777777778,
             "#fb9f3a"
            ],
            [
             0.8888888888888888,
             "#fdca26"
            ],
            [
             1,
             "#f0f921"
            ]
           ]
          },
          "colorway": [
           "#636efa",
           "#EF553B",
           "#00cc96",
           "#ab63fa",
           "#FFA15A",
           "#19d3f3",
           "#FF6692",
           "#B6E880",
           "#FF97FF",
           "#FECB52"
          ],
          "font": {
           "color": "#2a3f5f"
          },
          "geo": {
           "bgcolor": "white",
           "lakecolor": "white",
           "landcolor": "#E5ECF6",
           "showlakes": true,
           "showland": true,
           "subunitcolor": "white"
          },
          "hoverlabel": {
           "align": "left"
          },
          "hovermode": "closest",
          "mapbox": {
           "style": "light"
          },
          "paper_bgcolor": "white",
          "plot_bgcolor": "#E5ECF6",
          "polar": {
           "angularaxis": {
            "gridcolor": "white",
            "linecolor": "white",
            "ticks": ""
           },
           "bgcolor": "#E5ECF6",
           "radialaxis": {
            "gridcolor": "white",
            "linecolor": "white",
            "ticks": ""
           }
          },
          "scene": {
           "xaxis": {
            "backgroundcolor": "#E5ECF6",
            "gridcolor": "white",
            "gridwidth": 2,
            "linecolor": "white",
            "showbackground": true,
            "ticks": "",
            "zerolinecolor": "white"
           },
           "yaxis": {
            "backgroundcolor": "#E5ECF6",
            "gridcolor": "white",
            "gridwidth": 2,
            "linecolor": "white",
            "showbackground": true,
            "ticks": "",
            "zerolinecolor": "white"
           },
           "zaxis": {
            "backgroundcolor": "#E5ECF6",
            "gridcolor": "white",
            "gridwidth": 2,
            "linecolor": "white",
            "showbackground": true,
            "ticks": "",
            "zerolinecolor": "white"
           }
          },
          "shapedefaults": {
           "line": {
            "color": "#2a3f5f"
           }
          },
          "ternary": {
           "aaxis": {
            "gridcolor": "white",
            "linecolor": "white",
            "ticks": ""
           },
           "baxis": {
            "gridcolor": "white",
            "linecolor": "white",
            "ticks": ""
           },
           "bgcolor": "#E5ECF6",
           "caxis": {
            "gridcolor": "white",
            "linecolor": "white",
            "ticks": ""
           }
          },
          "title": {
           "x": 0.05
          },
          "xaxis": {
           "automargin": true,
           "gridcolor": "white",
           "linecolor": "white",
           "ticks": "",
           "title": {
            "standoff": 15
           },
           "zerolinecolor": "white",
           "zerolinewidth": 2
          },
          "yaxis": {
           "automargin": true,
           "gridcolor": "white",
           "linecolor": "white",
           "ticks": "",
           "title": {
            "standoff": 15
           },
           "zerolinecolor": "white",
           "zerolinewidth": 2
          }
         }
        }
       }
      },
      "text/html": [
       "<div>\n",
       "        \n",
       "        \n",
       "            <div id=\"d2cc863b-65a7-448c-9237-03e00906012b\" class=\"plotly-graph-div\" style=\"height:525px; width:100%;\"></div>\n",
       "            <script type=\"text/javascript\">\n",
       "                require([\"plotly\"], function(Plotly) {\n",
       "                    window.PLOTLYENV=window.PLOTLYENV || {};\n",
       "                    \n",
       "                if (document.getElementById(\"d2cc863b-65a7-448c-9237-03e00906012b\")) {\n",
       "                    Plotly.newPlot(\n",
       "                        'd2cc863b-65a7-448c-9237-03e00906012b',\n",
       "                        [{\"mode\": \"lines\", \"type\": \"scatter\", \"x\": [1750, 1751, 1752, 1753, 1754, 1755, 1756, 1757, 1758, 1759, 1760, 1761, 1762, 1763, 1764, 1765, 1766, 1767, 1768, 1769, 1770, 1771, 1772, 1773, 1774, 1775, 1776, 1777, 1778, 1779, 1780, 1781, 1782, 1783, 1784, 1785, 1786, 1787, 1788, 1789, 1790, 1791, 1792, 1793, 1794, 1795, 1796, 1797, 1798, 1799, 1800, 1801, 1802, 1803, 1804, 1805, 1806, 1807, 1808, 1809, 1810, 1811, 1812, 1813, 1814, 1815, 1816, 1817, 1818, 1819, 1820, 1821, 1822, 1823, 1824, 1825, 1826, 1827, 1828, 1829, 1830, 1831, 1832, 1833, 1834, 1835, 1836, 1837, 1838, 1839, 1840, 1841, 1842, 1843, 1844, 1845, 1846, 1847, 1848, 1849, 1850, 1851, 1852, 1853, 1854, 1855, 1856, 1857, 1858, 1859, 1860, 1861, 1862, 1863, 1864, 1865, 1866, 1867, 1868, 1869, 1870, 1871, 1872, 1873, 1874, 1875, 1876, 1877, 1878, 1879, 1880, 1881, 1882, 1883, 1884, 1885, 1886, 1887, 1888, 1889, 1890, 1891, 1892, 1893, 1894, 1895, 1896, 1897, 1898, 1899, 1900, 1901, 1902, 1903, 1904, 1905, 1906, 1907, 1908, 1909, 1910, 1911, 1912, 1913, 1914, 1915, 1916, 1917, 1918, 1919, 1920, 1921, 1922, 1923, 1924, 1925, 1926, 1927, 1928, 1929, 1930, 1931, 1932, 1933, 1934, 1935, 1936, 1937, 1938, 1939, 1940, 1941, 1942, 1943, 1944, 1945, 1946, 1947, 1948, 1949, 1950, 1951, 1952, 1953, 1954, 1955, 1956, 1957, 1958, 1959, 1960, 1961, 1962, 1963, 1964, 1965, 1966, 1967, 1968, 1969, 1970, 1971, 1972, 1973, 1974, 1975, 1976, 1977, 1978, 1979, 1980, 1981, 1982, 1983, 1984, 1985, 1986, 1987, 1988, 1989, 1990, 1991, 1992, 1993, 1994, 1995, 1996, 1997, 1998, 1999, 2000, 2001, 2002, 2003, 2004, 2005, 2006, 2007, 2008, 2009, 2010, 2011, 2012, 2013, 2014, 2015], \"y\": [8.719363636363637, 7.9761428571428565, 5.7798333333333325, 8.388083333333332, 8.469333333333335, 8.355583333333334, 8.849583333333333, 9.022, 6.743583333333333, 7.985083333333333, 7.185166666666667, 8.772499999999999, 8.6065, 7.496749999999999, 8.400333333333332, 8.251916666666666, 8.405666666666667, 8.221499999999999, 6.781333333333333, 7.694583333333334, 7.691916666666667, 7.8531666666666675, 8.1935, 8.2215, 8.772166666666665, 9.183083333333334, 8.304, 8.256250000000001, 8.54225, 8.98325, 9.432916666666667, 8.102583333333332, 7.901249999999998, 7.680833333333333, 7.862000000000001, 7.3629999999999995, 8.258166666666666, 8.031833333333333, 8.447166666666666, 8.334166666666667, 7.982333333333333, 8.23425, 8.089, 8.229166666666666, 8.526000000000002, 8.350333333333333, 8.270999999999999, 8.510583333333335, 8.67025, 8.505749999999999, 8.484250000000001, 8.589666666666668, 8.578166666666666, 8.503, 8.844833333333334, 8.56275, 8.434083333333332, 8.281416666666665, 7.626833333333333, 7.076416666666667, 6.922666666666665, 6.859500000000001, 7.046250000000001, 7.7399166666666686, 7.59175, 7.239333333333334, 6.9375, 6.975666666666668, 7.828916666666667, 7.3691666666666675, 7.616249999999998, 8.090083333333332, 8.188333333333334, 7.7186666666666675, 8.547166666666667, 8.389333333333333, 8.356583333333335, 8.808749999999998, 8.165333333333335, 7.941833333333332, 8.51675, 7.639166666666667, 7.450166666666667, 8.013, 8.14675, 7.392499999999999, 7.695833333333334, 7.375666666666665, 7.514916666666665, 7.632249999999999, 7.796250000000001, 7.688166666666667, 8.02275, 8.173666666666666, 7.646333333333334, 7.851166666666668, 8.55275, 8.086, 7.979500000000001, 7.984416666666667, 7.900666666666666, 8.178583333333332, 8.100166666666665, 8.041833333333333, 8.2105, 8.110749999999998, 7.995916666666666, 7.758166666666668, 8.10025, 8.252, 7.960833333333333, 7.846500000000002, 7.558583333333334, 8.111833333333333, 7.983583333333335, 8.177833333333334, 8.292166666666665, 8.436333333333334, 8.247916666666667, 8.432083333333333, 8.201333333333332, 8.115083333333333, 8.193833333333332, 8.351083333333333, 8.4335, 7.859583333333334, 8.080083333333333, 8.539583333333333, 8.829749999999999, 8.165833333333333, 8.118749999999999, 8.270916666666666, 8.128916666666667, 7.976916666666665, 7.773666666666667, 7.919666666666668, 7.954499999999999, 7.914916666666667, 8.0905, 8.318999999999999, 7.971666666666667, 8.019333333333334, 8.065833333333332, 8.05675, 8.161, 8.147, 8.214916666666666, 8.293333333333335, 8.177999999999999, 8.396333333333333, 8.501583333333333, 8.541916666666665, 8.304416666666667, 8.220166666666668, 8.090916666666667, 8.225166666666665, 8.379083333333332, 7.947166666666667, 8.186083333333334, 8.17825, 8.223, 8.177000000000001, 8.165416666666667, 8.297749999999999, 8.5905, 8.593166666666665, 8.22525, 8.023333333333332, 8.130833333333332, 8.38225, 8.35875, 8.571, 8.408, 8.422166666666666, 8.506833333333335, 8.534416666666667, 8.728833333333332, 8.522083333333333, 8.632166666666668, 8.242416666666665, 8.633583333333332, 8.71925, 8.705250000000001, 8.33825, 8.628333333333336, 8.51575, 8.554, 8.698333333333332, 8.863666666666665, 8.760333333333334, 8.764666666666667, 8.768666666666668, 8.728416666666666, 8.755083333333333, 8.845, 8.584833333333332, 8.676916666666669, 8.797083333333333, 8.74675, 8.586749999999999, 8.365250000000001, 8.625666666666666, 8.638250000000001, 8.873750000000001, 8.560666666666666, 8.62625, 8.279583333333333, 8.7325, 8.77375, 8.732666666666665, 8.58375, 8.797666666666666, 8.745916666666666, 8.856, 8.409666666666666, 8.527416666666667, 8.599333333333332, 8.700083333333334, 8.516333333333334, 8.595083333333333, 8.700916666666666, 8.59925, 8.499583333333334, 8.948249999999998, 8.4675, 8.744833333333334, 8.347249999999999, 8.850249999999999, 8.692749999999998, 8.733416666666665, 8.980333333333332, 9.165833333333333, 8.639166666666666, 9.028166666666666, 8.691833333333335, 8.658, 8.833583333333332, 8.994416666666668, 9.201583333333334, 8.921999999999999, 9.234166666666667, 9.179416666666667, 8.836583333333332, 8.866583333333333, 9.038749999999999, 9.347083333333332, 9.038916666666667, 9.202583333333333, 9.522666666666666, 9.285083333333333, 9.201166666666667, 9.414583333333335, 9.570416666666667, 9.525583333333334, 9.324583333333333, 9.700916666666666, 9.532499999999999, 9.732166666666664, 9.431750000000001, 9.505250000000002, 9.703083333333332, 9.516, 9.507333333333333, 9.606499999999999, 9.570666666666666, 9.830999999999998]}, {\"mode\": \"lines\", \"type\": \"scatter\", \"x\": [1850, 1851, 1852, 1853, 1854, 1855, 1856, 1857, 1858, 1859, 1860, 1861, 1862, 1863, 1864, 1865, 1866, 1867, 1868, 1869, 1870, 1871, 1872, 1873, 1874, 1875, 1876, 1877, 1878, 1879, 1880, 1881, 1882, 1883, 1884, 1885, 1886, 1887, 1888, 1889, 1890, 1891, 1892, 1893, 1894, 1895, 1896, 1897, 1898, 1899, 1900, 1901, 1902, 1903, 1904, 1905, 1906, 1907, 1908, 1909, 1910, 1911, 1912, 1913, 1914, 1915, 1916, 1917, 1918, 1919, 1920, 1921, 1922, 1923, 1924, 1925, 1926, 1927, 1928, 1929, 1930, 1931, 1932, 1933, 1934, 1935, 1936, 1937, 1938, 1939, 1940, 1941, 1942, 1943, 1944, 1945, 1946, 1947, 1948, 1949, 1950, 1951, 1952, 1953, 1954, 1955, 1956, 1957, 1958, 1959, 1960, 1961, 1962, 1963, 1964, 1965, 1966, 1967, 1968, 1969, 1970, 1971, 1972, 1973, 1974, 1975, 1976, 1977, 1978, 1979, 1980, 1981, 1982, 1983, 1984, 1985, 1986, 1987, 1988, 1989, 1990, 1991, 1992, 1993, 1994, 1995, 1996, 1997, 1998, 1999, 2000, 2001, 2002, 2003, 2004, 2005, 2006, 2007, 2008, 2009, 2010, 2011, 2012, 2013, 2014, 2015], \"y\": [13.476666666666667, 13.081000000000001, 13.397333333333336, 13.886583333333334, 13.977416666666668, 13.493166666666665, 13.470249999999998, 13.43758333333333, 13.683, 13.860333333333335, 13.96025, 13.856750000000003, 14.247250000000001, 13.619916666666667, 13.918916666666668, 14.298083333333333, 14.165916666666666, 14.146749999999997, 14.097916666666668, 14.0695, 14.210083333333335, 13.983833333333335, 14.285083333333334, 14.010166666666665, 13.8835, 14.008416666666664, 13.934833333333335, 14.430333333333332, 14.742166666666664, 14.06575, 13.913416666666668, 14.050416666666669, 14.11425, 13.962249999999997, 13.692083333333334, 13.911583333333333, 13.9465, 13.890083333333335, 13.909166666666664, 14.294083333333333, 13.928916666666664, 14.033333333333331, 13.970583333333332, 13.936666666666666, 14.040500000000002, 14.077666666666666, 14.107916666666666, 14.186749999999998, 14.231833333333332, 14.331583333333334, 14.3895, 14.512166666666667, 14.36425, 14.085749999999997, 14.063666666666663, 14.082166666666668, 14.244, 13.807833333333335, 14.038750000000002, 14.026583333333337, 14.097333333333333, 13.987833333333334, 14.053333333333335, 14.201749999999999, 14.314500000000002, 14.474166666666667, 14.097166666666665, 13.925916666666666, 13.961083333333333, 14.15633333333333, 14.142666666666669, 14.424416666666668, 14.20525, 14.181750000000001, 14.223833333333332, 14.344333333333333, 14.45225, 14.297833333333335, 14.362166666666665, 13.95641666666667, 14.326250000000002, 14.41975, 14.432083333333333, 14.078333333333331, 14.38425, 14.286916666666665, 14.314583333333333, 14.476333333333335, 14.649916666666668, 14.594666666666667, 14.579083333333335, 14.536166666666666, 14.53425, 14.603000000000002, 14.727166666666664, 14.438749999999999, 14.481500000000002, 14.562500000000002, 14.615583333333335, 14.414666666666664, 14.17375, 14.43016666666667, 14.462583333333335, 14.639249999999999, 14.286583333333333, 14.329083333333331, 14.023666666666664, 14.381916666666667, 14.477499999999997, 14.4165, 14.317416666666665, 14.514916666666664, 14.54016666666667, 14.612250000000003, 14.156833333333333, 14.268416666666667, 14.325916666666666, 14.4065, 14.164250000000003, 14.212083333333332, 14.403250000000002, 14.35275, 14.164916666666663, 14.565999999999997, 14.08191666666667, 14.383666666666665, 14.008000000000001, 14.4855, 14.28125, 14.457750000000003, 14.672916666666667, 14.85516666666667, 14.300916666666666, 14.679833333333335, 14.342666666666666, 14.267166666666668, 14.51683333333333, 14.699833333333332, 14.889999999999999, 14.621499999999997, 14.957666666666668, 14.839583333333335, 14.471333333333332, 14.519750000000004, 14.729249999999999, 15.026416666666668, 14.737249999999998, 14.868, 15.169416666666665, 14.982750000000001, 14.898833333333329, 15.15916666666667, 15.31233333333333, 15.249333333333334, 15.017999999999999, 15.349833333333335, 15.262000000000002, 15.533083333333332, 15.19175, 15.266583333333335, 15.449, 15.284833333333333, 15.332833333333333, 15.373833333333335, 15.313583333333334, 15.572666666666665]}, {\"mode\": \"lines\", \"type\": \"scatter\", \"x\": [1850, 1851, 1852, 1853, 1854, 1855, 1856, 1857, 1858, 1859, 1860, 1861, 1862, 1863, 1864, 1865, 1866, 1867, 1868, 1869, 1870, 1871, 1872, 1873, 1874, 1875, 1876, 1877, 1878, 1879, 1880, 1881, 1882, 1883, 1884, 1885, 1886, 1887, 1888, 1889, 1890, 1891, 1892, 1893, 1894, 1895, 1896, 1897, 1898, 1899, 1900, 1901, 1902, 1903, 1904, 1905, 1906, 1907, 1908, 1909, 1910, 1911, 1912, 1913, 1914, 1915, 1916, 1917, 1918, 1919, 1920, 1921, 1922, 1923, 1924, 1925, 1926, 1927, 1928, 1929, 1930, 1931, 1932, 1933, 1934, 1935, 1936, 1937, 1938, 1939, 1940, 1941, 1942, 1943, 1944, 1945, 1946, 1947, 1948, 1949, 1950, 1951, 1952, 1953, 1954, 1955, 1956, 1957, 1958, 1959, 1960, 1961, 1962, 1963, 1964, 1965, 1966, 1967, 1968, 1969, 1970, 1971, 1972, 1973, 1974, 1975, 1976, 1977, 1978, 1979, 1980, 1981, 1982, 1983, 1984, 1985, 1986, 1987, 1988, 1989, 1990, 1991, 1992, 1993, 1994, 1995, 1996, 1997, 1998, 1999, 2000, 2001, 2002, 2003, 2004, 2005, 2006, 2007, 2008, 2009, 2010, 2011, 2012, 2013, 2014, 2015], \"y\": [1.964333333333333, 2.2039166666666667, 2.337, 1.8925, 1.7621666666666667, 1.7028333333333334, 1.5250833333333336, 1.8568333333333333, 2.1107499999999995, 2.4601666666666664, 2.3441666666666663, 2.26275, 2.4827500000000002, 2.7670833333333333, 2.4101666666666666, 2.551833333333333, 2.4322500000000007, 2.463666666666667, 2.369666666666667, 2.1650833333333335, 2.4248333333333325, 2.158, 2.1874166666666666, 1.9040833333333327, 2.0616666666666665, 1.6141666666666659, 2.134666666666667, 2.6485833333333337, 2.981666666666667, 2.0789166666666667, 2.054416666666667, 2.4264166666666664, 2.2725833333333334, 1.880166666666666, 1.6477500000000003, 1.8742500000000002, 1.971166666666667, 1.9069166666666666, 1.9540833333333332, 2.3480833333333333, 1.8507500000000003, 1.9055000000000006, 1.9816666666666665, 1.9071666666666667, 2.12375, 2.075833333333334, 2.11475, 2.2940833333333335, 2.153, 2.430083333333333, 2.5756666666666668, 2.4904999999999995, 2.20375, 2.2833333333333337, 2.1710833333333337, 2.3432500000000003, 2.4864166666666665, 2.0031666666666665, 2.17475, 2.157583333333333, 2.157666666666667, 2.2501666666666664, 2.201, 2.3190833333333334, 2.6870833333333324, 2.64375, 2.2624999999999997, 2.0195833333333337, 2.1856666666666666, 2.451083333333333, 2.44575, 2.6770833333333326, 2.433333333333333, 2.45625, 2.5061666666666667, 2.5414999999999996, 2.7685833333333334, 2.535249999999999, 2.66825, 2.3010833333333336, 2.74, 2.818583333333333, 2.7624999999999997, 2.424416666666666, 2.7665833333333336, 2.5877500000000007, 2.6394166666666665, 2.7500000000000004, 3.033000000000001, 2.880666666666667, 2.890333333333334, 2.9148333333333336, 2.9200833333333343, 2.936583333333333, 3.0596666666666654, 2.7723333333333327, 2.830583333333333, 2.9645833333333336, 2.9154166666666668, 2.8021666666666665, 2.578583333333333, 2.7356666666666665, 2.820166666666666, 3.1076666666666664, 2.865833333333333, 2.8614166666666674, 2.56175, 3.001, 3.1145, 3.1085833333333333, 2.932583333333332, 3.12875, 3.0085833333333327, 3.1575833333333336, 2.768833333333333, 2.841416666666667, 2.8994166666666668, 3.037083333333333, 2.85725, 2.962916666666666, 3.04275, 2.9622499999999996, 2.844833333333334, 3.3701666666666656, 2.9009166666666673, 3.121083333333333, 2.734166666666667, 3.294583333333333, 3.1709166666666664, 3.200083333333333, 3.4046666666666674, 3.6359166666666667, 3.2399166666666672, 3.5524166666666672, 3.1867499999999995, 3.1756666666666664, 3.319333333333333, 3.431416666666667, 3.6540000000000004, 3.3343333333333334, 3.65875, 3.6221666666666668, 3.2635, 3.2845833333333334, 3.396083333333334, 3.7035, 3.3811666666666667, 3.5901666666666663, 3.949166666666667, 3.662333333333333, 3.581833333333334, 3.7406666666666664, 3.864583333333334, 3.851583333333334, 3.6644166666666673, 4.113833333333333, 3.8648333333333333, 4.009250000000001, 3.724833333333333, 3.7969166666666667, 4.0239166666666675, 3.827666666666667, 3.7561666666666667, 3.911333333333332, 3.8777499999999994, 4.148833333333333]}],\n",
       "                        {\"template\": {\"data\": {\"bar\": [{\"error_x\": {\"color\": \"#2a3f5f\"}, \"error_y\": {\"color\": \"#2a3f5f\"}, \"marker\": {\"line\": {\"color\": \"#E5ECF6\", \"width\": 0.5}}, \"type\": \"bar\"}], \"barpolar\": [{\"marker\": {\"line\": {\"color\": \"#E5ECF6\", \"width\": 0.5}}, \"type\": \"barpolar\"}], \"carpet\": [{\"aaxis\": {\"endlinecolor\": \"#2a3f5f\", \"gridcolor\": \"white\", \"linecolor\": \"white\", \"minorgridcolor\": \"white\", \"startlinecolor\": \"#2a3f5f\"}, \"baxis\": {\"endlinecolor\": \"#2a3f5f\", \"gridcolor\": \"white\", \"linecolor\": \"white\", \"minorgridcolor\": \"white\", \"startlinecolor\": \"#2a3f5f\"}, \"type\": \"carpet\"}], \"choropleth\": [{\"colorbar\": {\"outlinewidth\": 0, \"ticks\": \"\"}, \"type\": \"choropleth\"}], \"contour\": [{\"colorbar\": {\"outlinewidth\": 0, \"ticks\": \"\"}, \"colorscale\": [[0.0, \"#0d0887\"], [0.1111111111111111, \"#46039f\"], [0.2222222222222222, \"#7201a8\"], [0.3333333333333333, \"#9c179e\"], [0.4444444444444444, \"#bd3786\"], [0.5555555555555556, \"#d8576b\"], [0.6666666666666666, \"#ed7953\"], [0.7777777777777778, \"#fb9f3a\"], [0.8888888888888888, \"#fdca26\"], [1.0, \"#f0f921\"]], \"type\": \"contour\"}], \"contourcarpet\": [{\"colorbar\": {\"outlinewidth\": 0, \"ticks\": \"\"}, \"type\": \"contourcarpet\"}], \"heatmap\": [{\"colorbar\": {\"outlinewidth\": 0, \"ticks\": \"\"}, \"colorscale\": [[0.0, \"#0d0887\"], [0.1111111111111111, \"#46039f\"], [0.2222222222222222, \"#7201a8\"], [0.3333333333333333, \"#9c179e\"], [0.4444444444444444, \"#bd3786\"], [0.5555555555555556, \"#d8576b\"], [0.6666666666666666, \"#ed7953\"], [0.7777777777777778, \"#fb9f3a\"], [0.8888888888888888, \"#fdca26\"], [1.0, \"#f0f921\"]], \"type\": \"heatmap\"}], \"heatmapgl\": [{\"colorbar\": {\"outlinewidth\": 0, \"ticks\": \"\"}, \"colorscale\": [[0.0, \"#0d0887\"], [0.1111111111111111, \"#46039f\"], [0.2222222222222222, \"#7201a8\"], [0.3333333333333333, \"#9c179e\"], [0.4444444444444444, \"#bd3786\"], [0.5555555555555556, \"#d8576b\"], [0.6666666666666666, \"#ed7953\"], [0.7777777777777778, \"#fb9f3a\"], [0.8888888888888888, \"#fdca26\"], [1.0, \"#f0f921\"]], \"type\": \"heatmapgl\"}], \"histogram\": [{\"marker\": {\"colorbar\": {\"outlinewidth\": 0, \"ticks\": \"\"}}, \"type\": \"histogram\"}], \"histogram2d\": [{\"colorbar\": {\"outlinewidth\": 0, \"ticks\": \"\"}, \"colorscale\": [[0.0, \"#0d0887\"], [0.1111111111111111, \"#46039f\"], [0.2222222222222222, \"#7201a8\"], [0.3333333333333333, \"#9c179e\"], [0.4444444444444444, \"#bd3786\"], [0.5555555555555556, \"#d8576b\"], [0.6666666666666666, \"#ed7953\"], [0.7777777777777778, \"#fb9f3a\"], [0.8888888888888888, \"#fdca26\"], [1.0, \"#f0f921\"]], \"type\": \"histogram2d\"}], \"histogram2dcontour\": [{\"colorbar\": {\"outlinewidth\": 0, \"ticks\": \"\"}, \"colorscale\": [[0.0, \"#0d0887\"], [0.1111111111111111, \"#46039f\"], [0.2222222222222222, \"#7201a8\"], [0.3333333333333333, \"#9c179e\"], [0.4444444444444444, \"#bd3786\"], [0.5555555555555556, \"#d8576b\"], [0.6666666666666666, \"#ed7953\"], [0.7777777777777778, \"#fb9f3a\"], [0.8888888888888888, \"#fdca26\"], [1.0, \"#f0f921\"]], \"type\": \"histogram2dcontour\"}], \"mesh3d\": [{\"colorbar\": {\"outlinewidth\": 0, \"ticks\": \"\"}, \"type\": \"mesh3d\"}], \"parcoords\": [{\"line\": {\"colorbar\": {\"outlinewidth\": 0, \"ticks\": \"\"}}, \"type\": \"parcoords\"}], \"pie\": [{\"automargin\": true, \"type\": \"pie\"}], \"scatter\": [{\"marker\": {\"colorbar\": {\"outlinewidth\": 0, \"ticks\": \"\"}}, \"type\": \"scatter\"}], \"scatter3d\": [{\"line\": {\"colorbar\": {\"outlinewidth\": 0, \"ticks\": \"\"}}, \"marker\": {\"colorbar\": {\"outlinewidth\": 0, \"ticks\": \"\"}}, \"type\": \"scatter3d\"}], \"scattercarpet\": [{\"marker\": {\"colorbar\": {\"outlinewidth\": 0, \"ticks\": \"\"}}, \"type\": \"scattercarpet\"}], \"scattergeo\": [{\"marker\": {\"colorbar\": {\"outlinewidth\": 0, \"ticks\": \"\"}}, \"type\": \"scattergeo\"}], \"scattergl\": [{\"marker\": {\"colorbar\": {\"outlinewidth\": 0, \"ticks\": \"\"}}, \"type\": \"scattergl\"}], \"scattermapbox\": [{\"marker\": {\"colorbar\": {\"outlinewidth\": 0, \"ticks\": \"\"}}, \"type\": \"scattermapbox\"}], \"scatterpolar\": [{\"marker\": {\"colorbar\": {\"outlinewidth\": 0, \"ticks\": \"\"}}, \"type\": \"scatterpolar\"}], \"scatterpolargl\": [{\"marker\": {\"colorbar\": {\"outlinewidth\": 0, \"ticks\": \"\"}}, \"type\": \"scatterpolargl\"}], \"scatterternary\": [{\"marker\": {\"colorbar\": {\"outlinewidth\": 0, \"ticks\": \"\"}}, \"type\": \"scatterternary\"}], \"surface\": [{\"colorbar\": {\"outlinewidth\": 0, \"ticks\": \"\"}, \"colorscale\": [[0.0, \"#0d0887\"], [0.1111111111111111, \"#46039f\"], [0.2222222222222222, \"#7201a8\"], [0.3333333333333333, \"#9c179e\"], [0.4444444444444444, \"#bd3786\"], [0.5555555555555556, \"#d8576b\"], [0.6666666666666666, \"#ed7953\"], [0.7777777777777778, \"#fb9f3a\"], [0.8888888888888888, \"#fdca26\"], [1.0, \"#f0f921\"]], \"type\": \"surface\"}], \"table\": [{\"cells\": {\"fill\": {\"color\": \"#EBF0F8\"}, \"line\": {\"color\": \"white\"}}, \"header\": {\"fill\": {\"color\": \"#C8D4E3\"}, \"line\": {\"color\": \"white\"}}, \"type\": \"table\"}]}, \"layout\": {\"annotationdefaults\": {\"arrowcolor\": \"#2a3f5f\", \"arrowhead\": 0, \"arrowwidth\": 1}, \"coloraxis\": {\"colorbar\": {\"outlinewidth\": 0, \"ticks\": \"\"}}, \"colorscale\": {\"diverging\": [[0, \"#8e0152\"], [0.1, \"#c51b7d\"], [0.2, \"#de77ae\"], [0.3, \"#f1b6da\"], [0.4, \"#fde0ef\"], [0.5, \"#f7f7f7\"], [0.6, \"#e6f5d0\"], [0.7, \"#b8e186\"], [0.8, \"#7fbc41\"], [0.9, \"#4d9221\"], [1, \"#276419\"]], \"sequential\": [[0.0, \"#0d0887\"], [0.1111111111111111, \"#46039f\"], [0.2222222222222222, \"#7201a8\"], [0.3333333333333333, \"#9c179e\"], [0.4444444444444444, \"#bd3786\"], [0.5555555555555556, \"#d8576b\"], [0.6666666666666666, \"#ed7953\"], [0.7777777777777778, \"#fb9f3a\"], [0.8888888888888888, \"#fdca26\"], [1.0, \"#f0f921\"]], \"sequentialminus\": [[0.0, \"#0d0887\"], [0.1111111111111111, \"#46039f\"], [0.2222222222222222, \"#7201a8\"], [0.3333333333333333, \"#9c179e\"], [0.4444444444444444, \"#bd3786\"], [0.5555555555555556, \"#d8576b\"], [0.6666666666666666, \"#ed7953\"], [0.7777777777777778, \"#fb9f3a\"], [0.8888888888888888, \"#fdca26\"], [1.0, \"#f0f921\"]]}, \"colorway\": [\"#636efa\", \"#EF553B\", \"#00cc96\", \"#ab63fa\", \"#FFA15A\", \"#19d3f3\", \"#FF6692\", \"#B6E880\", \"#FF97FF\", \"#FECB52\"], \"font\": {\"color\": \"#2a3f5f\"}, \"geo\": {\"bgcolor\": \"white\", \"lakecolor\": \"white\", \"landcolor\": \"#E5ECF6\", \"showlakes\": true, \"showland\": true, \"subunitcolor\": \"white\"}, \"hoverlabel\": {\"align\": \"left\"}, \"hovermode\": \"closest\", \"mapbox\": {\"style\": \"light\"}, \"paper_bgcolor\": \"white\", \"plot_bgcolor\": \"#E5ECF6\", \"polar\": {\"angularaxis\": {\"gridcolor\": \"white\", \"linecolor\": \"white\", \"ticks\": \"\"}, \"bgcolor\": \"#E5ECF6\", \"radialaxis\": {\"gridcolor\": \"white\", \"linecolor\": \"white\", \"ticks\": \"\"}}, \"scene\": {\"xaxis\": {\"backgroundcolor\": \"#E5ECF6\", \"gridcolor\": \"white\", \"gridwidth\": 2, \"linecolor\": \"white\", \"showbackground\": true, \"ticks\": \"\", \"zerolinecolor\": \"white\"}, \"yaxis\": {\"backgroundcolor\": \"#E5ECF6\", \"gridcolor\": \"white\", \"gridwidth\": 2, \"linecolor\": \"white\", \"showbackground\": true, \"ticks\": \"\", \"zerolinecolor\": \"white\"}, \"zaxis\": {\"backgroundcolor\": \"#E5ECF6\", \"gridcolor\": \"white\", \"gridwidth\": 2, \"linecolor\": \"white\", \"showbackground\": true, \"ticks\": \"\", \"zerolinecolor\": \"white\"}}, \"shapedefaults\": {\"line\": {\"color\": \"#2a3f5f\"}}, \"ternary\": {\"aaxis\": {\"gridcolor\": \"white\", \"linecolor\": \"white\", \"ticks\": \"\"}, \"baxis\": {\"gridcolor\": \"white\", \"linecolor\": \"white\", \"ticks\": \"\"}, \"bgcolor\": \"#E5ECF6\", \"caxis\": {\"gridcolor\": \"white\", \"linecolor\": \"white\", \"ticks\": \"\"}}, \"title\": {\"x\": 0.05}, \"xaxis\": {\"automargin\": true, \"gridcolor\": \"white\", \"linecolor\": \"white\", \"ticks\": \"\", \"title\": {\"standoff\": 15}, \"zerolinecolor\": \"white\", \"zerolinewidth\": 2}, \"yaxis\": {\"automargin\": true, \"gridcolor\": \"white\", \"linecolor\": \"white\", \"ticks\": \"\", \"title\": {\"standoff\": 15}, \"zerolinecolor\": \"white\", \"zerolinewidth\": 2}}}},\n",
       "                        {\"responsive\": true}\n",
       "                    ).then(function(){\n",
       "                            \n",
       "var gd = document.getElementById('d2cc863b-65a7-448c-9237-03e00906012b');\n",
       "var x = new MutationObserver(function (mutations, observer) {{\n",
       "        var display = window.getComputedStyle(gd).display;\n",
       "        if (!display || display === 'none') {{\n",
       "            console.log([gd, 'removed!']);\n",
       "            Plotly.purge(gd);\n",
       "            observer.disconnect();\n",
       "        }}\n",
       "}});\n",
       "\n",
       "// Listen for the removal of the full notebook cells\n",
       "var notebookContainer = gd.closest('#notebook-container');\n",
       "if (notebookContainer) {{\n",
       "    x.observe(notebookContainer, {childList: true});\n",
       "}}\n",
       "\n",
       "// Listen for the clearing of the current output cell\n",
       "var outputEl = gd.closest('.output');\n",
       "if (outputEl) {{\n",
       "    x.observe(outputEl, {childList: true});\n",
       "}}\n",
       "\n",
       "                        })\n",
       "                };\n",
       "                });\n",
       "            </script>\n",
       "        </div>"
      ]
     },
     "metadata": {},
     "output_type": "display_data"
    }
   ],
   "source": [
    "trace0=go.Scatter(\n",
    "    x=global4['dt'],\n",
    "    y=global4['LandAverageTemperature'],\n",
    "    mode='lines',\n",
    "    )\n",
    "\n",
    "trace1=go.Scatter(\n",
    "    x=global5df1['dt'],\n",
    "    y=global5df1['LandMaxTemperature'],\n",
    "    mode='lines',\n",
    "    )\n",
    "\n",
    "trace2=go.Scatter(\n",
    "    x=global5df2['dt'],\n",
    "    y=global5df2['LandMinTemperature'],\n",
    "    mode='lines'\n",
    "    )\n",
    "\n",
    "data = [trace0, trace1, trace2]\n",
    "\n",
    "py.iplot(data, filename='line-mode')"
   ]
  },
  {
   "cell_type": "markdown",
   "metadata": {},
   "source": [
    "# Chart: Land Avg Temp (1750 - 2015) (including Uncertainty)"
   ]
  },
  {
   "cell_type": "code",
   "execution_count": 23,
   "metadata": {},
   "outputs": [],
   "source": [
    "global_temp = pd.read_csv('/Users/lindyhua/Library/Mobile Documents/com~apple~CloudDocs/Documents/Learning with Hands/Data Analytics/Datasets/climate-change-earth-surface-temperature-data/GlobalTemperatures.csv')"
   ]
  },
  {
   "cell_type": "code",
   "execution_count": 24,
   "metadata": {},
   "outputs": [
    {
     "data": {
      "text/html": [
       "<div>\n",
       "<style scoped>\n",
       "    .dataframe tbody tr th:only-of-type {\n",
       "        vertical-align: middle;\n",
       "    }\n",
       "\n",
       "    .dataframe tbody tr th {\n",
       "        vertical-align: top;\n",
       "    }\n",
       "\n",
       "    .dataframe thead th {\n",
       "        text-align: right;\n",
       "    }\n",
       "</style>\n",
       "<table border=\"1\" class=\"dataframe\">\n",
       "  <thead>\n",
       "    <tr style=\"text-align: right;\">\n",
       "      <th></th>\n",
       "      <th>Year</th>\n",
       "      <th>LandAverageTemperature</th>\n",
       "      <th>LandAverageTemperatureUncertainty</th>\n",
       "    </tr>\n",
       "  </thead>\n",
       "  <tbody>\n",
       "    <tr>\n",
       "      <td>0</td>\n",
       "      <td>1750</td>\n",
       "      <td>8.719364</td>\n",
       "      <td>2.637818</td>\n",
       "    </tr>\n",
       "    <tr>\n",
       "      <td>1</td>\n",
       "      <td>1751</td>\n",
       "      <td>7.976143</td>\n",
       "      <td>2.781143</td>\n",
       "    </tr>\n",
       "    <tr>\n",
       "      <td>2</td>\n",
       "      <td>1752</td>\n",
       "      <td>5.779833</td>\n",
       "      <td>2.977000</td>\n",
       "    </tr>\n",
       "    <tr>\n",
       "      <td>3</td>\n",
       "      <td>1753</td>\n",
       "      <td>8.388083</td>\n",
       "      <td>3.176000</td>\n",
       "    </tr>\n",
       "    <tr>\n",
       "      <td>4</td>\n",
       "      <td>1754</td>\n",
       "      <td>8.469333</td>\n",
       "      <td>3.494250</td>\n",
       "    </tr>\n",
       "    <tr>\n",
       "      <td>...</td>\n",
       "      <td>...</td>\n",
       "      <td>...</td>\n",
       "      <td>...</td>\n",
       "    </tr>\n",
       "    <tr>\n",
       "      <td>261</td>\n",
       "      <td>2011</td>\n",
       "      <td>9.516000</td>\n",
       "      <td>0.082000</td>\n",
       "    </tr>\n",
       "    <tr>\n",
       "      <td>262</td>\n",
       "      <td>2012</td>\n",
       "      <td>9.507333</td>\n",
       "      <td>0.083417</td>\n",
       "    </tr>\n",
       "    <tr>\n",
       "      <td>263</td>\n",
       "      <td>2013</td>\n",
       "      <td>9.606500</td>\n",
       "      <td>0.097667</td>\n",
       "    </tr>\n",
       "    <tr>\n",
       "      <td>264</td>\n",
       "      <td>2014</td>\n",
       "      <td>9.570667</td>\n",
       "      <td>0.090167</td>\n",
       "    </tr>\n",
       "    <tr>\n",
       "      <td>265</td>\n",
       "      <td>2015</td>\n",
       "      <td>9.831000</td>\n",
       "      <td>0.092167</td>\n",
       "    </tr>\n",
       "  </tbody>\n",
       "</table>\n",
       "<p>266 rows × 3 columns</p>\n",
       "</div>"
      ],
      "text/plain": [
       "     Year  LandAverageTemperature  LandAverageTemperatureUncertainty\n",
       "0    1750                8.719364                           2.637818\n",
       "1    1751                7.976143                           2.781143\n",
       "2    1752                5.779833                           2.977000\n",
       "3    1753                8.388083                           3.176000\n",
       "4    1754                8.469333                           3.494250\n",
       "..    ...                     ...                                ...\n",
       "261  2011                9.516000                           0.082000\n",
       "262  2012                9.507333                           0.083417\n",
       "263  2013                9.606500                           0.097667\n",
       "264  2014                9.570667                           0.090167\n",
       "265  2015                9.831000                           0.092167\n",
       "\n",
       "[266 rows x 3 columns]"
      ]
     },
     "execution_count": 24,
     "metadata": {},
     "output_type": "execute_result"
    }
   ],
   "source": [
    "df1 = pd.read_csv('/Users/lindyhua/Library/Mobile Documents/com~apple~CloudDocs/Documents/Learning with Hands/Data Analytics/Datasets/climate-change-earth-surface-temperature-data/GlobalTemperatures.csv')\n",
    "\n",
    "#add a column finding year from date\n",
    "df1['Year'] = pd.DatetimeIndex(df1['dt']).year\n",
    "\n",
    "#create new table with the mean LandAvgTemp and LandAvgTempUncertainty, by year\n",
    "df1plot = df1.groupby(['Year'])['LandAverageTemperature','LandAverageTemperatureUncertainty'].mean().reset_index()\n",
    "\n",
    "df1plot"
   ]
  },
  {
   "cell_type": "code",
   "execution_count": 25,
   "metadata": {},
   "outputs": [
    {
     "data": {
      "application/vnd.plotly.v1+json": {
       "config": {
        "linkText": "Export to plot.ly",
        "plotlyServerURL": "https://plot.ly",
        "showLink": false
       },
       "data": [
        {
         "line": {
          "color": "rgb(255, 219, 204)"
         },
         "mode": "lines",
         "name": "Uncertainty higher",
         "type": "scatter",
         "x": [
          1750,
          1751,
          1752,
          1753,
          1754,
          1755,
          1756,
          1757,
          1758,
          1759,
          1760,
          1761,
          1762,
          1763,
          1764,
          1765,
          1766,
          1767,
          1768,
          1769,
          1770,
          1771,
          1772,
          1773,
          1774,
          1775,
          1776,
          1777,
          1778,
          1779,
          1780,
          1781,
          1782,
          1783,
          1784,
          1785,
          1786,
          1787,
          1788,
          1789,
          1790,
          1791,
          1792,
          1793,
          1794,
          1795,
          1796,
          1797,
          1798,
          1799,
          1800,
          1801,
          1802,
          1803,
          1804,
          1805,
          1806,
          1807,
          1808,
          1809,
          1810,
          1811,
          1812,
          1813,
          1814,
          1815,
          1816,
          1817,
          1818,
          1819,
          1820,
          1821,
          1822,
          1823,
          1824,
          1825,
          1826,
          1827,
          1828,
          1829,
          1830,
          1831,
          1832,
          1833,
          1834,
          1835,
          1836,
          1837,
          1838,
          1839,
          1840,
          1841,
          1842,
          1843,
          1844,
          1845,
          1846,
          1847,
          1848,
          1849,
          1850,
          1851,
          1852,
          1853,
          1854,
          1855,
          1856,
          1857,
          1858,
          1859,
          1860,
          1861,
          1862,
          1863,
          1864,
          1865,
          1866,
          1867,
          1868,
          1869,
          1870,
          1871,
          1872,
          1873,
          1874,
          1875,
          1876,
          1877,
          1878,
          1879,
          1880,
          1881,
          1882,
          1883,
          1884,
          1885,
          1886,
          1887,
          1888,
          1889,
          1890,
          1891,
          1892,
          1893,
          1894,
          1895,
          1896,
          1897,
          1898,
          1899,
          1900,
          1901,
          1902,
          1903,
          1904,
          1905,
          1906,
          1907,
          1908,
          1909,
          1910,
          1911,
          1912,
          1913,
          1914,
          1915,
          1916,
          1917,
          1918,
          1919,
          1920,
          1921,
          1922,
          1923,
          1924,
          1925,
          1926,
          1927,
          1928,
          1929,
          1930,
          1931,
          1932,
          1933,
          1934,
          1935,
          1936,
          1937,
          1938,
          1939,
          1940,
          1941,
          1942,
          1943,
          1944,
          1945,
          1946,
          1947,
          1948,
          1949,
          1950,
          1951,
          1952,
          1953,
          1954,
          1955,
          1956,
          1957,
          1958,
          1959,
          1960,
          1961,
          1962,
          1963,
          1964,
          1965,
          1966,
          1967,
          1968,
          1969,
          1970,
          1971,
          1972,
          1973,
          1974,
          1975,
          1976,
          1977,
          1978,
          1979,
          1980,
          1981,
          1982,
          1983,
          1984,
          1985,
          1986,
          1987,
          1988,
          1989,
          1990,
          1991,
          1992,
          1993,
          1994,
          1995,
          1996,
          1997,
          1998,
          1999,
          2000,
          2001,
          2002,
          2003,
          2004,
          2005,
          2006,
          2007,
          2008,
          2009,
          2010,
          2011,
          2012,
          2013,
          2014,
          2015
         ],
         "y": [
          11.357181818181818,
          10.757285714285715,
          8.756833333333333,
          11.564083333333333,
          11.963583333333336,
          12.205916666666667,
          12.111916666666668,
          13.048000000000002,
          10.1065,
          11.664,
          10.274083333333333,
          11.917333333333332,
          12.13075,
          10.648333333333332,
          11.175583333333332,
          10.679666666666666,
          11.2415,
          11.184166666666666,
          9.047333333333334,
          10.104666666666667,
          10.472583333333333,
          10.45775,
          10.657333333333334,
          10.58225,
          12.187333333333331,
          11.503666666666668,
          11.168166666666668,
          10.699083333333334,
          11.41475,
          11.489083333333333,
          12.017750000000001,
          10.606416666666664,
          10.451833333333331,
          10.17525,
          10.117666666666668,
          9.6025,
          10.783583333333333,
          10.393583333333334,
          11.004999999999999,
          10.202833333333333,
          9.754,
          10.018,
          9.789416666666668,
          10.503583333333331,
          10.505,
          10.393666666666666,
          10.191666666666666,
          10.556250000000002,
          10.573583333333332,
          10.244166666666665,
          10.202916666666669,
          10.171333333333335,
          10.427166666666666,
          10.136166666666666,
          10.686666666666667,
          10.251666666666665,
          10.004166666666665,
          9.873666666666665,
          9.623666666666665,
          9.211833333333333,
          9.233666666666664,
          8.955250000000001,
          9.181833333333334,
          9.448750000000002,
          9.760250000000001,
          9.205833333333334,
          9.130416666666667,
          8.684000000000001,
          9.658000000000001,
          8.951083333333333,
          9.235,
          9.465916666666665,
          9.563583333333334,
          9.080916666666667,
          9.995000000000001,
          9.897166666666667,
          9.916166666666669,
          10.25233333333333,
          9.81375,
          9.261583333333332,
          9.948166666666667,
          9.170666666666667,
          8.990583333333333,
          9.2465,
          9.299000000000001,
          8.667833333333332,
          8.86525,
          8.666583333333332,
          8.677249999999999,
          8.811666666666666,
          8.787416666666667,
          8.640166666666666,
          8.92025,
          8.923499999999999,
          8.572333333333333,
          8.732666666666667,
          9.6045,
          8.986666666666666,
          8.850833333333334,
          8.898,
          8.777083333333334,
          9.0605,
          9.018416666666665,
          8.876833333333334,
          9.036166666666666,
          8.997916666666665,
          8.756666666666666,
          8.509250000000002,
          8.8,
          8.926666666666668,
          8.586833333333333,
          8.499916666666667,
          8.2475,
          8.859833333333333,
          8.660000000000002,
          8.84,
          8.898166666666665,
          9.071166666666667,
          8.79425,
          9.02775,
          8.7515,
          8.685333333333332,
          8.782916666666665,
          8.901583333333333,
          8.951416666666667,
          8.311083333333334,
          8.513583333333333,
          8.9955,
          9.254666666666665,
          8.62925,
          8.533666666666665,
          8.69025,
          8.508833333333333,
          8.347583333333333,
          8.169916666666667,
          8.344666666666669,
          8.340499999999999,
          8.307,
          8.472916666666666,
          8.688833333333333,
          8.314666666666668,
          8.354666666666667,
          8.404666666666666,
          8.402,
          8.47825,
          8.446250000000001,
          8.52375,
          8.607166666666668,
          8.503666666666666,
          8.721083333333333,
          8.816333333333333,
          8.848166666666666,
          8.597166666666666,
          8.510166666666667,
          8.377333333333333,
          8.503916666666665,
          8.653999999999998,
          8.204333333333334,
          8.460833333333333,
          8.441,
          8.483083333333335,
          8.424833333333336,
          8.423833333333334,
          8.559999999999999,
          8.842416666666667,
          8.839333333333332,
          8.485666666666667,
          8.283999999999999,
          8.399083333333332,
          8.649000000000001,
          8.621416666666667,
          8.827833333333333,
          8.666583333333334,
          8.675249999999998,
          8.763666666666667,
          8.775166666666667,
          8.971499999999999,
          8.770999999999999,
          8.88075,
          8.494166666666665,
          8.873249999999999,
          8.957,
          8.954166666666667,
          8.580916666666667,
          8.868416666666668,
          8.751666666666667,
          8.797083333333333,
          8.938416666666665,
          9.104166666666666,
          8.997666666666667,
          8.995750000000001,
          8.996500000000001,
          8.957916666666666,
          8.981666666666667,
          9.070166666666667,
          8.805166666666665,
          8.899333333333335,
          9.014166666666666,
          8.956333333333333,
          8.794999999999998,
          8.551583333333335,
          8.809833333333332,
          8.847000000000001,
          9.085833333333335,
          8.747833333333332,
          8.779833333333334,
          8.400416666666667,
          8.8905,
          8.878083333333333,
          8.839833333333331,
          8.67725,
          8.894666666666666,
          8.878833333333333,
          8.948333333333332,
          8.502166666666666,
          8.63625,
          8.691583333333332,
          8.78375,
          8.628,
          8.68025,
          8.776499999999999,
          8.697166666666666,
          8.594916666666666,
          9.048999999999998,
          8.572,
          8.841916666666668,
          8.447833333333332,
          8.934916666666666,
          8.796583333333333,
          8.819833333333332,
          9.087,
          9.253083333333333,
          8.721833333333333,
          9.122166666666665,
          8.794416666666669,
          8.751249999999999,
          8.918583333333332,
          9.079583333333334,
          9.281666666666666,
          9.009999999999998,
          9.320500000000001,
          9.2415,
          8.919916666666666,
          8.947916666666666,
          9.109666666666666,
          9.423499999999999,
          9.123666666666667,
          9.291166666666667,
          9.596583333333333,
          9.364333333333333,
          9.284666666666668,
          9.502,
          9.642833333333334,
          9.61625,
          9.408,
          9.776083333333332,
          9.622499999999999,
          9.821666666666664,
          9.510666666666667,
          9.591166666666668,
          9.786499999999998,
          9.598,
          9.59075,
          9.704166666666666,
          9.660833333333333,
          9.923166666666665
         ]
        },
        {
         "fill": "tonexty",
         "line": {
          "color": "rgb(255, 219, 204)"
         },
         "mode": "lines",
         "name": "Uncertainty lower",
         "type": "scatter",
         "x": [
          1750,
          1751,
          1752,
          1753,
          1754,
          1755,
          1756,
          1757,
          1758,
          1759,
          1760,
          1761,
          1762,
          1763,
          1764,
          1765,
          1766,
          1767,
          1768,
          1769,
          1770,
          1771,
          1772,
          1773,
          1774,
          1775,
          1776,
          1777,
          1778,
          1779,
          1780,
          1781,
          1782,
          1783,
          1784,
          1785,
          1786,
          1787,
          1788,
          1789,
          1790,
          1791,
          1792,
          1793,
          1794,
          1795,
          1796,
          1797,
          1798,
          1799,
          1800,
          1801,
          1802,
          1803,
          1804,
          1805,
          1806,
          1807,
          1808,
          1809,
          1810,
          1811,
          1812,
          1813,
          1814,
          1815,
          1816,
          1817,
          1818,
          1819,
          1820,
          1821,
          1822,
          1823,
          1824,
          1825,
          1826,
          1827,
          1828,
          1829,
          1830,
          1831,
          1832,
          1833,
          1834,
          1835,
          1836,
          1837,
          1838,
          1839,
          1840,
          1841,
          1842,
          1843,
          1844,
          1845,
          1846,
          1847,
          1848,
          1849,
          1850,
          1851,
          1852,
          1853,
          1854,
          1855,
          1856,
          1857,
          1858,
          1859,
          1860,
          1861,
          1862,
          1863,
          1864,
          1865,
          1866,
          1867,
          1868,
          1869,
          1870,
          1871,
          1872,
          1873,
          1874,
          1875,
          1876,
          1877,
          1878,
          1879,
          1880,
          1881,
          1882,
          1883,
          1884,
          1885,
          1886,
          1887,
          1888,
          1889,
          1890,
          1891,
          1892,
          1893,
          1894,
          1895,
          1896,
          1897,
          1898,
          1899,
          1900,
          1901,
          1902,
          1903,
          1904,
          1905,
          1906,
          1907,
          1908,
          1909,
          1910,
          1911,
          1912,
          1913,
          1914,
          1915,
          1916,
          1917,
          1918,
          1919,
          1920,
          1921,
          1922,
          1923,
          1924,
          1925,
          1926,
          1927,
          1928,
          1929,
          1930,
          1931,
          1932,
          1933,
          1934,
          1935,
          1936,
          1937,
          1938,
          1939,
          1940,
          1941,
          1942,
          1943,
          1944,
          1945,
          1946,
          1947,
          1948,
          1949,
          1950,
          1951,
          1952,
          1953,
          1954,
          1955,
          1956,
          1957,
          1958,
          1959,
          1960,
          1961,
          1962,
          1963,
          1964,
          1965,
          1966,
          1967,
          1968,
          1969,
          1970,
          1971,
          1972,
          1973,
          1974,
          1975,
          1976,
          1977,
          1978,
          1979,
          1980,
          1981,
          1982,
          1983,
          1984,
          1985,
          1986,
          1987,
          1988,
          1989,
          1990,
          1991,
          1992,
          1993,
          1994,
          1995,
          1996,
          1997,
          1998,
          1999,
          2000,
          2001,
          2002,
          2003,
          2004,
          2005,
          2006,
          2007,
          2008,
          2009,
          2010,
          2011,
          2012,
          2013,
          2014,
          2015
         ],
         "y": [
          6.081545454545456,
          5.194999999999999,
          2.8028333333333326,
          5.212083333333332,
          4.975083333333334,
          4.50525,
          5.587249999999999,
          4.9959999999999996,
          3.3806666666666656,
          4.306166666666666,
          4.096250000000001,
          5.627666666666666,
          5.08225,
          4.345166666666666,
          5.6250833333333325,
          5.824166666666666,
          5.569833333333333,
          5.258833333333332,
          4.515333333333333,
          5.284500000000001,
          4.91125,
          5.248583333333334,
          5.729666666666667,
          5.860750000000001,
          5.356999999999999,
          6.862500000000001,
          5.439833333333333,
          5.813416666666669,
          5.669749999999999,
          6.477416666666667,
          6.848083333333333,
          5.598749999999998,
          5.350666666666665,
          5.186416666666666,
          5.606333333333334,
          5.1235,
          5.732749999999999,
          5.6700833333333325,
          5.889333333333333,
          6.4655,
          6.210666666666667,
          6.450499999999999,
          6.388583333333334,
          5.95475,
          6.5470000000000015,
          6.307,
          6.3503333333333325,
          6.464916666666667,
          6.766916666666666,
          6.767333333333332,
          6.765583333333335,
          7.008000000000001,
          6.729166666666666,
          6.869833333333333,
          7.003,
          6.873833333333333,
          6.863999999999998,
          6.689166666666665,
          5.63,
          4.941000000000001,
          4.611666666666666,
          4.76375,
          4.910666666666668,
          6.031083333333335,
          5.4232499999999995,
          5.272833333333334,
          4.744583333333333,
          5.267333333333335,
          5.999833333333334,
          5.787250000000001,
          5.997499999999998,
          6.714249999999999,
          6.813083333333334,
          6.356416666666667,
          7.099333333333334,
          6.8815,
          6.7970000000000015,
          7.365166666666664,
          6.516916666666668,
          6.622083333333332,
          7.085333333333334,
          6.107666666666667,
          5.909750000000001,
          6.7795,
          6.994500000000001,
          6.117166666666666,
          6.526416666666667,
          6.084749999999998,
          6.352583333333332,
          6.4528333333333325,
          6.805083333333334,
          6.736166666666667,
          7.12525,
          7.423833333333333,
          6.7203333333333335,
          6.969666666666668,
          7.5009999999999994,
          7.185333333333333,
          7.108166666666667,
          7.070833333333334,
          7.024249999999999,
          7.296666666666665,
          7.181916666666664,
          7.206833333333333,
          7.384833333333333,
          7.223583333333331,
          7.235166666666666,
          7.007083333333334,
          7.400500000000001,
          7.577333333333334,
          7.334833333333333,
          7.193083333333335,
          6.869666666666667,
          7.363833333333333,
          7.307166666666668,
          7.515666666666667,
          7.686166666666665,
          7.801500000000001,
          7.701583333333334,
          7.836416666666667,
          7.651166666666666,
          7.544833333333333,
          7.604749999999998,
          7.800583333333334,
          7.915583333333334,
          7.408083333333334,
          7.646583333333333,
          8.083666666666666,
          8.404833333333332,
          7.702416666666667,
          7.703833333333332,
          7.851583333333333,
          7.7490000000000006,
          7.606249999999998,
          7.377416666666667,
          7.494666666666668,
          7.5684999999999985,
          7.522833333333333,
          7.708083333333334,
          7.949166666666666,
          7.628666666666667,
          7.684,
          7.7269999999999985,
          7.711499999999999,
          7.84375,
          7.8477500000000004,
          7.906083333333332,
          7.979500000000002,
          7.852333333333332,
          8.071583333333333,
          8.186833333333333,
          8.235666666666665,
          8.011666666666667,
          7.9301666666666675,
          7.8045,
          7.946416666666665,
          8.104166666666666,
          7.69,
          7.911333333333334,
          7.915500000000001,
          7.9629166666666675,
          7.929166666666668,
          7.907000000000001,
          8.035499999999999,
          8.338583333333334,
          8.346999999999998,
          7.964833333333334,
          7.762666666666665,
          7.8625833333333315,
          8.1155,
          8.096083333333334,
          8.314166666666667,
          8.149416666666665,
          8.169083333333333,
          8.250000000000002,
          8.293666666666667,
          8.486166666666666,
          8.273166666666667,
          8.383583333333336,
          7.990666666666665,
          8.393916666666666,
          8.4815,
          8.456333333333335,
          8.095583333333334,
          8.388250000000003,
          8.279833333333334,
          8.310916666666667,
          8.45825,
          8.623166666666664,
          8.523,
          8.533583333333333,
          8.540833333333335,
          8.498916666666666,
          8.5285,
          8.619833333333334,
          8.3645,
          8.454500000000003,
          8.58,
          8.537166666666668,
          8.378499999999999,
          8.178916666666668,
          8.4415,
          8.4295,
          8.661666666666667,
          8.3735,
          8.472666666666667,
          8.15875,
          8.5745,
          8.669416666666667,
          8.625499999999999,
          8.49025,
          8.700666666666667,
          8.613,
          8.763666666666667,
          8.317166666666667,
          8.418583333333334,
          8.507083333333332,
          8.616416666666668,
          8.404666666666667,
          8.509916666666667,
          8.625333333333334,
          8.501333333333333,
          8.404250000000001,
          8.847499999999998,
          8.363,
          8.64775,
          8.246666666666666,
          8.765583333333332,
          8.588916666666664,
          8.646999999999998,
          8.873666666666665,
          9.078583333333334,
          8.5565,
          8.934166666666666,
          8.589250000000002,
          8.56475,
          8.74858333333333,
          8.909250000000002,
          9.121500000000001,
          8.834,
          9.147833333333333,
          9.117333333333333,
          8.753249999999998,
          8.78525,
          8.967833333333331,
          9.270666666666665,
          8.954166666666667,
          9.113999999999999,
          9.448749999999999,
          9.205833333333333,
          9.117666666666667,
          9.327166666666669,
          9.498,
          9.434916666666666,
          9.241166666666667,
          9.62575,
          9.442499999999999,
          9.642666666666665,
          9.352833333333335,
          9.419333333333336,
          9.619666666666665,
          9.434,
          9.423916666666667,
          9.508833333333332,
          9.4805,
          9.73883333333333
         ]
        },
        {
         "line": {
          "color": "rgb(255, 128, 0)"
         },
         "name": "Average Temperature",
         "type": "scatter",
         "x": [
          1750,
          1751,
          1752,
          1753,
          1754,
          1755,
          1756,
          1757,
          1758,
          1759,
          1760,
          1761,
          1762,
          1763,
          1764,
          1765,
          1766,
          1767,
          1768,
          1769,
          1770,
          1771,
          1772,
          1773,
          1774,
          1775,
          1776,
          1777,
          1778,
          1779,
          1780,
          1781,
          1782,
          1783,
          1784,
          1785,
          1786,
          1787,
          1788,
          1789,
          1790,
          1791,
          1792,
          1793,
          1794,
          1795,
          1796,
          1797,
          1798,
          1799,
          1800,
          1801,
          1802,
          1803,
          1804,
          1805,
          1806,
          1807,
          1808,
          1809,
          1810,
          1811,
          1812,
          1813,
          1814,
          1815,
          1816,
          1817,
          1818,
          1819,
          1820,
          1821,
          1822,
          1823,
          1824,
          1825,
          1826,
          1827,
          1828,
          1829,
          1830,
          1831,
          1832,
          1833,
          1834,
          1835,
          1836,
          1837,
          1838,
          1839,
          1840,
          1841,
          1842,
          1843,
          1844,
          1845,
          1846,
          1847,
          1848,
          1849,
          1850,
          1851,
          1852,
          1853,
          1854,
          1855,
          1856,
          1857,
          1858,
          1859,
          1860,
          1861,
          1862,
          1863,
          1864,
          1865,
          1866,
          1867,
          1868,
          1869,
          1870,
          1871,
          1872,
          1873,
          1874,
          1875,
          1876,
          1877,
          1878,
          1879,
          1880,
          1881,
          1882,
          1883,
          1884,
          1885,
          1886,
          1887,
          1888,
          1889,
          1890,
          1891,
          1892,
          1893,
          1894,
          1895,
          1896,
          1897,
          1898,
          1899,
          1900,
          1901,
          1902,
          1903,
          1904,
          1905,
          1906,
          1907,
          1908,
          1909,
          1910,
          1911,
          1912,
          1913,
          1914,
          1915,
          1916,
          1917,
          1918,
          1919,
          1920,
          1921,
          1922,
          1923,
          1924,
          1925,
          1926,
          1927,
          1928,
          1929,
          1930,
          1931,
          1932,
          1933,
          1934,
          1935,
          1936,
          1937,
          1938,
          1939,
          1940,
          1941,
          1942,
          1943,
          1944,
          1945,
          1946,
          1947,
          1948,
          1949,
          1950,
          1951,
          1952,
          1953,
          1954,
          1955,
          1956,
          1957,
          1958,
          1959,
          1960,
          1961,
          1962,
          1963,
          1964,
          1965,
          1966,
          1967,
          1968,
          1969,
          1970,
          1971,
          1972,
          1973,
          1974,
          1975,
          1976,
          1977,
          1978,
          1979,
          1980,
          1981,
          1982,
          1983,
          1984,
          1985,
          1986,
          1987,
          1988,
          1989,
          1990,
          1991,
          1992,
          1993,
          1994,
          1995,
          1996,
          1997,
          1998,
          1999,
          2000,
          2001,
          2002,
          2003,
          2004,
          2005,
          2006,
          2007,
          2008,
          2009,
          2010,
          2011,
          2012,
          2013,
          2014,
          2015
         ],
         "y": [
          8.719363636363637,
          7.9761428571428565,
          5.7798333333333325,
          8.388083333333332,
          8.469333333333335,
          8.355583333333334,
          8.849583333333333,
          9.022,
          6.743583333333333,
          7.985083333333333,
          7.185166666666667,
          8.772499999999999,
          8.6065,
          7.496749999999999,
          8.400333333333332,
          8.251916666666666,
          8.405666666666667,
          8.221499999999999,
          6.781333333333333,
          7.694583333333334,
          7.691916666666667,
          7.8531666666666675,
          8.1935,
          8.2215,
          8.772166666666665,
          9.183083333333334,
          8.304,
          8.256250000000001,
          8.54225,
          8.98325,
          9.432916666666667,
          8.102583333333332,
          7.901249999999998,
          7.680833333333333,
          7.862000000000001,
          7.3629999999999995,
          8.258166666666666,
          8.031833333333333,
          8.447166666666666,
          8.334166666666667,
          7.982333333333333,
          8.23425,
          8.089,
          8.229166666666666,
          8.526000000000002,
          8.350333333333333,
          8.270999999999999,
          8.510583333333335,
          8.67025,
          8.505749999999999,
          8.484250000000001,
          8.589666666666668,
          8.578166666666666,
          8.503,
          8.844833333333334,
          8.56275,
          8.434083333333332,
          8.281416666666665,
          7.626833333333333,
          7.076416666666667,
          6.922666666666665,
          6.859500000000001,
          7.046250000000001,
          7.7399166666666686,
          7.59175,
          7.239333333333334,
          6.9375,
          6.975666666666668,
          7.828916666666667,
          7.3691666666666675,
          7.616249999999998,
          8.090083333333332,
          8.188333333333334,
          7.7186666666666675,
          8.547166666666667,
          8.389333333333333,
          8.356583333333335,
          8.808749999999998,
          8.165333333333335,
          7.941833333333332,
          8.51675,
          7.639166666666667,
          7.450166666666667,
          8.013,
          8.14675,
          7.392499999999999,
          7.695833333333334,
          7.375666666666665,
          7.514916666666665,
          7.632249999999999,
          7.796250000000001,
          7.688166666666667,
          8.02275,
          8.173666666666666,
          7.646333333333334,
          7.851166666666668,
          8.55275,
          8.086,
          7.979500000000001,
          7.984416666666667,
          7.900666666666666,
          8.178583333333332,
          8.100166666666665,
          8.041833333333333,
          8.2105,
          8.110749999999998,
          7.995916666666666,
          7.758166666666668,
          8.10025,
          8.252,
          7.960833333333333,
          7.846500000000002,
          7.558583333333334,
          8.111833333333333,
          7.983583333333335,
          8.177833333333334,
          8.292166666666665,
          8.436333333333334,
          8.247916666666667,
          8.432083333333333,
          8.201333333333332,
          8.115083333333333,
          8.193833333333332,
          8.351083333333333,
          8.4335,
          7.859583333333334,
          8.080083333333333,
          8.539583333333333,
          8.829749999999999,
          8.165833333333333,
          8.118749999999999,
          8.270916666666666,
          8.128916666666667,
          7.976916666666665,
          7.773666666666667,
          7.919666666666668,
          7.954499999999999,
          7.914916666666667,
          8.0905,
          8.318999999999999,
          7.971666666666667,
          8.019333333333334,
          8.065833333333332,
          8.05675,
          8.161,
          8.147,
          8.214916666666666,
          8.293333333333335,
          8.177999999999999,
          8.396333333333333,
          8.501583333333333,
          8.541916666666665,
          8.304416666666667,
          8.220166666666668,
          8.090916666666667,
          8.225166666666665,
          8.379083333333332,
          7.947166666666667,
          8.186083333333334,
          8.17825,
          8.223,
          8.177000000000001,
          8.165416666666667,
          8.297749999999999,
          8.5905,
          8.593166666666665,
          8.22525,
          8.023333333333332,
          8.130833333333332,
          8.38225,
          8.35875,
          8.571,
          8.408,
          8.422166666666666,
          8.506833333333335,
          8.534416666666667,
          8.728833333333332,
          8.522083333333333,
          8.632166666666668,
          8.242416666666665,
          8.633583333333332,
          8.71925,
          8.705250000000001,
          8.33825,
          8.628333333333336,
          8.51575,
          8.554,
          8.698333333333332,
          8.863666666666665,
          8.760333333333334,
          8.764666666666667,
          8.768666666666668,
          8.728416666666666,
          8.755083333333333,
          8.845,
          8.584833333333332,
          8.676916666666669,
          8.797083333333333,
          8.74675,
          8.586749999999999,
          8.365250000000001,
          8.625666666666666,
          8.638250000000001,
          8.873750000000001,
          8.560666666666666,
          8.62625,
          8.279583333333333,
          8.7325,
          8.77375,
          8.732666666666665,
          8.58375,
          8.797666666666666,
          8.745916666666666,
          8.856,
          8.409666666666666,
          8.527416666666667,
          8.599333333333332,
          8.700083333333334,
          8.516333333333334,
          8.595083333333333,
          8.700916666666666,
          8.59925,
          8.499583333333334,
          8.948249999999998,
          8.4675,
          8.744833333333334,
          8.347249999999999,
          8.850249999999999,
          8.692749999999998,
          8.733416666666665,
          8.980333333333332,
          9.165833333333333,
          8.639166666666666,
          9.028166666666666,
          8.691833333333335,
          8.658,
          8.833583333333332,
          8.994416666666668,
          9.201583333333334,
          8.921999999999999,
          9.234166666666667,
          9.179416666666667,
          8.836583333333332,
          8.866583333333333,
          9.038749999999999,
          9.347083333333332,
          9.038916666666667,
          9.202583333333333,
          9.522666666666666,
          9.285083333333333,
          9.201166666666667,
          9.414583333333335,
          9.570416666666667,
          9.525583333333334,
          9.324583333333333,
          9.700916666666666,
          9.532499999999999,
          9.732166666666664,
          9.431750000000001,
          9.505250000000002,
          9.703083333333332,
          9.516,
          9.507333333333333,
          9.606499999999999,
          9.570666666666666,
          9.830999999999998
         ]
        }
       ],
       "layout": {
        "showlegend": false,
        "template": {
         "data": {
          "bar": [
           {
            "error_x": {
             "color": "#2a3f5f"
            },
            "error_y": {
             "color": "#2a3f5f"
            },
            "marker": {
             "line": {
              "color": "#E5ECF6",
              "width": 0.5
             }
            },
            "type": "bar"
           }
          ],
          "barpolar": [
           {
            "marker": {
             "line": {
              "color": "#E5ECF6",
              "width": 0.5
             }
            },
            "type": "barpolar"
           }
          ],
          "carpet": [
           {
            "aaxis": {
             "endlinecolor": "#2a3f5f",
             "gridcolor": "white",
             "linecolor": "white",
             "minorgridcolor": "white",
             "startlinecolor": "#2a3f5f"
            },
            "baxis": {
             "endlinecolor": "#2a3f5f",
             "gridcolor": "white",
             "linecolor": "white",
             "minorgridcolor": "white",
             "startlinecolor": "#2a3f5f"
            },
            "type": "carpet"
           }
          ],
          "choropleth": [
           {
            "colorbar": {
             "outlinewidth": 0,
             "ticks": ""
            },
            "type": "choropleth"
           }
          ],
          "contour": [
           {
            "colorbar": {
             "outlinewidth": 0,
             "ticks": ""
            },
            "colorscale": [
             [
              0,
              "#0d0887"
             ],
             [
              0.1111111111111111,
              "#46039f"
             ],
             [
              0.2222222222222222,
              "#7201a8"
             ],
             [
              0.3333333333333333,
              "#9c179e"
             ],
             [
              0.4444444444444444,
              "#bd3786"
             ],
             [
              0.5555555555555556,
              "#d8576b"
             ],
             [
              0.6666666666666666,
              "#ed7953"
             ],
             [
              0.7777777777777778,
              "#fb9f3a"
             ],
             [
              0.8888888888888888,
              "#fdca26"
             ],
             [
              1,
              "#f0f921"
             ]
            ],
            "type": "contour"
           }
          ],
          "contourcarpet": [
           {
            "colorbar": {
             "outlinewidth": 0,
             "ticks": ""
            },
            "type": "contourcarpet"
           }
          ],
          "heatmap": [
           {
            "colorbar": {
             "outlinewidth": 0,
             "ticks": ""
            },
            "colorscale": [
             [
              0,
              "#0d0887"
             ],
             [
              0.1111111111111111,
              "#46039f"
             ],
             [
              0.2222222222222222,
              "#7201a8"
             ],
             [
              0.3333333333333333,
              "#9c179e"
             ],
             [
              0.4444444444444444,
              "#bd3786"
             ],
             [
              0.5555555555555556,
              "#d8576b"
             ],
             [
              0.6666666666666666,
              "#ed7953"
             ],
             [
              0.7777777777777778,
              "#fb9f3a"
             ],
             [
              0.8888888888888888,
              "#fdca26"
             ],
             [
              1,
              "#f0f921"
             ]
            ],
            "type": "heatmap"
           }
          ],
          "heatmapgl": [
           {
            "colorbar": {
             "outlinewidth": 0,
             "ticks": ""
            },
            "colorscale": [
             [
              0,
              "#0d0887"
             ],
             [
              0.1111111111111111,
              "#46039f"
             ],
             [
              0.2222222222222222,
              "#7201a8"
             ],
             [
              0.3333333333333333,
              "#9c179e"
             ],
             [
              0.4444444444444444,
              "#bd3786"
             ],
             [
              0.5555555555555556,
              "#d8576b"
             ],
             [
              0.6666666666666666,
              "#ed7953"
             ],
             [
              0.7777777777777778,
              "#fb9f3a"
             ],
             [
              0.8888888888888888,
              "#fdca26"
             ],
             [
              1,
              "#f0f921"
             ]
            ],
            "type": "heatmapgl"
           }
          ],
          "histogram": [
           {
            "marker": {
             "colorbar": {
              "outlinewidth": 0,
              "ticks": ""
             }
            },
            "type": "histogram"
           }
          ],
          "histogram2d": [
           {
            "colorbar": {
             "outlinewidth": 0,
             "ticks": ""
            },
            "colorscale": [
             [
              0,
              "#0d0887"
             ],
             [
              0.1111111111111111,
              "#46039f"
             ],
             [
              0.2222222222222222,
              "#7201a8"
             ],
             [
              0.3333333333333333,
              "#9c179e"
             ],
             [
              0.4444444444444444,
              "#bd3786"
             ],
             [
              0.5555555555555556,
              "#d8576b"
             ],
             [
              0.6666666666666666,
              "#ed7953"
             ],
             [
              0.7777777777777778,
              "#fb9f3a"
             ],
             [
              0.8888888888888888,
              "#fdca26"
             ],
             [
              1,
              "#f0f921"
             ]
            ],
            "type": "histogram2d"
           }
          ],
          "histogram2dcontour": [
           {
            "colorbar": {
             "outlinewidth": 0,
             "ticks": ""
            },
            "colorscale": [
             [
              0,
              "#0d0887"
             ],
             [
              0.1111111111111111,
              "#46039f"
             ],
             [
              0.2222222222222222,
              "#7201a8"
             ],
             [
              0.3333333333333333,
              "#9c179e"
             ],
             [
              0.4444444444444444,
              "#bd3786"
             ],
             [
              0.5555555555555556,
              "#d8576b"
             ],
             [
              0.6666666666666666,
              "#ed7953"
             ],
             [
              0.7777777777777778,
              "#fb9f3a"
             ],
             [
              0.8888888888888888,
              "#fdca26"
             ],
             [
              1,
              "#f0f921"
             ]
            ],
            "type": "histogram2dcontour"
           }
          ],
          "mesh3d": [
           {
            "colorbar": {
             "outlinewidth": 0,
             "ticks": ""
            },
            "type": "mesh3d"
           }
          ],
          "parcoords": [
           {
            "line": {
             "colorbar": {
              "outlinewidth": 0,
              "ticks": ""
             }
            },
            "type": "parcoords"
           }
          ],
          "pie": [
           {
            "automargin": true,
            "type": "pie"
           }
          ],
          "scatter": [
           {
            "marker": {
             "colorbar": {
              "outlinewidth": 0,
              "ticks": ""
             }
            },
            "type": "scatter"
           }
          ],
          "scatter3d": [
           {
            "line": {
             "colorbar": {
              "outlinewidth": 0,
              "ticks": ""
             }
            },
            "marker": {
             "colorbar": {
              "outlinewidth": 0,
              "ticks": ""
             }
            },
            "type": "scatter3d"
           }
          ],
          "scattercarpet": [
           {
            "marker": {
             "colorbar": {
              "outlinewidth": 0,
              "ticks": ""
             }
            },
            "type": "scattercarpet"
           }
          ],
          "scattergeo": [
           {
            "marker": {
             "colorbar": {
              "outlinewidth": 0,
              "ticks": ""
             }
            },
            "type": "scattergeo"
           }
          ],
          "scattergl": [
           {
            "marker": {
             "colorbar": {
              "outlinewidth": 0,
              "ticks": ""
             }
            },
            "type": "scattergl"
           }
          ],
          "scattermapbox": [
           {
            "marker": {
             "colorbar": {
              "outlinewidth": 0,
              "ticks": ""
             }
            },
            "type": "scattermapbox"
           }
          ],
          "scatterpolar": [
           {
            "marker": {
             "colorbar": {
              "outlinewidth": 0,
              "ticks": ""
             }
            },
            "type": "scatterpolar"
           }
          ],
          "scatterpolargl": [
           {
            "marker": {
             "colorbar": {
              "outlinewidth": 0,
              "ticks": ""
             }
            },
            "type": "scatterpolargl"
           }
          ],
          "scatterternary": [
           {
            "marker": {
             "colorbar": {
              "outlinewidth": 0,
              "ticks": ""
             }
            },
            "type": "scatterternary"
           }
          ],
          "surface": [
           {
            "colorbar": {
             "outlinewidth": 0,
             "ticks": ""
            },
            "colorscale": [
             [
              0,
              "#0d0887"
             ],
             [
              0.1111111111111111,
              "#46039f"
             ],
             [
              0.2222222222222222,
              "#7201a8"
             ],
             [
              0.3333333333333333,
              "#9c179e"
             ],
             [
              0.4444444444444444,
              "#bd3786"
             ],
             [
              0.5555555555555556,
              "#d8576b"
             ],
             [
              0.6666666666666666,
              "#ed7953"
             ],
             [
              0.7777777777777778,
              "#fb9f3a"
             ],
             [
              0.8888888888888888,
              "#fdca26"
             ],
             [
              1,
              "#f0f921"
             ]
            ],
            "type": "surface"
           }
          ],
          "table": [
           {
            "cells": {
             "fill": {
              "color": "#EBF0F8"
             },
             "line": {
              "color": "white"
             }
            },
            "header": {
             "fill": {
              "color": "#C8D4E3"
             },
             "line": {
              "color": "white"
             }
            },
            "type": "table"
           }
          ]
         },
         "layout": {
          "annotationdefaults": {
           "arrowcolor": "#2a3f5f",
           "arrowhead": 0,
           "arrowwidth": 1
          },
          "coloraxis": {
           "colorbar": {
            "outlinewidth": 0,
            "ticks": ""
           }
          },
          "colorscale": {
           "diverging": [
            [
             0,
             "#8e0152"
            ],
            [
             0.1,
             "#c51b7d"
            ],
            [
             0.2,
             "#de77ae"
            ],
            [
             0.3,
             "#f1b6da"
            ],
            [
             0.4,
             "#fde0ef"
            ],
            [
             0.5,
             "#f7f7f7"
            ],
            [
             0.6,
             "#e6f5d0"
            ],
            [
             0.7,
             "#b8e186"
            ],
            [
             0.8,
             "#7fbc41"
            ],
            [
             0.9,
             "#4d9221"
            ],
            [
             1,
             "#276419"
            ]
           ],
           "sequential": [
            [
             0,
             "#0d0887"
            ],
            [
             0.1111111111111111,
             "#46039f"
            ],
            [
             0.2222222222222222,
             "#7201a8"
            ],
            [
             0.3333333333333333,
             "#9c179e"
            ],
            [
             0.4444444444444444,
             "#bd3786"
            ],
            [
             0.5555555555555556,
             "#d8576b"
            ],
            [
             0.6666666666666666,
             "#ed7953"
            ],
            [
             0.7777777777777778,
             "#fb9f3a"
            ],
            [
             0.8888888888888888,
             "#fdca26"
            ],
            [
             1,
             "#f0f921"
            ]
           ],
           "sequentialminus": [
            [
             0,
             "#0d0887"
            ],
            [
             0.1111111111111111,
             "#46039f"
            ],
            [
             0.2222222222222222,
             "#7201a8"
            ],
            [
             0.3333333333333333,
             "#9c179e"
            ],
            [
             0.4444444444444444,
             "#bd3786"
            ],
            [
             0.5555555555555556,
             "#d8576b"
            ],
            [
             0.6666666666666666,
             "#ed7953"
            ],
            [
             0.7777777777777778,
             "#fb9f3a"
            ],
            [
             0.8888888888888888,
             "#fdca26"
            ],
            [
             1,
             "#f0f921"
            ]
           ]
          },
          "colorway": [
           "#636efa",
           "#EF553B",
           "#00cc96",
           "#ab63fa",
           "#FFA15A",
           "#19d3f3",
           "#FF6692",
           "#B6E880",
           "#FF97FF",
           "#FECB52"
          ],
          "font": {
           "color": "#2a3f5f"
          },
          "geo": {
           "bgcolor": "white",
           "lakecolor": "white",
           "landcolor": "#E5ECF6",
           "showlakes": true,
           "showland": true,
           "subunitcolor": "white"
          },
          "hoverlabel": {
           "align": "left"
          },
          "hovermode": "closest",
          "mapbox": {
           "style": "light"
          },
          "paper_bgcolor": "white",
          "plot_bgcolor": "#E5ECF6",
          "polar": {
           "angularaxis": {
            "gridcolor": "white",
            "linecolor": "white",
            "ticks": ""
           },
           "bgcolor": "#E5ECF6",
           "radialaxis": {
            "gridcolor": "white",
            "linecolor": "white",
            "ticks": ""
           }
          },
          "scene": {
           "xaxis": {
            "backgroundcolor": "#E5ECF6",
            "gridcolor": "white",
            "gridwidth": 2,
            "linecolor": "white",
            "showbackground": true,
            "ticks": "",
            "zerolinecolor": "white"
           },
           "yaxis": {
            "backgroundcolor": "#E5ECF6",
            "gridcolor": "white",
            "gridwidth": 2,
            "linecolor": "white",
            "showbackground": true,
            "ticks": "",
            "zerolinecolor": "white"
           },
           "zaxis": {
            "backgroundcolor": "#E5ECF6",
            "gridcolor": "white",
            "gridwidth": 2,
            "linecolor": "white",
            "showbackground": true,
            "ticks": "",
            "zerolinecolor": "white"
           }
          },
          "shapedefaults": {
           "line": {
            "color": "#2a3f5f"
           }
          },
          "ternary": {
           "aaxis": {
            "gridcolor": "white",
            "linecolor": "white",
            "ticks": ""
           },
           "baxis": {
            "gridcolor": "white",
            "linecolor": "white",
            "ticks": ""
           },
           "bgcolor": "#E5ECF6",
           "caxis": {
            "gridcolor": "white",
            "linecolor": "white",
            "ticks": ""
           }
          },
          "title": {
           "x": 0.05
          },
          "xaxis": {
           "automargin": true,
           "gridcolor": "white",
           "linecolor": "white",
           "ticks": "",
           "title": {
            "standoff": 15
           },
           "zerolinecolor": "white",
           "zerolinewidth": 2
          },
          "yaxis": {
           "automargin": true,
           "gridcolor": "white",
           "linecolor": "white",
           "ticks": "",
           "title": {
            "standoff": 15
           },
           "zerolinecolor": "white",
           "zerolinewidth": 2
          }
         }
        },
        "title": {
         "text": "Average Global Land Temperature, from 1750 - 2015"
        },
        "xaxis": {
         "title": {
          "text": "Year"
         }
        },
        "yaxis": {
         "title": {
          "text": "Average Temperature, °C"
         }
        }
       }
      },
      "text/html": [
       "<div>\n",
       "        \n",
       "        \n",
       "            <div id=\"9a87a3ce-ba37-4d2d-8c7c-fbacecd65052\" class=\"plotly-graph-div\" style=\"height:525px; width:100%;\"></div>\n",
       "            <script type=\"text/javascript\">\n",
       "                require([\"plotly\"], function(Plotly) {\n",
       "                    window.PLOTLYENV=window.PLOTLYENV || {};\n",
       "                    \n",
       "                if (document.getElementById(\"9a87a3ce-ba37-4d2d-8c7c-fbacecd65052\")) {\n",
       "                    Plotly.newPlot(\n",
       "                        '9a87a3ce-ba37-4d2d-8c7c-fbacecd65052',\n",
       "                        [{\"line\": {\"color\": \"rgb(255, 219, 204)\"}, \"mode\": \"lines\", \"name\": \"Uncertainty higher\", \"type\": \"scatter\", \"x\": [1750, 1751, 1752, 1753, 1754, 1755, 1756, 1757, 1758, 1759, 1760, 1761, 1762, 1763, 1764, 1765, 1766, 1767, 1768, 1769, 1770, 1771, 1772, 1773, 1774, 1775, 1776, 1777, 1778, 1779, 1780, 1781, 1782, 1783, 1784, 1785, 1786, 1787, 1788, 1789, 1790, 1791, 1792, 1793, 1794, 1795, 1796, 1797, 1798, 1799, 1800, 1801, 1802, 1803, 1804, 1805, 1806, 1807, 1808, 1809, 1810, 1811, 1812, 1813, 1814, 1815, 1816, 1817, 1818, 1819, 1820, 1821, 1822, 1823, 1824, 1825, 1826, 1827, 1828, 1829, 1830, 1831, 1832, 1833, 1834, 1835, 1836, 1837, 1838, 1839, 1840, 1841, 1842, 1843, 1844, 1845, 1846, 1847, 1848, 1849, 1850, 1851, 1852, 1853, 1854, 1855, 1856, 1857, 1858, 1859, 1860, 1861, 1862, 1863, 1864, 1865, 1866, 1867, 1868, 1869, 1870, 1871, 1872, 1873, 1874, 1875, 1876, 1877, 1878, 1879, 1880, 1881, 1882, 1883, 1884, 1885, 1886, 1887, 1888, 1889, 1890, 1891, 1892, 1893, 1894, 1895, 1896, 1897, 1898, 1899, 1900, 1901, 1902, 1903, 1904, 1905, 1906, 1907, 1908, 1909, 1910, 1911, 1912, 1913, 1914, 1915, 1916, 1917, 1918, 1919, 1920, 1921, 1922, 1923, 1924, 1925, 1926, 1927, 1928, 1929, 1930, 1931, 1932, 1933, 1934, 1935, 1936, 1937, 1938, 1939, 1940, 1941, 1942, 1943, 1944, 1945, 1946, 1947, 1948, 1949, 1950, 1951, 1952, 1953, 1954, 1955, 1956, 1957, 1958, 1959, 1960, 1961, 1962, 1963, 1964, 1965, 1966, 1967, 1968, 1969, 1970, 1971, 1972, 1973, 1974, 1975, 1976, 1977, 1978, 1979, 1980, 1981, 1982, 1983, 1984, 1985, 1986, 1987, 1988, 1989, 1990, 1991, 1992, 1993, 1994, 1995, 1996, 1997, 1998, 1999, 2000, 2001, 2002, 2003, 2004, 2005, 2006, 2007, 2008, 2009, 2010, 2011, 2012, 2013, 2014, 2015], \"y\": [11.357181818181818, 10.757285714285715, 8.756833333333333, 11.564083333333333, 11.963583333333336, 12.205916666666667, 12.111916666666668, 13.048000000000002, 10.1065, 11.664, 10.274083333333333, 11.917333333333332, 12.13075, 10.648333333333332, 11.175583333333332, 10.679666666666666, 11.2415, 11.184166666666666, 9.047333333333334, 10.104666666666667, 10.472583333333333, 10.45775, 10.657333333333334, 10.58225, 12.187333333333331, 11.503666666666668, 11.168166666666668, 10.699083333333334, 11.41475, 11.489083333333333, 12.017750000000001, 10.606416666666664, 10.451833333333331, 10.17525, 10.117666666666668, 9.6025, 10.783583333333333, 10.393583333333334, 11.004999999999999, 10.202833333333333, 9.754, 10.018, 9.789416666666668, 10.503583333333331, 10.505, 10.393666666666666, 10.191666666666666, 10.556250000000002, 10.573583333333332, 10.244166666666665, 10.202916666666669, 10.171333333333335, 10.427166666666666, 10.136166666666666, 10.686666666666667, 10.251666666666665, 10.004166666666665, 9.873666666666665, 9.623666666666665, 9.211833333333333, 9.233666666666664, 8.955250000000001, 9.181833333333334, 9.448750000000002, 9.760250000000001, 9.205833333333334, 9.130416666666667, 8.684000000000001, 9.658000000000001, 8.951083333333333, 9.235, 9.465916666666665, 9.563583333333334, 9.080916666666667, 9.995000000000001, 9.897166666666667, 9.916166666666669, 10.25233333333333, 9.81375, 9.261583333333332, 9.948166666666667, 9.170666666666667, 8.990583333333333, 9.2465, 9.299000000000001, 8.667833333333332, 8.86525, 8.666583333333332, 8.677249999999999, 8.811666666666666, 8.787416666666667, 8.640166666666666, 8.92025, 8.923499999999999, 8.572333333333333, 8.732666666666667, 9.6045, 8.986666666666666, 8.850833333333334, 8.898, 8.777083333333334, 9.0605, 9.018416666666665, 8.876833333333334, 9.036166666666666, 8.997916666666665, 8.756666666666666, 8.509250000000002, 8.8, 8.926666666666668, 8.586833333333333, 8.499916666666667, 8.2475, 8.859833333333333, 8.660000000000002, 8.84, 8.898166666666665, 9.071166666666667, 8.79425, 9.02775, 8.7515, 8.685333333333332, 8.782916666666665, 8.901583333333333, 8.951416666666667, 8.311083333333334, 8.513583333333333, 8.9955, 9.254666666666665, 8.62925, 8.533666666666665, 8.69025, 8.508833333333333, 8.347583333333333, 8.169916666666667, 8.344666666666669, 8.340499999999999, 8.307, 8.472916666666666, 8.688833333333333, 8.314666666666668, 8.354666666666667, 8.404666666666666, 8.402, 8.47825, 8.446250000000001, 8.52375, 8.607166666666668, 8.503666666666666, 8.721083333333333, 8.816333333333333, 8.848166666666666, 8.597166666666666, 8.510166666666667, 8.377333333333333, 8.503916666666665, 8.653999999999998, 8.204333333333334, 8.460833333333333, 8.441, 8.483083333333335, 8.424833333333336, 8.423833333333334, 8.559999999999999, 8.842416666666667, 8.839333333333332, 8.485666666666667, 8.283999999999999, 8.399083333333332, 8.649000000000001, 8.621416666666667, 8.827833333333333, 8.666583333333334, 8.675249999999998, 8.763666666666667, 8.775166666666667, 8.971499999999999, 8.770999999999999, 8.88075, 8.494166666666665, 8.873249999999999, 8.957, 8.954166666666667, 8.580916666666667, 8.868416666666668, 8.751666666666667, 8.797083333333333, 8.938416666666665, 9.104166666666666, 8.997666666666667, 8.995750000000001, 8.996500000000001, 8.957916666666666, 8.981666666666667, 9.070166666666667, 8.805166666666665, 8.899333333333335, 9.014166666666666, 8.956333333333333, 8.794999999999998, 8.551583333333335, 8.809833333333332, 8.847000000000001, 9.085833333333335, 8.747833333333332, 8.779833333333334, 8.400416666666667, 8.8905, 8.878083333333333, 8.839833333333331, 8.67725, 8.894666666666666, 8.878833333333333, 8.948333333333332, 8.502166666666666, 8.63625, 8.691583333333332, 8.78375, 8.628, 8.68025, 8.776499999999999, 8.697166666666666, 8.594916666666666, 9.048999999999998, 8.572, 8.841916666666668, 8.447833333333332, 8.934916666666666, 8.796583333333333, 8.819833333333332, 9.087, 9.253083333333333, 8.721833333333333, 9.122166666666665, 8.794416666666669, 8.751249999999999, 8.918583333333332, 9.079583333333334, 9.281666666666666, 9.009999999999998, 9.320500000000001, 9.2415, 8.919916666666666, 8.947916666666666, 9.109666666666666, 9.423499999999999, 9.123666666666667, 9.291166666666667, 9.596583333333333, 9.364333333333333, 9.284666666666668, 9.502, 9.642833333333334, 9.61625, 9.408, 9.776083333333332, 9.622499999999999, 9.821666666666664, 9.510666666666667, 9.591166666666668, 9.786499999999998, 9.598, 9.59075, 9.704166666666666, 9.660833333333333, 9.923166666666665]}, {\"fill\": \"tonexty\", \"line\": {\"color\": \"rgb(255, 219, 204)\"}, \"mode\": \"lines\", \"name\": \"Uncertainty lower\", \"type\": \"scatter\", \"x\": [1750, 1751, 1752, 1753, 1754, 1755, 1756, 1757, 1758, 1759, 1760, 1761, 1762, 1763, 1764, 1765, 1766, 1767, 1768, 1769, 1770, 1771, 1772, 1773, 1774, 1775, 1776, 1777, 1778, 1779, 1780, 1781, 1782, 1783, 1784, 1785, 1786, 1787, 1788, 1789, 1790, 1791, 1792, 1793, 1794, 1795, 1796, 1797, 1798, 1799, 1800, 1801, 1802, 1803, 1804, 1805, 1806, 1807, 1808, 1809, 1810, 1811, 1812, 1813, 1814, 1815, 1816, 1817, 1818, 1819, 1820, 1821, 1822, 1823, 1824, 1825, 1826, 1827, 1828, 1829, 1830, 1831, 1832, 1833, 1834, 1835, 1836, 1837, 1838, 1839, 1840, 1841, 1842, 1843, 1844, 1845, 1846, 1847, 1848, 1849, 1850, 1851, 1852, 1853, 1854, 1855, 1856, 1857, 1858, 1859, 1860, 1861, 1862, 1863, 1864, 1865, 1866, 1867, 1868, 1869, 1870, 1871, 1872, 1873, 1874, 1875, 1876, 1877, 1878, 1879, 1880, 1881, 1882, 1883, 1884, 1885, 1886, 1887, 1888, 1889, 1890, 1891, 1892, 1893, 1894, 1895, 1896, 1897, 1898, 1899, 1900, 1901, 1902, 1903, 1904, 1905, 1906, 1907, 1908, 1909, 1910, 1911, 1912, 1913, 1914, 1915, 1916, 1917, 1918, 1919, 1920, 1921, 1922, 1923, 1924, 1925, 1926, 1927, 1928, 1929, 1930, 1931, 1932, 1933, 1934, 1935, 1936, 1937, 1938, 1939, 1940, 1941, 1942, 1943, 1944, 1945, 1946, 1947, 1948, 1949, 1950, 1951, 1952, 1953, 1954, 1955, 1956, 1957, 1958, 1959, 1960, 1961, 1962, 1963, 1964, 1965, 1966, 1967, 1968, 1969, 1970, 1971, 1972, 1973, 1974, 1975, 1976, 1977, 1978, 1979, 1980, 1981, 1982, 1983, 1984, 1985, 1986, 1987, 1988, 1989, 1990, 1991, 1992, 1993, 1994, 1995, 1996, 1997, 1998, 1999, 2000, 2001, 2002, 2003, 2004, 2005, 2006, 2007, 2008, 2009, 2010, 2011, 2012, 2013, 2014, 2015], \"y\": [6.081545454545456, 5.194999999999999, 2.8028333333333326, 5.212083333333332, 4.975083333333334, 4.50525, 5.587249999999999, 4.9959999999999996, 3.3806666666666656, 4.306166666666666, 4.096250000000001, 5.627666666666666, 5.08225, 4.345166666666666, 5.6250833333333325, 5.824166666666666, 5.569833333333333, 5.258833333333332, 4.515333333333333, 5.284500000000001, 4.91125, 5.248583333333334, 5.729666666666667, 5.860750000000001, 5.356999999999999, 6.862500000000001, 5.439833333333333, 5.813416666666669, 5.669749999999999, 6.477416666666667, 6.848083333333333, 5.598749999999998, 5.350666666666665, 5.186416666666666, 5.606333333333334, 5.1235, 5.732749999999999, 5.6700833333333325, 5.889333333333333, 6.4655, 6.210666666666667, 6.450499999999999, 6.388583333333334, 5.95475, 6.5470000000000015, 6.307, 6.3503333333333325, 6.464916666666667, 6.766916666666666, 6.767333333333332, 6.765583333333335, 7.008000000000001, 6.729166666666666, 6.869833333333333, 7.003, 6.873833333333333, 6.863999999999998, 6.689166666666665, 5.63, 4.941000000000001, 4.611666666666666, 4.76375, 4.910666666666668, 6.031083333333335, 5.4232499999999995, 5.272833333333334, 4.744583333333333, 5.267333333333335, 5.999833333333334, 5.787250000000001, 5.997499999999998, 6.714249999999999, 6.813083333333334, 6.356416666666667, 7.099333333333334, 6.8815, 6.7970000000000015, 7.365166666666664, 6.516916666666668, 6.622083333333332, 7.085333333333334, 6.107666666666667, 5.909750000000001, 6.7795, 6.994500000000001, 6.117166666666666, 6.526416666666667, 6.084749999999998, 6.352583333333332, 6.4528333333333325, 6.805083333333334, 6.736166666666667, 7.12525, 7.423833333333333, 6.7203333333333335, 6.969666666666668, 7.5009999999999994, 7.185333333333333, 7.108166666666667, 7.070833333333334, 7.024249999999999, 7.296666666666665, 7.181916666666664, 7.206833333333333, 7.384833333333333, 7.223583333333331, 7.235166666666666, 7.007083333333334, 7.400500000000001, 7.577333333333334, 7.334833333333333, 7.193083333333335, 6.869666666666667, 7.363833333333333, 7.307166666666668, 7.515666666666667, 7.686166666666665, 7.801500000000001, 7.701583333333334, 7.836416666666667, 7.651166666666666, 7.544833333333333, 7.604749999999998, 7.800583333333334, 7.915583333333334, 7.408083333333334, 7.646583333333333, 8.083666666666666, 8.404833333333332, 7.702416666666667, 7.703833333333332, 7.851583333333333, 7.7490000000000006, 7.606249999999998, 7.377416666666667, 7.494666666666668, 7.5684999999999985, 7.522833333333333, 7.708083333333334, 7.949166666666666, 7.628666666666667, 7.684, 7.7269999999999985, 7.711499999999999, 7.84375, 7.8477500000000004, 7.906083333333332, 7.979500000000002, 7.852333333333332, 8.071583333333333, 8.186833333333333, 8.235666666666665, 8.011666666666667, 7.9301666666666675, 7.8045, 7.946416666666665, 8.104166666666666, 7.69, 7.911333333333334, 7.915500000000001, 7.9629166666666675, 7.929166666666668, 7.907000000000001, 8.035499999999999, 8.338583333333334, 8.346999999999998, 7.964833333333334, 7.762666666666665, 7.8625833333333315, 8.1155, 8.096083333333334, 8.314166666666667, 8.149416666666665, 8.169083333333333, 8.250000000000002, 8.293666666666667, 8.486166666666666, 8.273166666666667, 8.383583333333336, 7.990666666666665, 8.393916666666666, 8.4815, 8.456333333333335, 8.095583333333334, 8.388250000000003, 8.279833333333334, 8.310916666666667, 8.45825, 8.623166666666664, 8.523, 8.533583333333333, 8.540833333333335, 8.498916666666666, 8.5285, 8.619833333333334, 8.3645, 8.454500000000003, 8.58, 8.537166666666668, 8.378499999999999, 8.178916666666668, 8.4415, 8.4295, 8.661666666666667, 8.3735, 8.472666666666667, 8.15875, 8.5745, 8.669416666666667, 8.625499999999999, 8.49025, 8.700666666666667, 8.613, 8.763666666666667, 8.317166666666667, 8.418583333333334, 8.507083333333332, 8.616416666666668, 8.404666666666667, 8.509916666666667, 8.625333333333334, 8.501333333333333, 8.404250000000001, 8.847499999999998, 8.363, 8.64775, 8.246666666666666, 8.765583333333332, 8.588916666666664, 8.646999999999998, 8.873666666666665, 9.078583333333334, 8.5565, 8.934166666666666, 8.589250000000002, 8.56475, 8.74858333333333, 8.909250000000002, 9.121500000000001, 8.834, 9.147833333333333, 9.117333333333333, 8.753249999999998, 8.78525, 8.967833333333331, 9.270666666666665, 8.954166666666667, 9.113999999999999, 9.448749999999999, 9.205833333333333, 9.117666666666667, 9.327166666666669, 9.498, 9.434916666666666, 9.241166666666667, 9.62575, 9.442499999999999, 9.642666666666665, 9.352833333333335, 9.419333333333336, 9.619666666666665, 9.434, 9.423916666666667, 9.508833333333332, 9.4805, 9.73883333333333]}, {\"line\": {\"color\": \"rgb(255, 128, 0)\"}, \"name\": \"Average Temperature\", \"type\": \"scatter\", \"x\": [1750, 1751, 1752, 1753, 1754, 1755, 1756, 1757, 1758, 1759, 1760, 1761, 1762, 1763, 1764, 1765, 1766, 1767, 1768, 1769, 1770, 1771, 1772, 1773, 1774, 1775, 1776, 1777, 1778, 1779, 1780, 1781, 1782, 1783, 1784, 1785, 1786, 1787, 1788, 1789, 1790, 1791, 1792, 1793, 1794, 1795, 1796, 1797, 1798, 1799, 1800, 1801, 1802, 1803, 1804, 1805, 1806, 1807, 1808, 1809, 1810, 1811, 1812, 1813, 1814, 1815, 1816, 1817, 1818, 1819, 1820, 1821, 1822, 1823, 1824, 1825, 1826, 1827, 1828, 1829, 1830, 1831, 1832, 1833, 1834, 1835, 1836, 1837, 1838, 1839, 1840, 1841, 1842, 1843, 1844, 1845, 1846, 1847, 1848, 1849, 1850, 1851, 1852, 1853, 1854, 1855, 1856, 1857, 1858, 1859, 1860, 1861, 1862, 1863, 1864, 1865, 1866, 1867, 1868, 1869, 1870, 1871, 1872, 1873, 1874, 1875, 1876, 1877, 1878, 1879, 1880, 1881, 1882, 1883, 1884, 1885, 1886, 1887, 1888, 1889, 1890, 1891, 1892, 1893, 1894, 1895, 1896, 1897, 1898, 1899, 1900, 1901, 1902, 1903, 1904, 1905, 1906, 1907, 1908, 1909, 1910, 1911, 1912, 1913, 1914, 1915, 1916, 1917, 1918, 1919, 1920, 1921, 1922, 1923, 1924, 1925, 1926, 1927, 1928, 1929, 1930, 1931, 1932, 1933, 1934, 1935, 1936, 1937, 1938, 1939, 1940, 1941, 1942, 1943, 1944, 1945, 1946, 1947, 1948, 1949, 1950, 1951, 1952, 1953, 1954, 1955, 1956, 1957, 1958, 1959, 1960, 1961, 1962, 1963, 1964, 1965, 1966, 1967, 1968, 1969, 1970, 1971, 1972, 1973, 1974, 1975, 1976, 1977, 1978, 1979, 1980, 1981, 1982, 1983, 1984, 1985, 1986, 1987, 1988, 1989, 1990, 1991, 1992, 1993, 1994, 1995, 1996, 1997, 1998, 1999, 2000, 2001, 2002, 2003, 2004, 2005, 2006, 2007, 2008, 2009, 2010, 2011, 2012, 2013, 2014, 2015], \"y\": [8.719363636363637, 7.9761428571428565, 5.7798333333333325, 8.388083333333332, 8.469333333333335, 8.355583333333334, 8.849583333333333, 9.022, 6.743583333333333, 7.985083333333333, 7.185166666666667, 8.772499999999999, 8.6065, 7.496749999999999, 8.400333333333332, 8.251916666666666, 8.405666666666667, 8.221499999999999, 6.781333333333333, 7.694583333333334, 7.691916666666667, 7.8531666666666675, 8.1935, 8.2215, 8.772166666666665, 9.183083333333334, 8.304, 8.256250000000001, 8.54225, 8.98325, 9.432916666666667, 8.102583333333332, 7.901249999999998, 7.680833333333333, 7.862000000000001, 7.3629999999999995, 8.258166666666666, 8.031833333333333, 8.447166666666666, 8.334166666666667, 7.982333333333333, 8.23425, 8.089, 8.229166666666666, 8.526000000000002, 8.350333333333333, 8.270999999999999, 8.510583333333335, 8.67025, 8.505749999999999, 8.484250000000001, 8.589666666666668, 8.578166666666666, 8.503, 8.844833333333334, 8.56275, 8.434083333333332, 8.281416666666665, 7.626833333333333, 7.076416666666667, 6.922666666666665, 6.859500000000001, 7.046250000000001, 7.7399166666666686, 7.59175, 7.239333333333334, 6.9375, 6.975666666666668, 7.828916666666667, 7.3691666666666675, 7.616249999999998, 8.090083333333332, 8.188333333333334, 7.7186666666666675, 8.547166666666667, 8.389333333333333, 8.356583333333335, 8.808749999999998, 8.165333333333335, 7.941833333333332, 8.51675, 7.639166666666667, 7.450166666666667, 8.013, 8.14675, 7.392499999999999, 7.695833333333334, 7.375666666666665, 7.514916666666665, 7.632249999999999, 7.796250000000001, 7.688166666666667, 8.02275, 8.173666666666666, 7.646333333333334, 7.851166666666668, 8.55275, 8.086, 7.979500000000001, 7.984416666666667, 7.900666666666666, 8.178583333333332, 8.100166666666665, 8.041833333333333, 8.2105, 8.110749999999998, 7.995916666666666, 7.758166666666668, 8.10025, 8.252, 7.960833333333333, 7.846500000000002, 7.558583333333334, 8.111833333333333, 7.983583333333335, 8.177833333333334, 8.292166666666665, 8.436333333333334, 8.247916666666667, 8.432083333333333, 8.201333333333332, 8.115083333333333, 8.193833333333332, 8.351083333333333, 8.4335, 7.859583333333334, 8.080083333333333, 8.539583333333333, 8.829749999999999, 8.165833333333333, 8.118749999999999, 8.270916666666666, 8.128916666666667, 7.976916666666665, 7.773666666666667, 7.919666666666668, 7.954499999999999, 7.914916666666667, 8.0905, 8.318999999999999, 7.971666666666667, 8.019333333333334, 8.065833333333332, 8.05675, 8.161, 8.147, 8.214916666666666, 8.293333333333335, 8.177999999999999, 8.396333333333333, 8.501583333333333, 8.541916666666665, 8.304416666666667, 8.220166666666668, 8.090916666666667, 8.225166666666665, 8.379083333333332, 7.947166666666667, 8.186083333333334, 8.17825, 8.223, 8.177000000000001, 8.165416666666667, 8.297749999999999, 8.5905, 8.593166666666665, 8.22525, 8.023333333333332, 8.130833333333332, 8.38225, 8.35875, 8.571, 8.408, 8.422166666666666, 8.506833333333335, 8.534416666666667, 8.728833333333332, 8.522083333333333, 8.632166666666668, 8.242416666666665, 8.633583333333332, 8.71925, 8.705250000000001, 8.33825, 8.628333333333336, 8.51575, 8.554, 8.698333333333332, 8.863666666666665, 8.760333333333334, 8.764666666666667, 8.768666666666668, 8.728416666666666, 8.755083333333333, 8.845, 8.584833333333332, 8.676916666666669, 8.797083333333333, 8.74675, 8.586749999999999, 8.365250000000001, 8.625666666666666, 8.638250000000001, 8.873750000000001, 8.560666666666666, 8.62625, 8.279583333333333, 8.7325, 8.77375, 8.732666666666665, 8.58375, 8.797666666666666, 8.745916666666666, 8.856, 8.409666666666666, 8.527416666666667, 8.599333333333332, 8.700083333333334, 8.516333333333334, 8.595083333333333, 8.700916666666666, 8.59925, 8.499583333333334, 8.948249999999998, 8.4675, 8.744833333333334, 8.347249999999999, 8.850249999999999, 8.692749999999998, 8.733416666666665, 8.980333333333332, 9.165833333333333, 8.639166666666666, 9.028166666666666, 8.691833333333335, 8.658, 8.833583333333332, 8.994416666666668, 9.201583333333334, 8.921999999999999, 9.234166666666667, 9.179416666666667, 8.836583333333332, 8.866583333333333, 9.038749999999999, 9.347083333333332, 9.038916666666667, 9.202583333333333, 9.522666666666666, 9.285083333333333, 9.201166666666667, 9.414583333333335, 9.570416666666667, 9.525583333333334, 9.324583333333333, 9.700916666666666, 9.532499999999999, 9.732166666666664, 9.431750000000001, 9.505250000000002, 9.703083333333332, 9.516, 9.507333333333333, 9.606499999999999, 9.570666666666666, 9.830999999999998]}],\n",
       "                        {\"showlegend\": false, \"template\": {\"data\": {\"bar\": [{\"error_x\": {\"color\": \"#2a3f5f\"}, \"error_y\": {\"color\": \"#2a3f5f\"}, \"marker\": {\"line\": {\"color\": \"#E5ECF6\", \"width\": 0.5}}, \"type\": \"bar\"}], \"barpolar\": [{\"marker\": {\"line\": {\"color\": \"#E5ECF6\", \"width\": 0.5}}, \"type\": \"barpolar\"}], \"carpet\": [{\"aaxis\": {\"endlinecolor\": \"#2a3f5f\", \"gridcolor\": \"white\", \"linecolor\": \"white\", \"minorgridcolor\": \"white\", \"startlinecolor\": \"#2a3f5f\"}, \"baxis\": {\"endlinecolor\": \"#2a3f5f\", \"gridcolor\": \"white\", \"linecolor\": \"white\", \"minorgridcolor\": \"white\", \"startlinecolor\": \"#2a3f5f\"}, \"type\": \"carpet\"}], \"choropleth\": [{\"colorbar\": {\"outlinewidth\": 0, \"ticks\": \"\"}, \"type\": \"choropleth\"}], \"contour\": [{\"colorbar\": {\"outlinewidth\": 0, \"ticks\": \"\"}, \"colorscale\": [[0.0, \"#0d0887\"], [0.1111111111111111, \"#46039f\"], [0.2222222222222222, \"#7201a8\"], [0.3333333333333333, \"#9c179e\"], [0.4444444444444444, \"#bd3786\"], [0.5555555555555556, \"#d8576b\"], [0.6666666666666666, \"#ed7953\"], [0.7777777777777778, \"#fb9f3a\"], [0.8888888888888888, \"#fdca26\"], [1.0, \"#f0f921\"]], \"type\": \"contour\"}], \"contourcarpet\": [{\"colorbar\": {\"outlinewidth\": 0, \"ticks\": \"\"}, \"type\": \"contourcarpet\"}], \"heatmap\": [{\"colorbar\": {\"outlinewidth\": 0, \"ticks\": \"\"}, \"colorscale\": [[0.0, \"#0d0887\"], [0.1111111111111111, \"#46039f\"], [0.2222222222222222, \"#7201a8\"], [0.3333333333333333, \"#9c179e\"], [0.4444444444444444, \"#bd3786\"], [0.5555555555555556, \"#d8576b\"], [0.6666666666666666, \"#ed7953\"], [0.7777777777777778, \"#fb9f3a\"], [0.8888888888888888, \"#fdca26\"], [1.0, \"#f0f921\"]], \"type\": \"heatmap\"}], \"heatmapgl\": [{\"colorbar\": {\"outlinewidth\": 0, \"ticks\": \"\"}, \"colorscale\": [[0.0, \"#0d0887\"], [0.1111111111111111, \"#46039f\"], [0.2222222222222222, \"#7201a8\"], [0.3333333333333333, \"#9c179e\"], [0.4444444444444444, \"#bd3786\"], [0.5555555555555556, \"#d8576b\"], [0.6666666666666666, \"#ed7953\"], [0.7777777777777778, \"#fb9f3a\"], [0.8888888888888888, \"#fdca26\"], [1.0, \"#f0f921\"]], \"type\": \"heatmapgl\"}], \"histogram\": [{\"marker\": {\"colorbar\": {\"outlinewidth\": 0, \"ticks\": \"\"}}, \"type\": \"histogram\"}], \"histogram2d\": [{\"colorbar\": {\"outlinewidth\": 0, \"ticks\": \"\"}, \"colorscale\": [[0.0, \"#0d0887\"], [0.1111111111111111, \"#46039f\"], [0.2222222222222222, \"#7201a8\"], [0.3333333333333333, \"#9c179e\"], [0.4444444444444444, \"#bd3786\"], [0.5555555555555556, \"#d8576b\"], [0.6666666666666666, \"#ed7953\"], [0.7777777777777778, \"#fb9f3a\"], [0.8888888888888888, \"#fdca26\"], [1.0, \"#f0f921\"]], \"type\": \"histogram2d\"}], \"histogram2dcontour\": [{\"colorbar\": {\"outlinewidth\": 0, \"ticks\": \"\"}, \"colorscale\": [[0.0, \"#0d0887\"], [0.1111111111111111, \"#46039f\"], [0.2222222222222222, \"#7201a8\"], [0.3333333333333333, \"#9c179e\"], [0.4444444444444444, \"#bd3786\"], [0.5555555555555556, \"#d8576b\"], [0.6666666666666666, \"#ed7953\"], [0.7777777777777778, \"#fb9f3a\"], [0.8888888888888888, \"#fdca26\"], [1.0, \"#f0f921\"]], \"type\": \"histogram2dcontour\"}], \"mesh3d\": [{\"colorbar\": {\"outlinewidth\": 0, \"ticks\": \"\"}, \"type\": \"mesh3d\"}], \"parcoords\": [{\"line\": {\"colorbar\": {\"outlinewidth\": 0, \"ticks\": \"\"}}, \"type\": \"parcoords\"}], \"pie\": [{\"automargin\": true, \"type\": \"pie\"}], \"scatter\": [{\"marker\": {\"colorbar\": {\"outlinewidth\": 0, \"ticks\": \"\"}}, \"type\": \"scatter\"}], \"scatter3d\": [{\"line\": {\"colorbar\": {\"outlinewidth\": 0, \"ticks\": \"\"}}, \"marker\": {\"colorbar\": {\"outlinewidth\": 0, \"ticks\": \"\"}}, \"type\": \"scatter3d\"}], \"scattercarpet\": [{\"marker\": {\"colorbar\": {\"outlinewidth\": 0, \"ticks\": \"\"}}, \"type\": \"scattercarpet\"}], \"scattergeo\": [{\"marker\": {\"colorbar\": {\"outlinewidth\": 0, \"ticks\": \"\"}}, \"type\": \"scattergeo\"}], \"scattergl\": [{\"marker\": {\"colorbar\": {\"outlinewidth\": 0, \"ticks\": \"\"}}, \"type\": \"scattergl\"}], \"scattermapbox\": [{\"marker\": {\"colorbar\": {\"outlinewidth\": 0, \"ticks\": \"\"}}, \"type\": \"scattermapbox\"}], \"scatterpolar\": [{\"marker\": {\"colorbar\": {\"outlinewidth\": 0, \"ticks\": \"\"}}, \"type\": \"scatterpolar\"}], \"scatterpolargl\": [{\"marker\": {\"colorbar\": {\"outlinewidth\": 0, \"ticks\": \"\"}}, \"type\": \"scatterpolargl\"}], \"scatterternary\": [{\"marker\": {\"colorbar\": {\"outlinewidth\": 0, \"ticks\": \"\"}}, \"type\": \"scatterternary\"}], \"surface\": [{\"colorbar\": {\"outlinewidth\": 0, \"ticks\": \"\"}, \"colorscale\": [[0.0, \"#0d0887\"], [0.1111111111111111, \"#46039f\"], [0.2222222222222222, \"#7201a8\"], [0.3333333333333333, \"#9c179e\"], [0.4444444444444444, \"#bd3786\"], [0.5555555555555556, \"#d8576b\"], [0.6666666666666666, \"#ed7953\"], [0.7777777777777778, \"#fb9f3a\"], [0.8888888888888888, \"#fdca26\"], [1.0, \"#f0f921\"]], \"type\": \"surface\"}], \"table\": [{\"cells\": {\"fill\": {\"color\": \"#EBF0F8\"}, \"line\": {\"color\": \"white\"}}, \"header\": {\"fill\": {\"color\": \"#C8D4E3\"}, \"line\": {\"color\": \"white\"}}, \"type\": \"table\"}]}, \"layout\": {\"annotationdefaults\": {\"arrowcolor\": \"#2a3f5f\", \"arrowhead\": 0, \"arrowwidth\": 1}, \"coloraxis\": {\"colorbar\": {\"outlinewidth\": 0, \"ticks\": \"\"}}, \"colorscale\": {\"diverging\": [[0, \"#8e0152\"], [0.1, \"#c51b7d\"], [0.2, \"#de77ae\"], [0.3, \"#f1b6da\"], [0.4, \"#fde0ef\"], [0.5, \"#f7f7f7\"], [0.6, \"#e6f5d0\"], [0.7, \"#b8e186\"], [0.8, \"#7fbc41\"], [0.9, \"#4d9221\"], [1, \"#276419\"]], \"sequential\": [[0.0, \"#0d0887\"], [0.1111111111111111, \"#46039f\"], [0.2222222222222222, \"#7201a8\"], [0.3333333333333333, \"#9c179e\"], [0.4444444444444444, \"#bd3786\"], [0.5555555555555556, \"#d8576b\"], [0.6666666666666666, \"#ed7953\"], [0.7777777777777778, \"#fb9f3a\"], [0.8888888888888888, \"#fdca26\"], [1.0, \"#f0f921\"]], \"sequentialminus\": [[0.0, \"#0d0887\"], [0.1111111111111111, \"#46039f\"], [0.2222222222222222, \"#7201a8\"], [0.3333333333333333, \"#9c179e\"], [0.4444444444444444, \"#bd3786\"], [0.5555555555555556, \"#d8576b\"], [0.6666666666666666, \"#ed7953\"], [0.7777777777777778, \"#fb9f3a\"], [0.8888888888888888, \"#fdca26\"], [1.0, \"#f0f921\"]]}, \"colorway\": [\"#636efa\", \"#EF553B\", \"#00cc96\", \"#ab63fa\", \"#FFA15A\", \"#19d3f3\", \"#FF6692\", \"#B6E880\", \"#FF97FF\", \"#FECB52\"], \"font\": {\"color\": \"#2a3f5f\"}, \"geo\": {\"bgcolor\": \"white\", \"lakecolor\": \"white\", \"landcolor\": \"#E5ECF6\", \"showlakes\": true, \"showland\": true, \"subunitcolor\": \"white\"}, \"hoverlabel\": {\"align\": \"left\"}, \"hovermode\": \"closest\", \"mapbox\": {\"style\": \"light\"}, \"paper_bgcolor\": \"white\", \"plot_bgcolor\": \"#E5ECF6\", \"polar\": {\"angularaxis\": {\"gridcolor\": \"white\", \"linecolor\": \"white\", \"ticks\": \"\"}, \"bgcolor\": \"#E5ECF6\", \"radialaxis\": {\"gridcolor\": \"white\", \"linecolor\": \"white\", \"ticks\": \"\"}}, \"scene\": {\"xaxis\": {\"backgroundcolor\": \"#E5ECF6\", \"gridcolor\": \"white\", \"gridwidth\": 2, \"linecolor\": \"white\", \"showbackground\": true, \"ticks\": \"\", \"zerolinecolor\": \"white\"}, \"yaxis\": {\"backgroundcolor\": \"#E5ECF6\", \"gridcolor\": \"white\", \"gridwidth\": 2, \"linecolor\": \"white\", \"showbackground\": true, \"ticks\": \"\", \"zerolinecolor\": \"white\"}, \"zaxis\": {\"backgroundcolor\": \"#E5ECF6\", \"gridcolor\": \"white\", \"gridwidth\": 2, \"linecolor\": \"white\", \"showbackground\": true, \"ticks\": \"\", \"zerolinecolor\": \"white\"}}, \"shapedefaults\": {\"line\": {\"color\": \"#2a3f5f\"}}, \"ternary\": {\"aaxis\": {\"gridcolor\": \"white\", \"linecolor\": \"white\", \"ticks\": \"\"}, \"baxis\": {\"gridcolor\": \"white\", \"linecolor\": \"white\", \"ticks\": \"\"}, \"bgcolor\": \"#E5ECF6\", \"caxis\": {\"gridcolor\": \"white\", \"linecolor\": \"white\", \"ticks\": \"\"}}, \"title\": {\"x\": 0.05}, \"xaxis\": {\"automargin\": true, \"gridcolor\": \"white\", \"linecolor\": \"white\", \"ticks\": \"\", \"title\": {\"standoff\": 15}, \"zerolinecolor\": \"white\", \"zerolinewidth\": 2}, \"yaxis\": {\"automargin\": true, \"gridcolor\": \"white\", \"linecolor\": \"white\", \"ticks\": \"\", \"title\": {\"standoff\": 15}, \"zerolinecolor\": \"white\", \"zerolinewidth\": 2}}}, \"title\": {\"text\": \"Average Global Land Temperature, from 1750 - 2015\"}, \"xaxis\": {\"title\": {\"text\": \"Year\"}}, \"yaxis\": {\"title\": {\"text\": \"Average Temperature, \\u00b0C\"}}},\n",
       "                        {\"responsive\": true}\n",
       "                    ).then(function(){\n",
       "                            \n",
       "var gd = document.getElementById('9a87a3ce-ba37-4d2d-8c7c-fbacecd65052');\n",
       "var x = new MutationObserver(function (mutations, observer) {{\n",
       "        var display = window.getComputedStyle(gd).display;\n",
       "        if (!display || display === 'none') {{\n",
       "            console.log([gd, 'removed!']);\n",
       "            Plotly.purge(gd);\n",
       "            observer.disconnect();\n",
       "        }}\n",
       "}});\n",
       "\n",
       "// Listen for the removal of the full notebook cells\n",
       "var notebookContainer = gd.closest('#notebook-container');\n",
       "if (notebookContainer) {{\n",
       "    x.observe(notebookContainer, {childList: true});\n",
       "}}\n",
       "\n",
       "// Listen for the clearing of the current output cell\n",
       "var outputEl = gd.closest('.output');\n",
       "if (outputEl) {{\n",
       "    x.observe(outputEl, {childList: true});\n",
       "}}\n",
       "\n",
       "                        })\n",
       "                };\n",
       "                });\n",
       "            </script>\n",
       "        </div>"
      ]
     },
     "metadata": {},
     "output_type": "display_data"
    }
   ],
   "source": [
    "#create plotly graphs\n",
    "\n",
    "trace0 = go.Scatter(\n",
    "    x = df1plot['Year'], \n",
    "    y = df1plot['LandAverageTemperature'] + df1plot['LandAverageTemperatureUncertainty'],\n",
    "    fill= None,\n",
    "    mode='lines',\n",
    "    name='Uncertainty higher',\n",
    "    line=dict(\n",
    "        color='rgb(255, 219, 204)',\n",
    "    )\n",
    ")\n",
    "trace1 = go.Scatter(\n",
    "    x = df1plot['Year'], \n",
    "    y = df1plot['LandAverageTemperature'] - df1plot['LandAverageTemperatureUncertainty'],\n",
    "    fill='tonexty',\n",
    "    mode='lines',\n",
    "    name='Uncertainty lower',\n",
    "    line=dict(\n",
    "        color='rgb(255, 219, 204)',\n",
    "    )\n",
    ")\n",
    "\n",
    "trace2 = go.Scatter(\n",
    "    x = df1plot['Year'], \n",
    "    y = df1plot['LandAverageTemperature'],\n",
    "    name='Average Temperature',\n",
    "    line=dict(\n",
    "        color='rgb(255, 128, 0)',\n",
    "    )\n",
    ")\n",
    "data = [trace0, trace1, trace2]\n",
    "\n",
    "layout = go.Layout(\n",
    "    xaxis=dict(title='Year'),\n",
    "    yaxis=dict(title='Average Temperature, °C'),\n",
    "    title='Average Global Land Temperature, from 1750 - 2015',\n",
    "    showlegend = False)\n",
    "\n",
    "fig = go.Figure(data=data, layout=layout)\n",
    "py.iplot(fig)"
   ]
  },
  {
   "cell_type": "markdown",
   "metadata": {},
   "source": [
    "# Conclusion\n",
    "\n",
    "Firstly, we can see that temperature measurement contained a lot of uncertainty between 1750 - 1850. A hypothesis for this could be because measurement tools were less precise OR that there was not a large focus on fastidious temperature recordings which would result in smaller sample sizes / inaccuracies. However, we can see from 1850 onwards, uncertainty decreases significantly, to the point where there is a great amount of certainty in Land Average Temperature recordings from 1950 onwards. \n",
    "      \n",
    "Secondly, from the above, we can see that the global land average temperature has been on an increasing trend since 1750. In particuarl, we can see an increase in global temperatures from 1900 - 1960, before the increase significantly accelerates between 1970 - 2015. A reasoning for this could be the huge increase in industry, leading to increasing CO2 emmissions and global warming.''')"
   ]
  },
  {
   "cell_type": "markdown",
   "metadata": {},
   "source": [
    "# NEXT STEPS\n",
    "\n",
    "- Incorporate CO2 emmissions since 1750\n",
    "- Analyse by cities, seeing if there are any cities or regions being particularly affected\n"
   ]
  },
  {
   "cell_type": "code",
   "execution_count": null,
   "metadata": {},
   "outputs": [],
   "source": []
  }
 ],
 "metadata": {
  "kernelspec": {
   "display_name": "Python 3",
   "language": "python",
   "name": "python3"
  },
  "language_info": {
   "codemirror_mode": {
    "name": "ipython",
    "version": 3
   },
   "file_extension": ".py",
   "mimetype": "text/x-python",
   "name": "python",
   "nbconvert_exporter": "python",
   "pygments_lexer": "ipython3",
   "version": "3.7.4"
  }
 },
 "nbformat": 4,
 "nbformat_minor": 2
}
